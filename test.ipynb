{
 "cells": [
  {
   "cell_type": "code",
   "execution_count": 2,
   "metadata": {},
   "outputs": [],
   "source": [
    "import shap \n",
    "x,y= shap.datasets.nhanesi()"
   ]
  },
  {
   "cell_type": "code",
   "execution_count": 5,
   "metadata": {},
   "outputs": [
    {
     "data": {
      "text/plain": [
       "Index(['sex_isFemale', 'age', 'physical_activity', 'serum_albumin',\n",
       "       'alkaline_phosphatase', 'alkaline_phosphatase_isUnacceptable',\n",
       "       'alkaline_phosphatase_isTestnotdone', 'SGOT', 'SGOT_isUnacceptable',\n",
       "       'SGOT_isTestnotdone', 'BUN', 'BUN_isUnacceptable', 'BUN_isTestnotdone',\n",
       "       'calcium', 'calcium_isUnacceptable', 'calcium_isTestnotdone',\n",
       "       'creatinine', 'creatinine_isUnacceptable', 'creatinine_isTestnotdone',\n",
       "       'potassium', 'potassium_isUnacceptable', 'sodium',\n",
       "       'sodium_isUnacceptable', 'total_bilirubin',\n",
       "       'total_bilirubin_isUnacceptable', 'total_bilirubin_isTestnotdone',\n",
       "       'serum_protein', 'red_blood_cells', 'red_blood_cells_isUnacceptable',\n",
       "       'red_blood_cells_isBlankbutapplicable', 'white_blood_cells',\n",
       "       'white_blood_cells_isUnacceptable',\n",
       "       'white_blood_cells_isBlankbutapplicable', 'hemoglobin',\n",
       "       'hemoglobin_isMissing', 'hematocrit', 'hematocrit_isUnacceptable',\n",
       "       'hematocrit_isMissing', 'platelets_isNormal', 'platelets_isIncreased',\n",
       "       'platelets_isDecreased', 'platelets_isNoestimate',\n",
       "       'segmented_neutrophils', 'lymphocytes', 'monocytes', 'eosinophils',\n",
       "       'basophils', 'band_neutrophils', 'cholesterol', 'cholesterol_isMissing',\n",
       "       'urine_albumin_isNegative', 'urine_albumin_is>=30',\n",
       "       'urine_albumin_is>=100', 'urine_albumin_is>=300',\n",
       "       'urine_albumin_is>=1000', 'urine_albumin_isTrace',\n",
       "       'urine_albumin_isBlankbutapplicable', 'urine_glucose_isNegative',\n",
       "       'urine_glucose_isLight', 'urine_glucose_isMedium',\n",
       "       'urine_glucose_isDark', 'urine_glucose_isVerydark',\n",
       "       'urine_glucose_isTrace', 'urine_glucose_isBlankbutapplicable',\n",
       "       'urine_pH', 'urine_pH_isBlankbutapplicable',\n",
       "       'urine_hematest_isNegative', 'urine_hematest_isSmall',\n",
       "       'urine_hematest_isModerate', 'urine_hematest_isLarge',\n",
       "       'urine_hematest_isBlankbutapplicable', 'sedimentation_rate',\n",
       "       'sedimentation_rate_isBlankbutapplicable', 'uric_acid',\n",
       "       'uric_acid_isUnacceptable', 'uric_acid_isTestnotdone',\n",
       "       'systolic_blood_pressure', 'pulse_pressure', 'bmi'],\n",
       "      dtype='object')"
      ]
     },
     "execution_count": 5,
     "metadata": {},
     "output_type": "execute_result"
    }
   ],
   "source": [
    "x.columns"
   ]
  },
  {
   "cell_type": "code",
   "execution_count": 7,
   "metadata": {},
   "outputs": [
    {
     "data": {
      "text/plain": [
       "sex_isFemale                  True\n",
       "age                             75\n",
       "physical_activity                8\n",
       "serum_albumin                  5.7\n",
       "alkaline_phosphatase           580\n",
       "                             ...  \n",
       "uric_acid_isUnacceptable      True\n",
       "uric_acid_isTestnotdone       True\n",
       "systolic_blood_pressure        270\n",
       "pulse_pressure                 170\n",
       "bmi                         72.314\n",
       "Length: 79, dtype: object"
      ]
     },
     "execution_count": 7,
     "metadata": {},
     "output_type": "execute_result"
    }
   ],
   "source": [
    "x.max()"
   ]
  },
  {
   "cell_type": "code",
   "execution_count": 3,
   "metadata": {},
   "outputs": [
    {
     "data": {
      "text/plain": [
       "sex_isFemale                  0.595836\n",
       "age                          48.905707\n",
       "physical_activity             2.957656\n",
       "serum_albumin                 4.362309\n",
       "alkaline_phosphatase         60.169245\n",
       "                               ...    \n",
       "uric_acid_isUnacceptable      0.004417\n",
       "uric_acid_isTestnotdone       0.013741\n",
       "systolic_blood_pressure     134.133553\n",
       "pulse_pressure               50.639902\n",
       "bmi                          25.620677\n",
       "Length: 79, dtype: float64"
      ]
     },
     "execution_count": 3,
     "metadata": {},
     "output_type": "execute_result"
    }
   ],
   "source": [
    "x.mean()"
   ]
  },
  {
   "cell_type": "code",
   "execution_count": 4,
   "metadata": {},
   "outputs": [
    {
     "data": {
      "text/plain": [
       "sex_isFemale                 0.490747\n",
       "age                         15.574155\n",
       "physical_activity            0.999980\n",
       "serum_albumin                0.328457\n",
       "alkaline_phosphatase        25.892123\n",
       "                              ...    \n",
       "uric_acid_isUnacceptable     0.066314\n",
       "uric_acid_isTestnotdone      0.116417\n",
       "systolic_blood_pressure     24.383336\n",
       "pulse_pressure              18.019190\n",
       "bmi                          5.104078\n",
       "Length: 79, dtype: float64"
      ]
     },
     "execution_count": 4,
     "metadata": {},
     "output_type": "execute_result"
    }
   ],
   "source": [
    "x.std()"
   ]
  },
  {
   "cell_type": "code",
   "execution_count": 8,
   "metadata": {},
   "outputs": [
    {
     "data": {
      "text/plain": [
       "sex_isFemale                  False\n",
       "age                              25\n",
       "physical_activity                 1\n",
       "serum_albumin                   2.7\n",
       "alkaline_phosphatase            4.8\n",
       "                             ...   \n",
       "uric_acid_isUnacceptable      False\n",
       "uric_acid_isTestnotdone       False\n",
       "systolic_blood_pressure          80\n",
       "pulse_pressure                   10\n",
       "bmi                         12.4184\n",
       "Length: 79, dtype: object"
      ]
     },
     "execution_count": 8,
     "metadata": {},
     "output_type": "execute_result"
    }
   ],
   "source": [
    "x.min()"
   ]
  },
  {
   "cell_type": "code",
   "execution_count": 8,
   "metadata": {},
   "outputs": [
    {
     "data": {
      "text/plain": [
       "array([0.])"
      ]
     },
     "execution_count": 8,
     "metadata": {},
     "output_type": "execute_result"
    }
   ],
   "source": [
    "import pandas as pd\n",
    "import numpy as np\n",
    "data=pd.read_csv('./data/nutrition/nutrition.csv')\n",
    "np.unique(data['label'])\n"
   ]
  }
 ],
 "metadata": {
  "kernelspec": {
   "display_name": "CARLA-7s4zdYsf",
   "language": "python",
   "name": "python3"
  },
  "language_info": {
   "codemirror_mode": {
    "name": "ipython",
    "version": 3
   },
   "file_extension": ".py",
   "mimetype": "text/x-python",
   "name": "python",
   "nbconvert_exporter": "python",
   "pygments_lexer": "ipython3",
   "version": "3.7.16"
  },
  "orig_nbformat": 4,
  "vscode": {
   "interpreter": {
    "hash": "05951db0b7a8fb6113eda4ec48ea77d75ed33c5045908c39c7a5079655347ffc"
   }
  }
 },
 "nbformat": 4,
 "nbformat_minor": 2
}
