{
 "cells": [
  {
   "cell_type": "code",
   "execution_count": 1,
   "metadata": {},
   "outputs": [
    {
     "name": "stderr",
     "output_type": "stream",
     "text": [
      "/home/jacqueline/.local/share/virtualenvs/CARLA-7s4zdYsf/lib/python3.7/site-packages/tensorflow/python/framework/dtypes.py:516: FutureWarning: Passing (type, 1) or '1type' as a synonym of type is deprecated; in a future version of numpy, it will be understood as (type, (1,)) / '(1,)type'.\n",
      "  _np_qint8 = np.dtype([(\"qint8\", np.int8, 1)])\n",
      "/home/jacqueline/.local/share/virtualenvs/CARLA-7s4zdYsf/lib/python3.7/site-packages/tensorflow/python/framework/dtypes.py:517: FutureWarning: Passing (type, 1) or '1type' as a synonym of type is deprecated; in a future version of numpy, it will be understood as (type, (1,)) / '(1,)type'.\n",
      "  _np_quint8 = np.dtype([(\"quint8\", np.uint8, 1)])\n",
      "/home/jacqueline/.local/share/virtualenvs/CARLA-7s4zdYsf/lib/python3.7/site-packages/tensorflow/python/framework/dtypes.py:518: FutureWarning: Passing (type, 1) or '1type' as a synonym of type is deprecated; in a future version of numpy, it will be understood as (type, (1,)) / '(1,)type'.\n",
      "  _np_qint16 = np.dtype([(\"qint16\", np.int16, 1)])\n",
      "/home/jacqueline/.local/share/virtualenvs/CARLA-7s4zdYsf/lib/python3.7/site-packages/tensorflow/python/framework/dtypes.py:519: FutureWarning: Passing (type, 1) or '1type' as a synonym of type is deprecated; in a future version of numpy, it will be understood as (type, (1,)) / '(1,)type'.\n",
      "  _np_quint16 = np.dtype([(\"quint16\", np.uint16, 1)])\n",
      "/home/jacqueline/.local/share/virtualenvs/CARLA-7s4zdYsf/lib/python3.7/site-packages/tensorflow/python/framework/dtypes.py:520: FutureWarning: Passing (type, 1) or '1type' as a synonym of type is deprecated; in a future version of numpy, it will be understood as (type, (1,)) / '(1,)type'.\n",
      "  _np_qint32 = np.dtype([(\"qint32\", np.int32, 1)])\n",
      "/home/jacqueline/.local/share/virtualenvs/CARLA-7s4zdYsf/lib/python3.7/site-packages/tensorflow/python/framework/dtypes.py:525: FutureWarning: Passing (type, 1) or '1type' as a synonym of type is deprecated; in a future version of numpy, it will be understood as (type, (1,)) / '(1,)type'.\n",
      "  np_resource = np.dtype([(\"resource\", np.ubyte, 1)])\n",
      "/home/jacqueline/.local/share/virtualenvs/CARLA-7s4zdYsf/lib/python3.7/site-packages/tensorboard/compat/tensorflow_stub/dtypes.py:541: FutureWarning: Passing (type, 1) or '1type' as a synonym of type is deprecated; in a future version of numpy, it will be understood as (type, (1,)) / '(1,)type'.\n",
      "  _np_qint8 = np.dtype([(\"qint8\", np.int8, 1)])\n",
      "/home/jacqueline/.local/share/virtualenvs/CARLA-7s4zdYsf/lib/python3.7/site-packages/tensorboard/compat/tensorflow_stub/dtypes.py:542: FutureWarning: Passing (type, 1) or '1type' as a synonym of type is deprecated; in a future version of numpy, it will be understood as (type, (1,)) / '(1,)type'.\n",
      "  _np_quint8 = np.dtype([(\"quint8\", np.uint8, 1)])\n",
      "/home/jacqueline/.local/share/virtualenvs/CARLA-7s4zdYsf/lib/python3.7/site-packages/tensorboard/compat/tensorflow_stub/dtypes.py:543: FutureWarning: Passing (type, 1) or '1type' as a synonym of type is deprecated; in a future version of numpy, it will be understood as (type, (1,)) / '(1,)type'.\n",
      "  _np_qint16 = np.dtype([(\"qint16\", np.int16, 1)])\n",
      "/home/jacqueline/.local/share/virtualenvs/CARLA-7s4zdYsf/lib/python3.7/site-packages/tensorboard/compat/tensorflow_stub/dtypes.py:544: FutureWarning: Passing (type, 1) or '1type' as a synonym of type is deprecated; in a future version of numpy, it will be understood as (type, (1,)) / '(1,)type'.\n",
      "  _np_quint16 = np.dtype([(\"quint16\", np.uint16, 1)])\n",
      "/home/jacqueline/.local/share/virtualenvs/CARLA-7s4zdYsf/lib/python3.7/site-packages/tensorboard/compat/tensorflow_stub/dtypes.py:545: FutureWarning: Passing (type, 1) or '1type' as a synonym of type is deprecated; in a future version of numpy, it will be understood as (type, (1,)) / '(1,)type'.\n",
      "  _np_qint32 = np.dtype([(\"qint32\", np.int32, 1)])\n",
      "/home/jacqueline/.local/share/virtualenvs/CARLA-7s4zdYsf/lib/python3.7/site-packages/tensorboard/compat/tensorflow_stub/dtypes.py:550: FutureWarning: Passing (type, 1) or '1type' as a synonym of type is deprecated; in a future version of numpy, it will be understood as (type, (1,)) / '(1,)type'.\n",
      "  np_resource = np.dtype([(\"resource\", np.ubyte, 1)])\n",
      "Using TensorFlow backend.\n"
     ]
    },
    {
     "name": "stdout",
     "output_type": "stream",
     "text": [
      "[INFO] Using Python-MIP package version 1.12.0 [model.py <module>]\n"
     ]
    }
   ],
   "source": [
    "from carla.data.causal_model import CausalModel"
   ]
  },
  {
   "cell_type": "code",
   "execution_count": 3,
   "metadata": {},
   "outputs": [
    {
     "data": {
      "image/svg+xml": "<?xml version=\"1.0\" encoding=\"UTF-8\" standalone=\"no\"?>\n<!DOCTYPE svg PUBLIC \"-//W3C//DTD SVG 1.1//EN\"\n \"http://www.w3.org/Graphics/SVG/1.1/DTD/svg11.dtd\">\n<!-- Generated by graphviz version 2.43.0 (0)\n -->\n<!-- Title: %3 Pages: 1 -->\n<svg width=\"232pt\" height=\"260pt\"\n viewBox=\"0.00 0.00 232.24 260.00\" xmlns=\"http://www.w3.org/2000/svg\" xmlns:xlink=\"http://www.w3.org/1999/xlink\">\n<g id=\"graph0\" class=\"graph\" transform=\"scale(1 1) rotate(0) translate(4 256)\">\n<title>%3</title>\n<polygon fill=\"white\" stroke=\"transparent\" points=\"-4,4 -4,-256 228.24,-256 228.24,4 -4,4\"/>\n<!-- x4 -->\n<g id=\"node1\" class=\"node\">\n<title>x4</title>\n<ellipse fill=\"none\" stroke=\"black\" cx=\"150.21\" cy=\"-162\" rx=\"27\" ry=\"18\"/>\n<text text-anchor=\"middle\" x=\"150.21\" y=\"-158.3\" font-family=\"Times,serif\" font-size=\"14.00\">x4</text>\n</g>\n<!-- x5 -->\n<g id=\"node4\" class=\"node\">\n<title>x5</title>\n<ellipse fill=\"none\" stroke=\"black\" cx=\"150.21\" cy=\"-90\" rx=\"27\" ry=\"18\"/>\n<text text-anchor=\"middle\" x=\"150.21\" y=\"-86.3\" font-family=\"Times,serif\" font-size=\"14.00\">x5</text>\n</g>\n<!-- x4&#45;&gt;x5 -->\n<g id=\"edge10\" class=\"edge\">\n<title>x4&#45;&gt;x5</title>\n<path fill=\"none\" stroke=\"black\" d=\"M150.21,-143.7C150.21,-135.98 150.21,-126.71 150.21,-118.11\"/>\n<polygon fill=\"black\" stroke=\"black\" points=\"153.71,-118.1 150.21,-108.1 146.71,-118.1 153.71,-118.1\"/>\n</g>\n<!-- x6 -->\n<g id=\"node2\" class=\"node\">\n<title>x6</title>\n<ellipse fill=\"none\" stroke=\"black\" cx=\"40.21\" cy=\"-90\" rx=\"27\" ry=\"18\"/>\n<text text-anchor=\"middle\" x=\"40.21\" y=\"-86.3\" font-family=\"Times,serif\" font-size=\"14.00\">x6</text>\n</g>\n<!-- x7 -->\n<g id=\"node3\" class=\"node\">\n<title>x7</title>\n<ellipse fill=\"none\" stroke=\"black\" cx=\"40.21\" cy=\"-18\" rx=\"27\" ry=\"18\"/>\n<text text-anchor=\"middle\" x=\"40.21\" y=\"-14.3\" font-family=\"Times,serif\" font-size=\"14.00\">x7</text>\n</g>\n<!-- x6&#45;&gt;x7 -->\n<g id=\"edge11\" class=\"edge\">\n<title>x6&#45;&gt;x7</title>\n<path fill=\"none\" stroke=\"black\" d=\"M40.21,-71.7C40.21,-63.98 40.21,-54.71 40.21,-46.11\"/>\n<polygon fill=\"black\" stroke=\"black\" points=\"43.71,-46.1 40.21,-36.1 36.71,-46.1 43.71,-46.1\"/>\n</g>\n<!-- x3 -->\n<g id=\"node5\" class=\"node\">\n<title>x3</title>\n<ellipse fill=\"none\" stroke=\"black\" cx=\"40.21\" cy=\"-162\" rx=\"27\" ry=\"18\"/>\n<text text-anchor=\"middle\" x=\"40.21\" y=\"-158.3\" font-family=\"Times,serif\" font-size=\"14.00\">x3</text>\n</g>\n<!-- x3&#45;&gt;x6 -->\n<g id=\"edge9\" class=\"edge\">\n<title>x3&#45;&gt;x6</title>\n<path fill=\"none\" stroke=\"black\" d=\"M40.21,-143.7C40.21,-135.98 40.21,-126.71 40.21,-118.11\"/>\n<polygon fill=\"black\" stroke=\"black\" points=\"43.71,-118.1 40.21,-108.1 36.71,-118.1 43.71,-118.1\"/>\n</g>\n<!-- x1 -->\n<g id=\"node6\" class=\"node\">\n<title>x1</title>\n<ellipse fill=\"none\" stroke=\"black\" cx=\"77.21\" cy=\"-234\" rx=\"27\" ry=\"18\"/>\n<text text-anchor=\"middle\" x=\"77.21\" y=\"-230.3\" font-family=\"Times,serif\" font-size=\"14.00\">x1</text>\n</g>\n<!-- x1&#45;&gt;x4 -->\n<g id=\"edge2\" class=\"edge\">\n<title>x1&#45;&gt;x4</title>\n<path fill=\"none\" stroke=\"black\" d=\"M91.98,-218.83C102.37,-208.87 116.45,-195.37 128.16,-184.14\"/>\n<polygon fill=\"black\" stroke=\"black\" points=\"130.66,-186.59 135.46,-177.14 125.82,-181.54 130.66,-186.59\"/>\n</g>\n<!-- x1&#45;&gt;x6 -->\n<g id=\"edge4\" class=\"edge\">\n<title>x1&#45;&gt;x6</title>\n<path fill=\"none\" stroke=\"black\" d=\"M54.81,-223.69C37.49,-215.14 14.73,-200.65 4.21,-180 -6.85,-158.31 6.44,-132.39 19.88,-114.13\"/>\n<polygon fill=\"black\" stroke=\"black\" points=\"22.97,-115.86 26.39,-105.84 17.46,-111.54 22.97,-115.86\"/>\n</g>\n<!-- x1&#45;&gt;x5 -->\n<g id=\"edge3\" class=\"edge\">\n<title>x1&#45;&gt;x5</title>\n<path fill=\"none\" stroke=\"black\" d=\"M83.05,-216.13C89.65,-197.88 101.16,-168.14 114.21,-144 119.52,-134.16 126.21,-123.88 132.38,-115.02\"/>\n<polygon fill=\"black\" stroke=\"black\" points=\"135.35,-116.88 138.3,-106.7 129.65,-112.82 135.35,-116.88\"/>\n</g>\n<!-- x1&#45;&gt;x3 -->\n<g id=\"edge1\" class=\"edge\">\n<title>x1&#45;&gt;x3</title>\n<path fill=\"none\" stroke=\"black\" d=\"M68.62,-216.76C64.14,-208.28 58.56,-197.71 53.52,-188.2\"/>\n<polygon fill=\"black\" stroke=\"black\" points=\"56.51,-186.35 48.74,-179.15 50.32,-189.62 56.51,-186.35\"/>\n</g>\n<!-- x2 -->\n<g id=\"node7\" class=\"node\">\n<title>x2</title>\n<ellipse fill=\"none\" stroke=\"black\" cx=\"168.21\" cy=\"-234\" rx=\"27\" ry=\"18\"/>\n<text text-anchor=\"middle\" x=\"168.21\" y=\"-230.3\" font-family=\"Times,serif\" font-size=\"14.00\">x2</text>\n</g>\n<!-- x2&#45;&gt;x4 -->\n<g id=\"edge6\" class=\"edge\">\n<title>x2&#45;&gt;x4</title>\n<path fill=\"none\" stroke=\"black\" d=\"M163.85,-216.05C161.81,-208.14 159.34,-198.54 157.07,-189.69\"/>\n<polygon fill=\"black\" stroke=\"black\" points=\"160.4,-188.6 154.52,-179.79 153.62,-190.35 160.4,-188.6\"/>\n</g>\n<!-- x2&#45;&gt;x6 -->\n<g id=\"edge8\" class=\"edge\">\n<title>x2&#45;&gt;x6</title>\n<path fill=\"none\" stroke=\"black\" d=\"M178.14,-217.05C188.6,-197.99 201.59,-165.95 186.21,-144 173.21,-125.45 114.4,-108.42 75.5,-98.91\"/>\n<polygon fill=\"black\" stroke=\"black\" points=\"76.14,-95.46 65.6,-96.54 74.51,-102.27 76.14,-95.46\"/>\n</g>\n<!-- x2&#45;&gt;x5 -->\n<g id=\"edge7\" class=\"edge\">\n<title>x2&#45;&gt;x5</title>\n<path fill=\"none\" stroke=\"black\" d=\"M186.01,-220.43C197.9,-210.88 212.52,-196.58 219.21,-180 225.19,-165.16 226.28,-158.35 219.21,-144 211.13,-127.62 195.29,-114.89 180.83,-106.01\"/>\n<polygon fill=\"black\" stroke=\"black\" points=\"182.49,-102.94 172.08,-100.99 179.01,-109.01 182.49,-102.94\"/>\n</g>\n<!-- x2&#45;&gt;x3 -->\n<g id=\"edge5\" class=\"edge\">\n<title>x2&#45;&gt;x3</title>\n<path fill=\"none\" stroke=\"black\" d=\"M147.92,-221.91C126.77,-210.34 93.39,-192.09 69.4,-178.97\"/>\n<polygon fill=\"black\" stroke=\"black\" points=\"70.85,-175.77 60.39,-174.04 67.49,-181.91 70.85,-175.77\"/>\n</g>\n</g>\n</svg>\n",
      "text/plain": [
       "<graphviz.graphs.Digraph at 0x7f28a3ed3d90>"
      ]
     },
     "execution_count": 3,
     "metadata": {},
     "output_type": "execute_result"
    }
   ],
   "source": [
    "scm_output=CausalModel(\"credit\")\n",
    "#Visualize the model\n",
    "scm_output.cgm.draw()"
   ]
  },
  {
   "cell_type": "code",
   "execution_count": 4,
   "metadata": {},
   "outputs": [
    {
     "data": {
      "image/svg+xml": "<?xml version=\"1.0\" encoding=\"UTF-8\" standalone=\"no\"?>\n<!DOCTYPE svg PUBLIC \"-//W3C//DTD SVG 1.1//EN\"\n \"http://www.w3.org/Graphics/SVG/1.1/DTD/svg11.dtd\">\n<!-- Generated by graphviz version 2.43.0 (0)\n -->\n<!-- Title: %3 Pages: 1 -->\n<svg width=\"90pt\" height=\"188pt\"\n viewBox=\"0.00 0.00 90.00 188.00\" xmlns=\"http://www.w3.org/2000/svg\" xmlns:xlink=\"http://www.w3.org/1999/xlink\">\n<g id=\"graph0\" class=\"graph\" transform=\"scale(1 1) rotate(0) translate(4 184)\">\n<title>%3</title>\n<polygon fill=\"white\" stroke=\"transparent\" points=\"-4,4 -4,-184 86,-184 86,4 -4,4\"/>\n<!-- x3 -->\n<g id=\"node1\" class=\"node\">\n<title>x3</title>\n<ellipse fill=\"none\" stroke=\"black\" cx=\"27\" cy=\"-18\" rx=\"27\" ry=\"18\"/>\n<text text-anchor=\"middle\" x=\"27\" y=\"-14.3\" font-family=\"Times,serif\" font-size=\"14.00\">x3</text>\n</g>\n<!-- x1 -->\n<g id=\"node2\" class=\"node\">\n<title>x1</title>\n<ellipse fill=\"none\" stroke=\"black\" cx=\"27\" cy=\"-162\" rx=\"27\" ry=\"18\"/>\n<text text-anchor=\"middle\" x=\"27\" y=\"-158.3\" font-family=\"Times,serif\" font-size=\"14.00\">x1</text>\n</g>\n<!-- x1&#45;&gt;x3 -->\n<g id=\"edge2\" class=\"edge\">\n<title>x1&#45;&gt;x3</title>\n<path fill=\"none\" stroke=\"black\" d=\"M23.75,-143.89C21.95,-133.54 19.91,-120.06 19,-108 17.8,-92.04 17.8,-87.96 19,-72 19.64,-63.52 20.84,-54.34 22.12,-46.04\"/>\n<polygon fill=\"black\" stroke=\"black\" points=\"25.58,-46.55 23.75,-36.11 18.68,-45.41 25.58,-46.55\"/>\n</g>\n<!-- x2 -->\n<g id=\"node3\" class=\"node\">\n<title>x2</title>\n<ellipse fill=\"none\" stroke=\"black\" cx=\"55\" cy=\"-90\" rx=\"27\" ry=\"18\"/>\n<text text-anchor=\"middle\" x=\"55\" y=\"-86.3\" font-family=\"Times,serif\" font-size=\"14.00\">x2</text>\n</g>\n<!-- x1&#45;&gt;x2 -->\n<g id=\"edge1\" class=\"edge\">\n<title>x1&#45;&gt;x2</title>\n<path fill=\"none\" stroke=\"black\" d=\"M33.64,-144.41C36.91,-136.22 40.94,-126.14 44.62,-116.95\"/>\n<polygon fill=\"black\" stroke=\"black\" points=\"47.95,-118.05 48.41,-107.47 41.45,-115.45 47.95,-118.05\"/>\n</g>\n<!-- x2&#45;&gt;x3 -->\n<g id=\"edge3\" class=\"edge\">\n<title>x2&#45;&gt;x3</title>\n<path fill=\"none\" stroke=\"black\" d=\"M48.36,-72.41C45.09,-64.22 41.06,-54.14 37.38,-44.95\"/>\n<polygon fill=\"black\" stroke=\"black\" points=\"40.55,-43.45 33.59,-35.47 34.05,-46.05 40.55,-43.45\"/>\n</g>\n</g>\n</svg>\n",
      "text/plain": [
       "<graphviz.graphs.Digraph at 0x7f28a3ed3dd0>"
      ]
     },
     "execution_count": 4,
     "metadata": {},
     "output_type": "execute_result"
    }
   ],
   "source": [
    "scm_output=CausalModel(\"sanity-3-lin\")\n",
    "#Visualize the model\n",
    "scm_output.cgm.draw()"
   ]
  }
 ],
 "metadata": {
  "kernelspec": {
   "display_name": "CARLA-7s4zdYsf",
   "language": "python",
   "name": "python3"
  },
  "language_info": {
   "codemirror_mode": {
    "name": "ipython",
    "version": 3
   },
   "file_extension": ".py",
   "mimetype": "text/x-python",
   "name": "python",
   "nbconvert_exporter": "python",
   "pygments_lexer": "ipython3",
   "version": "3.7.16"
  },
  "orig_nbformat": 4,
  "vscode": {
   "interpreter": {
    "hash": "05951db0b7a8fb6113eda4ec48ea77d75ed33c5045908c39c7a5079655347ffc"
   }
  }
 },
 "nbformat": 4,
 "nbformat_minor": 2
}
