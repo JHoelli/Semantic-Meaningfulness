{
 "cells": [
  {
   "cell_type": "code",
   "execution_count": 5,
   "metadata": {},
   "outputs": [],
   "source": [
    "import shap \n",
    "x,y= shap.datasets.nhanesi()"
   ]
  },
  {
   "cell_type": "code",
   "execution_count": 7,
   "metadata": {},
   "outputs": [
    {
     "data": {
      "text/plain": [
       "sex_isFemale                  True\n",
       "age                             75\n",
       "physical_activity                8\n",
       "serum_albumin                  5.7\n",
       "alkaline_phosphatase           580\n",
       "                             ...  \n",
       "uric_acid_isUnacceptable      True\n",
       "uric_acid_isTestnotdone       True\n",
       "systolic_blood_pressure        270\n",
       "pulse_pressure                 170\n",
       "bmi                         72.314\n",
       "Length: 79, dtype: object"
      ]
     },
     "execution_count": 7,
     "metadata": {},
     "output_type": "execute_result"
    }
   ],
   "source": [
    "x.max()"
   ]
  },
  {
   "cell_type": "code",
   "execution_count": 8,
   "metadata": {},
   "outputs": [
    {
     "data": {
      "text/plain": [
       "sex_isFemale                  False\n",
       "age                              25\n",
       "physical_activity                 1\n",
       "serum_albumin                   2.7\n",
       "alkaline_phosphatase            4.8\n",
       "                             ...   \n",
       "uric_acid_isUnacceptable      False\n",
       "uric_acid_isTestnotdone       False\n",
       "systolic_blood_pressure          80\n",
       "pulse_pressure                   10\n",
       "bmi                         12.4184\n",
       "Length: 79, dtype: object"
      ]
     },
     "execution_count": 8,
     "metadata": {},
     "output_type": "execute_result"
    }
   ],
   "source": [
    "x.min()"
   ]
  },
  {
   "cell_type": "code",
   "execution_count": null,
   "metadata": {},
   "outputs": [],
   "source": []
  }
 ],
 "metadata": {
  "kernelspec": {
   "display_name": "CARLA-7s4zdYsf",
   "language": "python",
   "name": "python3"
  },
  "language_info": {
   "codemirror_mode": {
    "name": "ipython",
    "version": 3
   },
   "file_extension": ".py",
   "mimetype": "text/x-python",
   "name": "python",
   "nbconvert_exporter": "python",
   "pygments_lexer": "ipython3",
   "version": "3.7.16"
  },
  "orig_nbformat": 4,
  "vscode": {
   "interpreter": {
    "hash": "05951db0b7a8fb6113eda4ec48ea77d75ed33c5045908c39c7a5079655347ffc"
   }
  }
 },
 "nbformat": 4,
 "nbformat_minor": 2
}
