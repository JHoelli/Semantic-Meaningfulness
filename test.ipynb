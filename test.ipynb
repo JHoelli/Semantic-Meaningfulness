{
 "cells": [
  {
   "cell_type": "code",
   "execution_count": 1,
   "metadata": {},
   "outputs": [
    {
     "name": "stderr",
     "output_type": "stream",
     "text": [
      "/home/jacqueline/.local/share/virtualenvs/CARLA-7s4zdYsf/lib/python3.7/site-packages/tensorflow/python/framework/dtypes.py:516: FutureWarning: Passing (type, 1) or '1type' as a synonym of type is deprecated; in a future version of numpy, it will be understood as (type, (1,)) / '(1,)type'.\n",
      "  _np_qint8 = np.dtype([(\"qint8\", np.int8, 1)])\n",
      "/home/jacqueline/.local/share/virtualenvs/CARLA-7s4zdYsf/lib/python3.7/site-packages/tensorflow/python/framework/dtypes.py:517: FutureWarning: Passing (type, 1) or '1type' as a synonym of type is deprecated; in a future version of numpy, it will be understood as (type, (1,)) / '(1,)type'.\n",
      "  _np_quint8 = np.dtype([(\"quint8\", np.uint8, 1)])\n",
      "/home/jacqueline/.local/share/virtualenvs/CARLA-7s4zdYsf/lib/python3.7/site-packages/tensorflow/python/framework/dtypes.py:518: FutureWarning: Passing (type, 1) or '1type' as a synonym of type is deprecated; in a future version of numpy, it will be understood as (type, (1,)) / '(1,)type'.\n",
      "  _np_qint16 = np.dtype([(\"qint16\", np.int16, 1)])\n",
      "/home/jacqueline/.local/share/virtualenvs/CARLA-7s4zdYsf/lib/python3.7/site-packages/tensorflow/python/framework/dtypes.py:519: FutureWarning: Passing (type, 1) or '1type' as a synonym of type is deprecated; in a future version of numpy, it will be understood as (type, (1,)) / '(1,)type'.\n",
      "  _np_quint16 = np.dtype([(\"quint16\", np.uint16, 1)])\n",
      "/home/jacqueline/.local/share/virtualenvs/CARLA-7s4zdYsf/lib/python3.7/site-packages/tensorflow/python/framework/dtypes.py:520: FutureWarning: Passing (type, 1) or '1type' as a synonym of type is deprecated; in a future version of numpy, it will be understood as (type, (1,)) / '(1,)type'.\n",
      "  _np_qint32 = np.dtype([(\"qint32\", np.int32, 1)])\n",
      "/home/jacqueline/.local/share/virtualenvs/CARLA-7s4zdYsf/lib/python3.7/site-packages/tensorflow/python/framework/dtypes.py:525: FutureWarning: Passing (type, 1) or '1type' as a synonym of type is deprecated; in a future version of numpy, it will be understood as (type, (1,)) / '(1,)type'.\n",
      "  np_resource = np.dtype([(\"resource\", np.ubyte, 1)])\n",
      "/home/jacqueline/.local/share/virtualenvs/CARLA-7s4zdYsf/lib/python3.7/site-packages/tensorboard/compat/tensorflow_stub/dtypes.py:541: FutureWarning: Passing (type, 1) or '1type' as a synonym of type is deprecated; in a future version of numpy, it will be understood as (type, (1,)) / '(1,)type'.\n",
      "  _np_qint8 = np.dtype([(\"qint8\", np.int8, 1)])\n",
      "/home/jacqueline/.local/share/virtualenvs/CARLA-7s4zdYsf/lib/python3.7/site-packages/tensorboard/compat/tensorflow_stub/dtypes.py:542: FutureWarning: Passing (type, 1) or '1type' as a synonym of type is deprecated; in a future version of numpy, it will be understood as (type, (1,)) / '(1,)type'.\n",
      "  _np_quint8 = np.dtype([(\"quint8\", np.uint8, 1)])\n",
      "/home/jacqueline/.local/share/virtualenvs/CARLA-7s4zdYsf/lib/python3.7/site-packages/tensorboard/compat/tensorflow_stub/dtypes.py:543: FutureWarning: Passing (type, 1) or '1type' as a synonym of type is deprecated; in a future version of numpy, it will be understood as (type, (1,)) / '(1,)type'.\n",
      "  _np_qint16 = np.dtype([(\"qint16\", np.int16, 1)])\n",
      "/home/jacqueline/.local/share/virtualenvs/CARLA-7s4zdYsf/lib/python3.7/site-packages/tensorboard/compat/tensorflow_stub/dtypes.py:544: FutureWarning: Passing (type, 1) or '1type' as a synonym of type is deprecated; in a future version of numpy, it will be understood as (type, (1,)) / '(1,)type'.\n",
      "  _np_quint16 = np.dtype([(\"quint16\", np.uint16, 1)])\n",
      "/home/jacqueline/.local/share/virtualenvs/CARLA-7s4zdYsf/lib/python3.7/site-packages/tensorboard/compat/tensorflow_stub/dtypes.py:545: FutureWarning: Passing (type, 1) or '1type' as a synonym of type is deprecated; in a future version of numpy, it will be understood as (type, (1,)) / '(1,)type'.\n",
      "  _np_qint32 = np.dtype([(\"qint32\", np.int32, 1)])\n",
      "/home/jacqueline/.local/share/virtualenvs/CARLA-7s4zdYsf/lib/python3.7/site-packages/tensorboard/compat/tensorflow_stub/dtypes.py:550: FutureWarning: Passing (type, 1) or '1type' as a synonym of type is deprecated; in a future version of numpy, it will be understood as (type, (1,)) / '(1,)type'.\n",
      "  np_resource = np.dtype([(\"resource\", np.ubyte, 1)])\n",
      "Using TensorFlow backend.\n"
     ]
    },
    {
     "name": "stdout",
     "output_type": "stream",
     "text": [
      "[INFO] Using Python-MIP package version 1.12.0 [model.py <module>]\n"
     ]
    }
   ],
   "source": [
    "from carla.data.causal_model import CausalModel"
   ]
  },
  {
   "cell_type": "code",
   "execution_count": 2,
   "metadata": {},
   "outputs": [
    {
     "data": {
      "image/svg+xml": "<?xml version=\"1.0\" encoding=\"UTF-8\" standalone=\"no\"?>\n<!DOCTYPE svg PUBLIC \"-//W3C//DTD SVG 1.1//EN\"\n \"http://www.w3.org/Graphics/SVG/1.1/DTD/svg11.dtd\">\n<!-- Generated by graphviz version 2.43.0 (0)\n -->\n<!-- Title: %3 Pages: 1 -->\n<svg width=\"232pt\" height=\"260pt\"\n viewBox=\"0.00 0.00 232.24 260.00\" xmlns=\"http://www.w3.org/2000/svg\" xmlns:xlink=\"http://www.w3.org/1999/xlink\">\n<g id=\"graph0\" class=\"graph\" transform=\"scale(1 1) rotate(0) translate(4 256)\">\n<title>%3</title>\n<polygon fill=\"white\" stroke=\"transparent\" points=\"-4,4 -4,-256 228.24,-256 228.24,4 -4,4\"/>\n<!-- x6 -->\n<g id=\"node1\" class=\"node\">\n<title>x6</title>\n<ellipse fill=\"none\" stroke=\"black\" cx=\"150.21\" cy=\"-90\" rx=\"27\" ry=\"18\"/>\n<text text-anchor=\"middle\" x=\"150.21\" y=\"-86.3\" font-family=\"Times,serif\" font-size=\"14.00\">x6</text>\n</g>\n<!-- x7 -->\n<g id=\"node7\" class=\"node\">\n<title>x7</title>\n<ellipse fill=\"none\" stroke=\"black\" cx=\"150.21\" cy=\"-18\" rx=\"27\" ry=\"18\"/>\n<text text-anchor=\"middle\" x=\"150.21\" y=\"-14.3\" font-family=\"Times,serif\" font-size=\"14.00\">x7</text>\n</g>\n<!-- x6&#45;&gt;x7 -->\n<g id=\"edge11\" class=\"edge\">\n<title>x6&#45;&gt;x7</title>\n<path fill=\"none\" stroke=\"black\" d=\"M150.21,-71.7C150.21,-63.98 150.21,-54.71 150.21,-46.11\"/>\n<polygon fill=\"black\" stroke=\"black\" points=\"153.71,-46.1 150.21,-36.1 146.71,-46.1 153.71,-46.1\"/>\n</g>\n<!-- x1 -->\n<g id=\"node2\" class=\"node\">\n<title>x1</title>\n<ellipse fill=\"none\" stroke=\"black\" cx=\"77.21\" cy=\"-234\" rx=\"27\" ry=\"18\"/>\n<text text-anchor=\"middle\" x=\"77.21\" y=\"-230.3\" font-family=\"Times,serif\" font-size=\"14.00\">x1</text>\n</g>\n<!-- x1&#45;&gt;x6 -->\n<g id=\"edge4\" class=\"edge\">\n<title>x1&#45;&gt;x6</title>\n<path fill=\"none\" stroke=\"black\" d=\"M83.05,-216.13C89.65,-197.88 101.16,-168.14 114.21,-144 119.52,-134.16 126.21,-123.88 132.38,-115.02\"/>\n<polygon fill=\"black\" stroke=\"black\" points=\"135.35,-116.88 138.3,-106.7 129.65,-112.82 135.35,-116.88\"/>\n</g>\n<!-- x5 -->\n<g id=\"node3\" class=\"node\">\n<title>x5</title>\n<ellipse fill=\"none\" stroke=\"black\" cx=\"40.21\" cy=\"-90\" rx=\"27\" ry=\"18\"/>\n<text text-anchor=\"middle\" x=\"40.21\" y=\"-86.3\" font-family=\"Times,serif\" font-size=\"14.00\">x5</text>\n</g>\n<!-- x1&#45;&gt;x5 -->\n<g id=\"edge3\" class=\"edge\">\n<title>x1&#45;&gt;x5</title>\n<path fill=\"none\" stroke=\"black\" d=\"M54.81,-223.69C37.49,-215.14 14.73,-200.65 4.21,-180 -6.85,-158.31 6.44,-132.39 19.88,-114.13\"/>\n<polygon fill=\"black\" stroke=\"black\" points=\"22.97,-115.86 26.39,-105.84 17.46,-111.54 22.97,-115.86\"/>\n</g>\n<!-- x4 -->\n<g id=\"node5\" class=\"node\">\n<title>x4</title>\n<ellipse fill=\"none\" stroke=\"black\" cx=\"40.21\" cy=\"-162\" rx=\"27\" ry=\"18\"/>\n<text text-anchor=\"middle\" x=\"40.21\" y=\"-158.3\" font-family=\"Times,serif\" font-size=\"14.00\">x4</text>\n</g>\n<!-- x1&#45;&gt;x4 -->\n<g id=\"edge2\" class=\"edge\">\n<title>x1&#45;&gt;x4</title>\n<path fill=\"none\" stroke=\"black\" d=\"M68.62,-216.76C64.14,-208.28 58.56,-197.71 53.52,-188.2\"/>\n<polygon fill=\"black\" stroke=\"black\" points=\"56.51,-186.35 48.74,-179.15 50.32,-189.62 56.51,-186.35\"/>\n</g>\n<!-- x3 -->\n<g id=\"node6\" class=\"node\">\n<title>x3</title>\n<ellipse fill=\"none\" stroke=\"black\" cx=\"150.21\" cy=\"-162\" rx=\"27\" ry=\"18\"/>\n<text text-anchor=\"middle\" x=\"150.21\" y=\"-158.3\" font-family=\"Times,serif\" font-size=\"14.00\">x3</text>\n</g>\n<!-- x1&#45;&gt;x3 -->\n<g id=\"edge1\" class=\"edge\">\n<title>x1&#45;&gt;x3</title>\n<path fill=\"none\" stroke=\"black\" d=\"M91.98,-218.83C102.37,-208.87 116.45,-195.37 128.16,-184.14\"/>\n<polygon fill=\"black\" stroke=\"black\" points=\"130.66,-186.59 135.46,-177.14 125.82,-181.54 130.66,-186.59\"/>\n</g>\n<!-- x2 -->\n<g id=\"node4\" class=\"node\">\n<title>x2</title>\n<ellipse fill=\"none\" stroke=\"black\" cx=\"168.21\" cy=\"-234\" rx=\"27\" ry=\"18\"/>\n<text text-anchor=\"middle\" x=\"168.21\" y=\"-230.3\" font-family=\"Times,serif\" font-size=\"14.00\">x2</text>\n</g>\n<!-- x2&#45;&gt;x6 -->\n<g id=\"edge8\" class=\"edge\">\n<title>x2&#45;&gt;x6</title>\n<path fill=\"none\" stroke=\"black\" d=\"M186.01,-220.43C197.9,-210.88 212.52,-196.58 219.21,-180 225.19,-165.16 226.28,-158.35 219.21,-144 211.13,-127.62 195.29,-114.89 180.83,-106.01\"/>\n<polygon fill=\"black\" stroke=\"black\" points=\"182.49,-102.94 172.08,-100.99 179.01,-109.01 182.49,-102.94\"/>\n</g>\n<!-- x2&#45;&gt;x5 -->\n<g id=\"edge7\" class=\"edge\">\n<title>x2&#45;&gt;x5</title>\n<path fill=\"none\" stroke=\"black\" d=\"M178.14,-217.05C188.6,-197.99 201.59,-165.95 186.21,-144 173.21,-125.45 114.4,-108.42 75.5,-98.91\"/>\n<polygon fill=\"black\" stroke=\"black\" points=\"76.14,-95.46 65.6,-96.54 74.51,-102.27 76.14,-95.46\"/>\n</g>\n<!-- x2&#45;&gt;x4 -->\n<g id=\"edge6\" class=\"edge\">\n<title>x2&#45;&gt;x4</title>\n<path fill=\"none\" stroke=\"black\" d=\"M147.92,-221.91C126.77,-210.34 93.39,-192.09 69.4,-178.97\"/>\n<polygon fill=\"black\" stroke=\"black\" points=\"70.85,-175.77 60.39,-174.04 67.49,-181.91 70.85,-175.77\"/>\n</g>\n<!-- x2&#45;&gt;x3 -->\n<g id=\"edge5\" class=\"edge\">\n<title>x2&#45;&gt;x3</title>\n<path fill=\"none\" stroke=\"black\" d=\"M163.85,-216.05C161.81,-208.14 159.34,-198.54 157.07,-189.69\"/>\n<polygon fill=\"black\" stroke=\"black\" points=\"160.4,-188.6 154.52,-179.79 153.62,-190.35 160.4,-188.6\"/>\n</g>\n<!-- x4&#45;&gt;x5 -->\n<g id=\"edge10\" class=\"edge\">\n<title>x4&#45;&gt;x5</title>\n<path fill=\"none\" stroke=\"black\" d=\"M40.21,-143.7C40.21,-135.98 40.21,-126.71 40.21,-118.11\"/>\n<polygon fill=\"black\" stroke=\"black\" points=\"43.71,-118.1 40.21,-108.1 36.71,-118.1 43.71,-118.1\"/>\n</g>\n<!-- x3&#45;&gt;x6 -->\n<g id=\"edge9\" class=\"edge\">\n<title>x3&#45;&gt;x6</title>\n<path fill=\"none\" stroke=\"black\" d=\"M150.21,-143.7C150.21,-135.98 150.21,-126.71 150.21,-118.11\"/>\n<polygon fill=\"black\" stroke=\"black\" points=\"153.71,-118.1 150.21,-108.1 146.71,-118.1 153.71,-118.1\"/>\n</g>\n</g>\n</svg>\n",
      "text/plain": [
       "<graphviz.graphs.Digraph at 0x7efbf84c5f10>"
      ]
     },
     "execution_count": 2,
     "metadata": {},
     "output_type": "execute_result"
    }
   ],
   "source": [
    "scm_output=CausalModel(\"credit\")\n",
    "#Visualize the model\n",
    "scm_output.cgm.draw()"
   ]
  },
  {
   "cell_type": "code",
   "execution_count": 3,
   "metadata": {},
   "outputs": [
    {
     "data": {
      "image/svg+xml": "<?xml version=\"1.0\" encoding=\"UTF-8\" standalone=\"no\"?>\n<!DOCTYPE svg PUBLIC \"-//W3C//DTD SVG 1.1//EN\"\n \"http://www.w3.org/Graphics/SVG/1.1/DTD/svg11.dtd\">\n<!-- Generated by graphviz version 2.43.0 (0)\n -->\n<!-- Title: %3 Pages: 1 -->\n<svg width=\"89pt\" height=\"188pt\"\n viewBox=\"0.00 0.00 89.00 188.00\" xmlns=\"http://www.w3.org/2000/svg\" xmlns:xlink=\"http://www.w3.org/1999/xlink\">\n<g id=\"graph0\" class=\"graph\" transform=\"scale(1 1) rotate(0) translate(4 184)\">\n<title>%3</title>\n<polygon fill=\"white\" stroke=\"transparent\" points=\"-4,4 -4,-184 85,-184 85,4 -4,4\"/>\n<!-- x2 -->\n<g id=\"node1\" class=\"node\">\n<title>x2</title>\n<ellipse fill=\"none\" stroke=\"black\" cx=\"27\" cy=\"-90\" rx=\"27\" ry=\"18\"/>\n<text text-anchor=\"middle\" x=\"27\" y=\"-86.3\" font-family=\"Times,serif\" font-size=\"14.00\">x2</text>\n</g>\n<!-- x3 -->\n<g id=\"node2\" class=\"node\">\n<title>x3</title>\n<ellipse fill=\"none\" stroke=\"black\" cx=\"54\" cy=\"-18\" rx=\"27\" ry=\"18\"/>\n<text text-anchor=\"middle\" x=\"54\" y=\"-14.3\" font-family=\"Times,serif\" font-size=\"14.00\">x3</text>\n</g>\n<!-- x2&#45;&gt;x3 -->\n<g id=\"edge3\" class=\"edge\">\n<title>x2&#45;&gt;x3</title>\n<path fill=\"none\" stroke=\"black\" d=\"M33.4,-72.41C36.51,-64.34 40.33,-54.43 43.83,-45.35\"/>\n<polygon fill=\"black\" stroke=\"black\" points=\"47.13,-46.55 47.46,-35.96 40.6,-44.03 47.13,-46.55\"/>\n</g>\n<!-- x1 -->\n<g id=\"node3\" class=\"node\">\n<title>x1</title>\n<ellipse fill=\"none\" stroke=\"black\" cx=\"54\" cy=\"-162\" rx=\"27\" ry=\"18\"/>\n<text text-anchor=\"middle\" x=\"54\" y=\"-158.3\" font-family=\"Times,serif\" font-size=\"14.00\">x1</text>\n</g>\n<!-- x1&#45;&gt;x2 -->\n<g id=\"edge1\" class=\"edge\">\n<title>x1&#45;&gt;x2</title>\n<path fill=\"none\" stroke=\"black\" d=\"M47.6,-144.41C44.49,-136.34 40.67,-126.43 37.17,-117.35\"/>\n<polygon fill=\"black\" stroke=\"black\" points=\"40.4,-116.03 33.54,-107.96 33.87,-118.55 40.4,-116.03\"/>\n</g>\n<!-- x1&#45;&gt;x3 -->\n<g id=\"edge2\" class=\"edge\">\n<title>x1&#45;&gt;x3</title>\n<path fill=\"none\" stroke=\"black\" d=\"M57.65,-143.91C59.68,-133.57 61.98,-120.09 63,-108 64.34,-92.06 64.34,-87.94 63,-72 62.28,-63.5 60.93,-54.31 59.49,-46.01\"/>\n<polygon fill=\"black\" stroke=\"black\" points=\"62.91,-45.29 57.65,-36.09 56.03,-46.56 62.91,-45.29\"/>\n</g>\n</g>\n</svg>\n",
      "text/plain": [
       "<graphviz.graphs.Digraph at 0x7efbf8451b90>"
      ]
     },
     "execution_count": 3,
     "metadata": {},
     "output_type": "execute_result"
    }
   ],
   "source": [
    "scm_output=CausalModel(\"sanity-3-lin\")\n",
    "#Visualize the model\n",
    "scm_output.cgm.draw()"
   ]
  },
  {
   "cell_type": "code",
   "execution_count": 4,
   "metadata": {},
   "outputs": [],
   "source": [
    "import argparse\n",
    "import importlib\n",
    "import Semantic_Meaningfulness_v2\n",
    "from Semantic_Meaningfulness_v2 import Sematic\n",
    "importlib.reload(Semantic_Meaningfulness_v2)\n",
    "import carla.recourse_methods.catalog as recourse_catalog\n",
    "from carla.data.causal_model import CausalModel\n",
    "from carla.models.catalog import MLModelCatalog\n",
    "from carla.models.negative_instances import predict_negative_instances\n",
    "from carla.data.catalog import CsvCatalog\n",
    "#from carla.recourse_methods.catalog import recourse_catalog\n",
    "#from carla.recourse_methods.catalog.roar.model import Roar\n",
    "from carla.recourse_methods.catalog.causal_recourse import (\n",
    "    CausalRecourse,\n",
    "    constraints,\n",
    "    samplers,\n",
    ")\n",
    "#from carla.data.causal_model.synthethic_data import SCMDataset\n",
    "from carla.recourse_methods import GrowingSpheres\n",
    "from causal_recourse_do_calculus.model import CausalRecourse_DoCalculus\n",
    "from carla import Benchmark\n",
    "import numpy as np \n",
    "import pandas as pd\n",
    "import torch\n",
    "import random\n",
    "import os \n",
    "import pickle\n",
    "os.environ[\"CUDA_VISIBLE_DEVICES\"]=\"\"\n",
    "import warnings"
   ]
  },
  {
   "cell_type": "code",
   "execution_count": 5,
   "metadata": {},
   "outputs": [],
   "source": [
    "def MLP(dataset, name):\n",
    "    '''\n",
    "    Load and return MLP. \n",
    "    Attributes: \n",
    "        dataset carla.XXX : data to train on \n",
    "        name str: dataset name \n",
    "    Returns: \n",
    "        carla.XXX\n",
    "    '''\n",
    "    \n",
    "    training_params = {\"lr\": 0.002, \"epochs\": 10, \"batch_size\": 1024, \"hidden_size\": [18, 9, 3],' num_of_classes':2}\n",
    " #{\"lr\": 0.01, \"epochs\": 10, \"batch_size\": 32, \"hidden_size\": [100, 50, 10]}\n",
    "\n",
    "    ml_model = MLModelCatalog(\n",
    "    dataset, model_type=\"ann\", load_online=False, backend=\"pytorch\"\n",
    "    )\n",
    "    if os.path.isfile(f'./Results/Model/MLP_{name}.pth'):\n",
    "        model=torch.load(f'./Results/Model/MLP_{name}.pth')\n",
    "        ml_model._model=model\n",
    "    else:\n",
    "        ml_model.train(\n",
    "        learning_rate=training_params[\"lr\"],\n",
    "        epochs=training_params[\"epochs\"],\n",
    "        batch_size=training_params[\"batch_size\"],\n",
    "        hidden_size=training_params[\"hidden_size\"],\n",
    "        force_train=True\n",
    "        )\n",
    "\n",
    "        torch.save(ml_model.raw_model,f'./Results/Model/MLP_{name}.pth')\n",
    "    return ml_model\n",
    "def data(name, not_causal=True):\n",
    "    '''\n",
    "    Load and return Toy Dataset.\n",
    "    Attribute: \n",
    "        name str: Name of the Dataset. \n",
    "\n",
    "    Returns: \n",
    "        (dataset, scm, scm_output): returns Dataset, Structural Causal Model and Structural Causal Model with output Layer.\n",
    "    '''\n",
    "    scm = CausalModel(f\"{name}\")\n",
    "    scm_output = CausalModel(f\"{name}-output\")\n",
    "    if not os.path.isdir(f'./data/{name}'):\n",
    "        os.mkdir(f'./data/{name}')\n",
    "    if not os.path.isfile(f'./data/{name}/{name}.csv'):\n",
    "        print('TRUE 1 ')\n",
    "        # generate data\n",
    "        dataset = scm.generate_dataset(10000, False)\n",
    "        print(f'./data/{name}/{name}.csv')\n",
    "        dataset.df.to_csv(f'./data/{name}/{name}.csv', index=False)\n",
    "        #pickle.dump(dataset.train_raw, open(f'./data/{name}/{name}_train_raw.pkl','wb'))\n",
    "        #pickle.dump(dataset.test_raw, open(f'./data/{name}/{name}_test_raw.pkl','wb'))\n",
    "        #pickle.dump(dataset.raw, open(f'./data/{name}/{name}_raw.pkl','wb'))\n",
    "        #pickle.dump(dataset.noise, open(f'./data/{name}/{name}_noise.pkl','wb'))\n",
    "        if not_causal:\n",
    "            dataset = pd.read_csv(f'./data/{name}/{name}.csv')\n",
    "            #TODO Better way for defining continous varaibles ?\n",
    "            continuous_wachter = dataset.drop(columns=['label']).columns\n",
    "            dataset = CsvCatalog(file_path=f'./data/{name}/{name}.csv',\n",
    "                     continuous=continuous_wachter,\n",
    "                     categorical=[],\n",
    "                     immutables=[],\n",
    "                     target='label',\n",
    "                     )\n",
    "    else: \n",
    "        if not_causal:\n",
    "            dataset = pd.read_csv(f'./data/{name}/{name}.csv')\n",
    "            #TODO Better way for defining continous varaibles ?\n",
    "            continuous_wachter = dataset.drop(columns=['label']).columns\n",
    "            dataset = CsvCatalog(file_path=f'./data/{name}/{name}.csv',\n",
    "                     continuous=continuous_wachter,\n",
    "                     categorical=[],\n",
    "                     immutables=[],\n",
    "                     target='label',\n",
    "                     )\n",
    "        else: \n",
    "\n",
    "            dataset = pd.read_csv(f'./data/{name}/{name}.csv')\n",
    "            continuous_wachter = dataset.drop(columns=['label']).columns\n",
    "            #TODO Does Scaling Method Idendity make sense ? \n",
    "            dataset = CsvCatalog(file_path=f'./data/{name}/{name}.csv',\n",
    "                     continuous=continuous_wachter,\n",
    "                     categorical=[],\n",
    "                     immutables=[],\n",
    "                     target='label',\n",
    "                     )\n",
    "    \n",
    "    return dataset, scm , scm_output"
   ]
  },
  {
   "cell_type": "code",
   "execution_count": 6,
   "metadata": {},
   "outputs": [
    {
     "name": "stdout",
     "output_type": "stream",
     "text": [
      "Noise Distribution Finished\n",
      "1036\n",
      "1464\n",
      "3308\n",
      "4192\n"
     ]
    },
    {
     "data": {
      "text/plain": [
       "<carla.models.catalog.catalog.MLModelCatalog at 0x7efc1aece810>"
      ]
     },
     "execution_count": 6,
     "metadata": {},
     "output_type": "execute_result"
    }
   ],
   "source": [
    "dataset, scm , scm_output=data('economic')\n",
    "print(len(dataset._df_test[dataset._df_test['label']==1.0]))\n",
    "print(len(dataset._df_test[dataset._df_test['label']==0.0]))\n",
    "print(len(dataset._df_train[dataset._df_train['label']==1.0]))\n",
    "print(len(dataset._df_train[dataset._df_train['label']==0.0]))\n",
    "MLP(dataset, 'economic')"
   ]
  },
  {
   "cell_type": "code",
   "execution_count": 7,
   "metadata": {},
   "outputs": [
    {
     "name": "stdout",
     "output_type": "stream",
     "text": [
      "(2500, 2)\n",
      "(2500,)\n",
      "0.8432\n",
      "0.7979363714531384\n",
      "0.8552995391705069\n"
     ]
    },
    {
     "name": "stderr",
     "output_type": "stream",
     "text": [
      "/home/jacqueline/.local/share/virtualenvs/CARLA-7s4zdYsf/lib/python3.7/site-packages/carla/models/catalog/ANN_TORCH/model_ann.py:56: UserWarning: Implicit dimension choice for softmax has been deprecated. Change the call to include dim=X as an argument.\n",
      "  x = self.softmax(x)\n"
     ]
    }
   ],
   "source": [
    "import sklearn\n",
    "name='MLP_economic.pth'\n",
    "model=torch.load(f'./Results/Model/{name}')\n",
    "name=name.split('_')[1]\n",
    "name=name.replace('.pth','')\n",
    "dataset = pd.read_csv(f'./data/{name}/{name}.csv')\n",
    "continuous_wachter = dataset.drop(columns=['label']).columns\n",
    "dataset = CsvCatalog(file_path=f'./data/{name}/{name}.csv',\n",
    "                     continuous=continuous_wachter,\n",
    "                     categorical=[],\n",
    "                     immutables=[],\n",
    "                     target='label',\n",
    "                     scaling_method='MinMax')\n",
    "dataset=dataset._df_test\n",
    "data_x, data_y=dataset.drop(columns=['label']), dataset['label']\n",
    "data_pred= model.predict(data_x)\n",
    "\n",
    "print(data_pred.shape)\n",
    "print(data_y.shape)\n",
    "if len(data_pred.shape)>1:\n",
    "    data_pred= np.argmax(data_pred, axis=1)\n",
    "print(sklearn.metrics.accuracy_score(data_y,data_pred))\n",
    "print(sklearn.metrics.precision_score(data_y,data_pred))\n",
    "print(sklearn.metrics.recall_score(data_y,data_pred))\n"
   ]
  }
 ],
 "metadata": {
  "kernelspec": {
   "display_name": "CARLA-7s4zdYsf",
   "language": "python",
   "name": "python3"
  },
  "language_info": {
   "codemirror_mode": {
    "name": "ipython",
    "version": 3
   },
   "file_extension": ".py",
   "mimetype": "text/x-python",
   "name": "python",
   "nbconvert_exporter": "python",
   "pygments_lexer": "ipython3",
   "version": "3.7.16"
  },
  "orig_nbformat": 4,
  "vscode": {
   "interpreter": {
    "hash": "05951db0b7a8fb6113eda4ec48ea77d75ed33c5045908c39c7a5079655347ffc"
   }
  }
 },
 "nbformat": 4,
 "nbformat_minor": 2
}
