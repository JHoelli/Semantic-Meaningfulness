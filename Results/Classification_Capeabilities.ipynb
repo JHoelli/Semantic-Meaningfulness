{
 "cells": [
  {
   "cell_type": "code",
   "execution_count": 16,
   "metadata": {},
   "outputs": [],
   "source": [
    "import torch\n",
    "import os \n",
    "import sklearn \n",
    "import pandas as pd \n",
    "import numpy as np"
   ]
  },
  {
   "cell_type": "code",
   "execution_count": null,
   "metadata": {},
   "outputs": [],
   "source": [
    "#TODO How to get access to test set from CARLA ? "
   ]
  },
  {
   "cell_type": "code",
   "execution_count": 21,
   "metadata": {},
   "outputs": [
    {
     "name": "stdout",
     "output_type": "stream",
     "text": [
      "<class 'str'>\n",
      "(10000,)\n",
      "(10000,)\n",
      "<class 'str'>\n",
      "(10000,)\n",
      "(10000,)\n",
      "<class 'str'>\n",
      "(10000, 2)\n",
      "(10000,)\n",
      "<class 'str'>\n",
      "(10000, 2)\n",
      "(10000,)\n",
      "<class 'str'>\n",
      "(10000, 2)\n",
      "(10000,)\n",
      "<class 'str'>\n",
      "(10000, 2)\n",
      "(10000,)\n"
     ]
    },
    {
     "name": "stderr",
     "output_type": "stream",
     "text": [
      "/home/jacqueline/.local/share/virtualenvs/CARLA-7s4zdYsf/lib/python3.7/site-packages/carla/models/catalog/Linear_TORCH/model_linear.py:34: UserWarning: Implicit dimension choice for softmax has been deprecated. Change the call to include dim=X as an argument.\n",
      "  output = self.softmax(output)\n",
      "/home/jacqueline/.local/share/virtualenvs/CARLA-7s4zdYsf/lib/python3.7/site-packages/carla/models/catalog/ANN_TORCH/model_ann.py:56: UserWarning: Implicit dimension choice for softmax has been deprecated. Change the call to include dim=X as an argument.\n",
      "  x = self.softmax(x)\n"
     ]
    },
    {
     "data": {
      "text/html": [
       "<div>\n",
       "<style scoped>\n",
       "    .dataframe tbody tr th:only-of-type {\n",
       "        vertical-align: middle;\n",
       "    }\n",
       "\n",
       "    .dataframe tbody tr th {\n",
       "        vertical-align: top;\n",
       "    }\n",
       "\n",
       "    .dataframe thead th {\n",
       "        text-align: right;\n",
       "    }\n",
       "</style>\n",
       "<table border=\"1\" class=\"dataframe\">\n",
       "  <thead>\n",
       "    <tr style=\"text-align: right;\">\n",
       "      <th></th>\n",
       "      <th>model_name</th>\n",
       "      <th>accuracy</th>\n",
       "      <th>precision</th>\n",
       "      <th>recall</th>\n",
       "    </tr>\n",
       "  </thead>\n",
       "  <tbody>\n",
       "    <tr>\n",
       "      <th>0</th>\n",
       "      <td>0</td>\n",
       "      <td>0</td>\n",
       "      <td>0</td>\n",
       "      <td>0</td>\n",
       "    </tr>\n",
       "    <tr>\n",
       "      <th>1</th>\n",
       "      <td>Forest_credit.pth</td>\n",
       "      <td>0.8017</td>\n",
       "      <td>0.820322</td>\n",
       "      <td>0.781121</td>\n",
       "    </tr>\n",
       "    <tr>\n",
       "      <th>2</th>\n",
       "      <td>Forest_sanity-3-lin.pth</td>\n",
       "      <td>0.8053</td>\n",
       "      <td>0.824526</td>\n",
       "      <td>0.791481</td>\n",
       "    </tr>\n",
       "    <tr>\n",
       "      <th>3</th>\n",
       "      <td>Linear_credit.pth</td>\n",
       "      <td>0.7585</td>\n",
       "      <td>0.776283</td>\n",
       "      <td>0.73766</td>\n",
       "    </tr>\n",
       "    <tr>\n",
       "      <th>4</th>\n",
       "      <td>Linear_sanity-3-lin.pth</td>\n",
       "      <td>0.9961</td>\n",
       "      <td>0.997091</td>\n",
       "      <td>0.995353</td>\n",
       "    </tr>\n",
       "    <tr>\n",
       "      <th>5</th>\n",
       "      <td>MLP_credit.pth</td>\n",
       "      <td>0.6908</td>\n",
       "      <td>0.702747</td>\n",
       "      <td>0.679253</td>\n",
       "    </tr>\n",
       "    <tr>\n",
       "      <th>6</th>\n",
       "      <td>MLP_sanity-3-lin.pth</td>\n",
       "      <td>0.997</td>\n",
       "      <td>0.998253</td>\n",
       "      <td>0.995934</td>\n",
       "    </tr>\n",
       "  </tbody>\n",
       "</table>\n",
       "</div>"
      ],
      "text/plain": [
       "                model_name accuracy precision    recall\n",
       "0                        0        0         0         0\n",
       "1        Forest_credit.pth   0.8017  0.820322  0.781121\n",
       "2  Forest_sanity-3-lin.pth   0.8053  0.824526  0.791481\n",
       "3        Linear_credit.pth   0.7585  0.776283   0.73766\n",
       "4  Linear_sanity-3-lin.pth   0.9961  0.997091  0.995353\n",
       "5           MLP_credit.pth   0.6908  0.702747  0.679253\n",
       "6     MLP_sanity-3-lin.pth    0.997  0.998253  0.995934"
      ]
     },
     "execution_count": 21,
     "metadata": {},
     "output_type": "execute_result"
    }
   ],
   "source": [
    "model_name=['0']\n",
    "accuracy=['0']\n",
    "precision=['0']\n",
    "recall=['0']\n",
    "df=pd.DataFrame([])\n",
    "for name in os.listdir('./Model/'):\n",
    "    model=torch.load(f'./Model/{name}')\n",
    "    dataset=name.split('_')[1]\n",
    "    print(type(dataset))\n",
    "    dataset=dataset.replace('.pth','')\n",
    "    dataset = pd.read_csv(f'../data/{dataset}/{dataset}.csv')\n",
    "    data_x, data_y=dataset.drop(columns=['label']), dataset['label']\n",
    "    data_pred= model.predict(data_x)\n",
    "    model_name.append(name)\n",
    "    print(data_pred.shape)\n",
    "    print(data_y.shape)\n",
    "    if len(data_pred.shape)>1:\n",
    "        data_pred= np.argmax(data_pred, axis=1)\n",
    "\n",
    "    accuracy.append(sklearn.metrics.accuracy_score(data_y,data_pred))\n",
    "    precision.append(sklearn.metrics.precision_score(data_y,data_pred))\n",
    "    recall.append(sklearn.metrics.recall_score(data_y,data_pred))\n",
    "df['model_name']=model_name\n",
    "df['accuracy']=accuracy\n",
    "df['precision']=precision\n",
    "df['recall']=recall\n",
    "df"
   ]
  }
 ],
 "metadata": {
  "kernelspec": {
   "display_name": "CARLA-7s4zdYsf",
   "language": "python",
   "name": "python3"
  },
  "language_info": {
   "codemirror_mode": {
    "name": "ipython",
    "version": 3
   },
   "file_extension": ".py",
   "mimetype": "text/x-python",
   "name": "python",
   "nbconvert_exporter": "python",
   "pygments_lexer": "ipython3",
   "version": "3.7.16"
  },
  "orig_nbformat": 4,
  "vscode": {
   "interpreter": {
    "hash": "05951db0b7a8fb6113eda4ec48ea77d75ed33c5045908c39c7a5079655347ffc"
   }
  }
 },
 "nbformat": 4,
 "nbformat_minor": 2
}
