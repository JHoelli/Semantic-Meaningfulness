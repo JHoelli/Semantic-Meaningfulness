{
 "cells": [
  {
   "cell_type": "code",
   "execution_count": 1,
   "metadata": {},
   "outputs": [],
   "source": [
    "import pandas as pd "
   ]
  },
  {
   "cell_type": "code",
   "execution_count": 11,
   "metadata": {},
   "outputs": [
    {
     "data": {
      "text/html": [
       "<div>\n",
       "<style scoped>\n",
       "    .dataframe tbody tr th:only-of-type {\n",
       "        vertical-align: middle;\n",
       "    }\n",
       "\n",
       "    .dataframe tbody tr th {\n",
       "        vertical-align: top;\n",
       "    }\n",
       "\n",
       "    .dataframe thead th {\n",
       "        text-align: right;\n",
       "    }\n",
       "</style>\n",
       "<table border=\"1\" class=\"dataframe\">\n",
       "  <thead>\n",
       "    <tr style=\"text-align: right;\">\n",
       "      <th></th>\n",
       "      <th>semantic</th>\n",
       "      <th>correct_relationships</th>\n",
       "      <th>model</th>\n",
       "      <th>CF</th>\n",
       "      <th>dataset</th>\n",
       "    </tr>\n",
       "  </thead>\n",
       "  <tbody>\n",
       "    <tr>\n",
       "      <th>0</th>\n",
       "      <td>1.000000</td>\n",
       "      <td>1.000000</td>\n",
       "      <td>forest</td>\n",
       "      <td>FeatureTweak</td>\n",
       "      <td>credit</td>\n",
       "    </tr>\n",
       "    <tr>\n",
       "      <th>1</th>\n",
       "      <td>0.000000</td>\n",
       "      <td>1.000000</td>\n",
       "      <td>forest</td>\n",
       "      <td>FeatureTweak</td>\n",
       "      <td>credit</td>\n",
       "    </tr>\n",
       "    <tr>\n",
       "      <th>2</th>\n",
       "      <td>1.000000</td>\n",
       "      <td>0.857143</td>\n",
       "      <td>forest</td>\n",
       "      <td>FeatureTweak</td>\n",
       "      <td>credit</td>\n",
       "    </tr>\n",
       "    <tr>\n",
       "      <th>3</th>\n",
       "      <td>0.857143</td>\n",
       "      <td>0.857143</td>\n",
       "      <td>forest</td>\n",
       "      <td>FeatureTweak</td>\n",
       "      <td>credit</td>\n",
       "    </tr>\n",
       "    <tr>\n",
       "      <th>4</th>\n",
       "      <td>0.857143</td>\n",
       "      <td>0.857143</td>\n",
       "      <td>forest</td>\n",
       "      <td>FeatureTweak</td>\n",
       "      <td>credit</td>\n",
       "    </tr>\n",
       "  </tbody>\n",
       "</table>\n",
       "</div>"
      ],
      "text/plain": [
       "   semantic  correct_relationships   model            CF dataset\n",
       "0  1.000000               1.000000  forest  FeatureTweak  credit\n",
       "1  0.000000               1.000000  forest  FeatureTweak  credit\n",
       "2  1.000000               0.857143  forest  FeatureTweak  credit\n",
       "3  0.857143               0.857143  forest  FeatureTweak  credit\n",
       "4  0.857143               0.857143  forest  FeatureTweak  credit"
      ]
     },
     "execution_count": 11,
     "metadata": {},
     "output_type": "execute_result"
    }
   ],
   "source": [
    "data=pd.read_csv('./results.csv')\n",
    "data= data.drop(columns=['Unnamed: 0','Unnamed: 0.1'])\n",
    "data.head(5)"
   ]
  },
  {
   "cell_type": "code",
   "execution_count": 25,
   "metadata": {},
   "outputs": [
    {
     "data": {
      "application/vnd.plotly.v1+json": {
       "config": {
        "plotlyServerURL": "https://plot.ly"
       },
       "data": [
        {
         "name": "semantic",
         "type": "box",
         "x": [
          "forest",
          "forest",
          "forest",
          "forest",
          "forest",
          "linear",
          "linear",
          "linear",
          "linear",
          "linear",
          "linear",
          "linear",
          "linear",
          "linear",
          "linear",
          "linear",
          "linear",
          "linear",
          "linear",
          "linear",
          "linear",
          "linear",
          "linear",
          "linear",
          "linear",
          "linear",
          "linear",
          "linear",
          "linear",
          "linear",
          "linear",
          "linear",
          "linear",
          "linear",
          "linear",
          "linear",
          "linear",
          "linear",
          "linear",
          "linear",
          "linear",
          "linear",
          "linear",
          "linear",
          "linear",
          "linear",
          "linear",
          "linear",
          "linear",
          "linear",
          "linear",
          "linear",
          "linear",
          "linear",
          "linear",
          "linear",
          "MLP",
          "MLP",
          "MLP",
          "MLP",
          "MLP",
          "MLP",
          "MLP",
          "MLP",
          "MLP",
          "MLP",
          "MLP",
          "MLP",
          "MLP",
          "MLP",
          "MLP",
          "MLP",
          "MLP",
          "MLP",
          "MLP",
          "MLP",
          "MLP",
          "MLP",
          "MLP",
          "MLP",
          "MLP",
          "MLP",
          "MLP",
          "MLP",
          "MLP",
          "MLP",
          "MLP",
          "MLP",
          "MLP",
          "MLP",
          "MLP",
          "MLP",
          "MLP",
          "MLP",
          "MLP",
          "MLP",
          "MLP",
          "MLP",
          "MLP",
          "MLP",
          "MLP",
          "MLP",
          "MLP",
          "MLP",
          "MLP",
          "MLP",
          "MLP",
          "MLP",
          "MLP",
          "MLP",
          "MLP",
          "forest",
          "forest",
          "forest",
          "forest",
          "forest",
          "forest",
          "forest",
          "forest",
          "forest",
          "forest",
          "forest",
          "forest",
          "forest",
          "forest",
          "forest",
          "forest",
          "linear",
          "linear",
          "linear",
          "linear",
          "linear",
          "linear",
          "linear",
          "linear",
          "linear",
          "linear",
          "linear",
          "linear",
          "linear",
          "linear",
          "linear",
          "linear",
          "linear",
          "linear",
          "linear",
          "linear",
          "linear",
          "linear",
          "linear",
          "linear",
          "linear",
          "linear",
          "linear",
          "linear",
          "linear",
          "linear",
          "linear",
          "linear",
          "linear",
          "linear",
          "linear",
          "linear",
          "linear",
          "linear",
          "linear",
          "linear",
          "linear",
          "linear",
          null,
          null,
          null,
          null,
          null,
          null,
          null,
          null,
          null,
          null,
          "linear",
          "linear",
          "linear",
          "linear",
          "linear",
          "linear",
          "linear",
          "linear",
          "linear",
          "linear",
          "linear",
          "linear",
          "linear",
          "linear",
          "linear",
          "linear",
          "linear",
          "linear",
          "linear",
          "linear",
          "MLP",
          "MLP",
          "MLP",
          "MLP",
          "MLP",
          "MLP",
          "MLP",
          "MLP",
          "MLP",
          "MLP",
          "MLP",
          "MLP",
          "MLP",
          "MLP",
          "MLP",
          "MLP",
          "MLP",
          "MLP",
          "MLP",
          "MLP",
          "MLP",
          "MLP",
          "MLP",
          "MLP",
          "MLP",
          "MLP",
          "MLP",
          "MLP",
          "MLP",
          "MLP",
          "MLP",
          "MLP",
          "MLP",
          "MLP",
          "MLP",
          "MLP",
          "MLP",
          "MLP",
          "MLP",
          "MLP",
          "MLP",
          "MLP",
          "MLP",
          "MLP",
          "MLP",
          "MLP",
          "MLP",
          "MLP",
          "MLP",
          "MLP",
          "MLP",
          "MLP"
         ],
         "y": [
          1,
          0,
          1,
          0.8571428571428571,
          0.8571428571428571,
          0,
          0,
          0,
          0,
          0.8571428571428571,
          0.8571428571428571,
          0.8571428571428571,
          0.8571428571428571,
          0,
          0,
          0,
          0,
          0,
          0.8571428571428571,
          0.8571428571428571,
          0.8571428571428571,
          0.8571428571428571,
          0.8571428571428571,
          0,
          0,
          0.2857142857142857,
          0,
          0,
          0,
          0,
          0,
          0.2857142857142857,
          0.2857142857142857,
          0.2857142857142857,
          0.2857142857142857,
          0.2857142857142857,
          0,
          0,
          0,
          0,
          0,
          0.8571428571428571,
          0.8571428571428571,
          0.8571428571428571,
          0.8571428571428571,
          0.8571428571428571,
          0,
          0,
          0,
          0,
          0,
          0.2857142857142857,
          0.2857142857142857,
          0.2857142857142857,
          0.2857142857142857,
          0.2857142857142857,
          0,
          0,
          0.8571428571428571,
          0.8571428571428571,
          0,
          0,
          0,
          0,
          0,
          0.8571428571428571,
          0.8571428571428571,
          0.8571428571428571,
          0.8571428571428571,
          0.8571428571428571,
          0,
          0,
          0,
          0.2857142857142857,
          0.2857142857142857,
          0,
          0,
          0,
          0,
          0,
          0.2857142857142857,
          0.2857142857142857,
          0.2857142857142857,
          0.2857142857142857,
          0.2857142857142857,
          0,
          0,
          0,
          0,
          0,
          0.8571428571428571,
          0.8571428571428571,
          0.8571428571428571,
          0.8571428571428571,
          0.8571428571428571,
          0,
          0,
          0,
          0.2857142857142857,
          0.2857142857142857,
          0.2857142857142857,
          0,
          0,
          0,
          0,
          0,
          0.3333333333333333,
          0.3333333333333333,
          0.3333333333333333,
          0.3333333333333333,
          0.3333333333333333,
          0,
          1,
          0,
          1,
          1,
          1,
          1,
          1,
          1,
          1,
          1,
          0.6666666666666666,
          0.6666666666666666,
          0.6666666666666666,
          0.6666666666666666,
          0.6666666666666666,
          0,
          1,
          0,
          0,
          0,
          0,
          0,
          1,
          1,
          1,
          1,
          1,
          0,
          0,
          0,
          0,
          0,
          1,
          1,
          1,
          1,
          1,
          0,
          0,
          0,
          0,
          0,
          0.3333333333333333,
          0.3333333333333333,
          0.3333333333333333,
          0.3333333333333333,
          0.3333333333333333,
          0,
          0,
          0,
          0,
          0,
          0.3333333333333333,
          0.3333333333333333,
          0.3333333333333333,
          0.3333333333333333,
          0.3333333333333333,
          0,
          0,
          0,
          0,
          0,
          1,
          1,
          1,
          1,
          1,
          0,
          0,
          0,
          0,
          0,
          1,
          1,
          1,
          1,
          1,
          0,
          0,
          0,
          0,
          0,
          0.3333333333333333,
          0.3333333333333333,
          0.3333333333333333,
          0.3333333333333333,
          0.3333333333333333,
          0,
          1,
          0,
          0,
          0,
          0,
          0,
          1,
          1,
          1,
          1,
          1,
          0,
          0,
          0,
          0,
          0,
          1,
          1,
          1,
          1,
          1,
          0,
          0,
          0,
          0,
          0,
          0.3333333333333333,
          0.3333333333333333,
          0.3333333333333333,
          0.3333333333333333,
          0.3333333333333333,
          0,
          0,
          0,
          0,
          0,
          0.3333333333333333,
          0.3333333333333333,
          0.3333333333333333,
          0.3333333333333333,
          0.3333333333333333,
          0,
          0,
          0,
          0,
          0,
          1,
          1,
          1,
          1,
          1
         ]
        },
        {
         "name": "relationship",
         "type": "box",
         "x": [
          "forest",
          "forest",
          "forest",
          "forest",
          "forest",
          "linear",
          "linear",
          "linear",
          "linear",
          "linear",
          "linear",
          "linear",
          "linear",
          "linear",
          "linear",
          "linear",
          "linear",
          "linear",
          "linear",
          "linear",
          "linear",
          "linear",
          "linear",
          "linear",
          "linear",
          "linear",
          "linear",
          "linear",
          "linear",
          "linear",
          "linear",
          "linear",
          "linear",
          "linear",
          "linear",
          "linear",
          "linear",
          "linear",
          "linear",
          "linear",
          "linear",
          "linear",
          "linear",
          "linear",
          "linear",
          "linear",
          "linear",
          "linear",
          "linear",
          "linear",
          "linear",
          "linear",
          "linear",
          "linear",
          "linear",
          "linear",
          "MLP",
          "MLP",
          "MLP",
          "MLP",
          "MLP",
          "MLP",
          "MLP",
          "MLP",
          "MLP",
          "MLP",
          "MLP",
          "MLP",
          "MLP",
          "MLP",
          "MLP",
          "MLP",
          "MLP",
          "MLP",
          "MLP",
          "MLP",
          "MLP",
          "MLP",
          "MLP",
          "MLP",
          "MLP",
          "MLP",
          "MLP",
          "MLP",
          "MLP",
          "MLP",
          "MLP",
          "MLP",
          "MLP",
          "MLP",
          "MLP",
          "MLP",
          "MLP",
          "MLP",
          "MLP",
          "MLP",
          "MLP",
          "MLP",
          "MLP",
          "MLP",
          "MLP",
          "MLP",
          "MLP",
          "MLP",
          "MLP",
          "MLP",
          "MLP",
          "MLP",
          "MLP",
          "MLP",
          "MLP",
          "forest",
          "forest",
          "forest",
          "forest",
          "forest",
          "forest",
          "forest",
          "forest",
          "forest",
          "forest",
          "forest",
          "forest",
          "forest",
          "forest",
          "forest",
          "forest",
          "linear",
          "linear",
          "linear",
          "linear",
          "linear",
          "linear",
          "linear",
          "linear",
          "linear",
          "linear",
          "linear",
          "linear",
          "linear",
          "linear",
          "linear",
          "linear",
          "linear",
          "linear",
          "linear",
          "linear",
          "linear",
          "linear",
          "linear",
          "linear",
          "linear",
          "linear",
          "linear",
          "linear",
          "linear",
          "linear",
          "linear",
          "linear",
          "linear",
          "linear",
          "linear",
          "linear",
          "linear",
          "linear",
          "linear",
          "linear",
          "linear",
          "linear",
          null,
          null,
          null,
          null,
          null,
          null,
          null,
          null,
          null,
          null,
          "linear",
          "linear",
          "linear",
          "linear",
          "linear",
          "linear",
          "linear",
          "linear",
          "linear",
          "linear",
          "linear",
          "linear",
          "linear",
          "linear",
          "linear",
          "linear",
          "linear",
          "linear",
          "linear",
          "linear",
          "MLP",
          "MLP",
          "MLP",
          "MLP",
          "MLP",
          "MLP",
          "MLP",
          "MLP",
          "MLP",
          "MLP",
          "MLP",
          "MLP",
          "MLP",
          "MLP",
          "MLP",
          "MLP",
          "MLP",
          "MLP",
          "MLP",
          "MLP",
          "MLP",
          "MLP",
          "MLP",
          "MLP",
          "MLP",
          "MLP",
          "MLP",
          "MLP",
          "MLP",
          "MLP",
          "MLP",
          "MLP",
          "MLP",
          "MLP",
          "MLP",
          "MLP",
          "MLP",
          "MLP",
          "MLP",
          "MLP",
          "MLP",
          "MLP",
          "MLP",
          "MLP",
          "MLP",
          "MLP",
          "MLP",
          "MLP",
          "MLP",
          "MLP",
          "MLP",
          "MLP"
         ],
         "y": [
          1,
          1,
          0.8571428571428571,
          0.8571428571428571,
          0.8571428571428571,
          0,
          0,
          0,
          0,
          0.8571428571428571,
          0.8571428571428571,
          0.8571428571428571,
          0.8571428571428571,
          0,
          0,
          0,
          0,
          0,
          0.8571428571428571,
          0.8571428571428571,
          0.8571428571428571,
          0.8571428571428571,
          0.8571428571428571,
          0,
          0.2857142857142857,
          0.2857142857142857,
          0,
          0,
          0,
          0,
          0,
          0.2857142857142857,
          0.2857142857142857,
          0.2857142857142857,
          0.2857142857142857,
          0.2857142857142857,
          0,
          0,
          0,
          0,
          0,
          0.8571428571428571,
          0.8571428571428571,
          0.8571428571428571,
          0.8571428571428571,
          0.8571428571428571,
          0,
          0,
          0,
          0,
          0,
          0.2857142857142857,
          0.2857142857142857,
          0.2857142857142857,
          0.2857142857142857,
          0.2857142857142857,
          0,
          0,
          0.8571428571428571,
          0.8571428571428571,
          0,
          0,
          0,
          0,
          0,
          0.8571428571428571,
          0.8571428571428571,
          0.8571428571428571,
          0.8571428571428571,
          0.8571428571428571,
          0,
          0,
          0.2857142857142857,
          0.2857142857142857,
          0.2857142857142857,
          0,
          0,
          0,
          0,
          0,
          0.2857142857142857,
          0.2857142857142857,
          0.2857142857142857,
          0.2857142857142857,
          0.2857142857142857,
          0,
          0,
          0,
          0,
          0,
          0.8571428571428571,
          0.8571428571428571,
          0.8571428571428571,
          0.8571428571428571,
          0.8571428571428571,
          0,
          0,
          0,
          0.2857142857142857,
          0.2857142857142857,
          0.2857142857142857,
          0,
          0,
          0,
          0,
          0,
          0.3333333333333333,
          0.3333333333333333,
          0.3333333333333333,
          0.3333333333333333,
          0.3333333333333333,
          1,
          0,
          1,
          1,
          1,
          1,
          1,
          1,
          1,
          1,
          1,
          0.6666666666666666,
          0.6666666666666666,
          0.6666666666666666,
          0.6666666666666666,
          0.6666666666666666,
          0,
          1,
          0,
          0,
          0,
          0,
          0,
          1,
          1,
          1,
          1,
          1,
          0,
          0,
          0,
          0,
          0,
          1,
          1,
          1,
          1,
          1,
          0,
          0,
          0,
          0,
          0,
          0.3333333333333333,
          0.3333333333333333,
          0.3333333333333333,
          0.3333333333333333,
          0.3333333333333333,
          0,
          0,
          0,
          0,
          0,
          0.3333333333333333,
          0.3333333333333333,
          0.3333333333333333,
          0.3333333333333333,
          0.3333333333333333,
          0,
          0,
          0,
          0,
          0,
          1,
          1,
          1,
          1,
          1,
          0,
          0,
          0,
          0,
          0,
          1,
          1,
          1,
          1,
          1,
          0,
          0,
          0,
          0,
          0,
          0.3333333333333333,
          0.3333333333333333,
          0.3333333333333333,
          0.3333333333333333,
          0.3333333333333333,
          0,
          1,
          0,
          0,
          1,
          0,
          0,
          1,
          1,
          1,
          1,
          1,
          0,
          0,
          0,
          0,
          0,
          1,
          1,
          1,
          1,
          1,
          0,
          0,
          0,
          0,
          0,
          0.3333333333333333,
          0.3333333333333333,
          0.3333333333333333,
          0.3333333333333333,
          0.3333333333333333,
          0,
          0,
          0,
          0,
          0,
          0.3333333333333333,
          0.3333333333333333,
          0.3333333333333333,
          0.3333333333333333,
          0.3333333333333333,
          0,
          0,
          0,
          0,
          0,
          1,
          1,
          1,
          1,
          1
         ]
        }
       ],
       "layout": {
        "boxmode": "group",
        "template": {
         "data": {
          "bar": [
           {
            "error_x": {
             "color": "#2a3f5f"
            },
            "error_y": {
             "color": "#2a3f5f"
            },
            "marker": {
             "line": {
              "color": "#E5ECF6",
              "width": 0.5
             },
             "pattern": {
              "fillmode": "overlay",
              "size": 10,
              "solidity": 0.2
             }
            },
            "type": "bar"
           }
          ],
          "barpolar": [
           {
            "marker": {
             "line": {
              "color": "#E5ECF6",
              "width": 0.5
             },
             "pattern": {
              "fillmode": "overlay",
              "size": 10,
              "solidity": 0.2
             }
            },
            "type": "barpolar"
           }
          ],
          "carpet": [
           {
            "aaxis": {
             "endlinecolor": "#2a3f5f",
             "gridcolor": "white",
             "linecolor": "white",
             "minorgridcolor": "white",
             "startlinecolor": "#2a3f5f"
            },
            "baxis": {
             "endlinecolor": "#2a3f5f",
             "gridcolor": "white",
             "linecolor": "white",
             "minorgridcolor": "white",
             "startlinecolor": "#2a3f5f"
            },
            "type": "carpet"
           }
          ],
          "choropleth": [
           {
            "colorbar": {
             "outlinewidth": 0,
             "ticks": ""
            },
            "type": "choropleth"
           }
          ],
          "contour": [
           {
            "colorbar": {
             "outlinewidth": 0,
             "ticks": ""
            },
            "colorscale": [
             [
              0,
              "#0d0887"
             ],
             [
              0.1111111111111111,
              "#46039f"
             ],
             [
              0.2222222222222222,
              "#7201a8"
             ],
             [
              0.3333333333333333,
              "#9c179e"
             ],
             [
              0.4444444444444444,
              "#bd3786"
             ],
             [
              0.5555555555555556,
              "#d8576b"
             ],
             [
              0.6666666666666666,
              "#ed7953"
             ],
             [
              0.7777777777777778,
              "#fb9f3a"
             ],
             [
              0.8888888888888888,
              "#fdca26"
             ],
             [
              1,
              "#f0f921"
             ]
            ],
            "type": "contour"
           }
          ],
          "contourcarpet": [
           {
            "colorbar": {
             "outlinewidth": 0,
             "ticks": ""
            },
            "type": "contourcarpet"
           }
          ],
          "heatmap": [
           {
            "colorbar": {
             "outlinewidth": 0,
             "ticks": ""
            },
            "colorscale": [
             [
              0,
              "#0d0887"
             ],
             [
              0.1111111111111111,
              "#46039f"
             ],
             [
              0.2222222222222222,
              "#7201a8"
             ],
             [
              0.3333333333333333,
              "#9c179e"
             ],
             [
              0.4444444444444444,
              "#bd3786"
             ],
             [
              0.5555555555555556,
              "#d8576b"
             ],
             [
              0.6666666666666666,
              "#ed7953"
             ],
             [
              0.7777777777777778,
              "#fb9f3a"
             ],
             [
              0.8888888888888888,
              "#fdca26"
             ],
             [
              1,
              "#f0f921"
             ]
            ],
            "type": "heatmap"
           }
          ],
          "heatmapgl": [
           {
            "colorbar": {
             "outlinewidth": 0,
             "ticks": ""
            },
            "colorscale": [
             [
              0,
              "#0d0887"
             ],
             [
              0.1111111111111111,
              "#46039f"
             ],
             [
              0.2222222222222222,
              "#7201a8"
             ],
             [
              0.3333333333333333,
              "#9c179e"
             ],
             [
              0.4444444444444444,
              "#bd3786"
             ],
             [
              0.5555555555555556,
              "#d8576b"
             ],
             [
              0.6666666666666666,
              "#ed7953"
             ],
             [
              0.7777777777777778,
              "#fb9f3a"
             ],
             [
              0.8888888888888888,
              "#fdca26"
             ],
             [
              1,
              "#f0f921"
             ]
            ],
            "type": "heatmapgl"
           }
          ],
          "histogram": [
           {
            "marker": {
             "pattern": {
              "fillmode": "overlay",
              "size": 10,
              "solidity": 0.2
             }
            },
            "type": "histogram"
           }
          ],
          "histogram2d": [
           {
            "colorbar": {
             "outlinewidth": 0,
             "ticks": ""
            },
            "colorscale": [
             [
              0,
              "#0d0887"
             ],
             [
              0.1111111111111111,
              "#46039f"
             ],
             [
              0.2222222222222222,
              "#7201a8"
             ],
             [
              0.3333333333333333,
              "#9c179e"
             ],
             [
              0.4444444444444444,
              "#bd3786"
             ],
             [
              0.5555555555555556,
              "#d8576b"
             ],
             [
              0.6666666666666666,
              "#ed7953"
             ],
             [
              0.7777777777777778,
              "#fb9f3a"
             ],
             [
              0.8888888888888888,
              "#fdca26"
             ],
             [
              1,
              "#f0f921"
             ]
            ],
            "type": "histogram2d"
           }
          ],
          "histogram2dcontour": [
           {
            "colorbar": {
             "outlinewidth": 0,
             "ticks": ""
            },
            "colorscale": [
             [
              0,
              "#0d0887"
             ],
             [
              0.1111111111111111,
              "#46039f"
             ],
             [
              0.2222222222222222,
              "#7201a8"
             ],
             [
              0.3333333333333333,
              "#9c179e"
             ],
             [
              0.4444444444444444,
              "#bd3786"
             ],
             [
              0.5555555555555556,
              "#d8576b"
             ],
             [
              0.6666666666666666,
              "#ed7953"
             ],
             [
              0.7777777777777778,
              "#fb9f3a"
             ],
             [
              0.8888888888888888,
              "#fdca26"
             ],
             [
              1,
              "#f0f921"
             ]
            ],
            "type": "histogram2dcontour"
           }
          ],
          "mesh3d": [
           {
            "colorbar": {
             "outlinewidth": 0,
             "ticks": ""
            },
            "type": "mesh3d"
           }
          ],
          "parcoords": [
           {
            "line": {
             "colorbar": {
              "outlinewidth": 0,
              "ticks": ""
             }
            },
            "type": "parcoords"
           }
          ],
          "pie": [
           {
            "automargin": true,
            "type": "pie"
           }
          ],
          "scatter": [
           {
            "fillpattern": {
             "fillmode": "overlay",
             "size": 10,
             "solidity": 0.2
            },
            "type": "scatter"
           }
          ],
          "scatter3d": [
           {
            "line": {
             "colorbar": {
              "outlinewidth": 0,
              "ticks": ""
             }
            },
            "marker": {
             "colorbar": {
              "outlinewidth": 0,
              "ticks": ""
             }
            },
            "type": "scatter3d"
           }
          ],
          "scattercarpet": [
           {
            "marker": {
             "colorbar": {
              "outlinewidth": 0,
              "ticks": ""
             }
            },
            "type": "scattercarpet"
           }
          ],
          "scattergeo": [
           {
            "marker": {
             "colorbar": {
              "outlinewidth": 0,
              "ticks": ""
             }
            },
            "type": "scattergeo"
           }
          ],
          "scattergl": [
           {
            "marker": {
             "colorbar": {
              "outlinewidth": 0,
              "ticks": ""
             }
            },
            "type": "scattergl"
           }
          ],
          "scattermapbox": [
           {
            "marker": {
             "colorbar": {
              "outlinewidth": 0,
              "ticks": ""
             }
            },
            "type": "scattermapbox"
           }
          ],
          "scatterpolar": [
           {
            "marker": {
             "colorbar": {
              "outlinewidth": 0,
              "ticks": ""
             }
            },
            "type": "scatterpolar"
           }
          ],
          "scatterpolargl": [
           {
            "marker": {
             "colorbar": {
              "outlinewidth": 0,
              "ticks": ""
             }
            },
            "type": "scatterpolargl"
           }
          ],
          "scatterternary": [
           {
            "marker": {
             "colorbar": {
              "outlinewidth": 0,
              "ticks": ""
             }
            },
            "type": "scatterternary"
           }
          ],
          "surface": [
           {
            "colorbar": {
             "outlinewidth": 0,
             "ticks": ""
            },
            "colorscale": [
             [
              0,
              "#0d0887"
             ],
             [
              0.1111111111111111,
              "#46039f"
             ],
             [
              0.2222222222222222,
              "#7201a8"
             ],
             [
              0.3333333333333333,
              "#9c179e"
             ],
             [
              0.4444444444444444,
              "#bd3786"
             ],
             [
              0.5555555555555556,
              "#d8576b"
             ],
             [
              0.6666666666666666,
              "#ed7953"
             ],
             [
              0.7777777777777778,
              "#fb9f3a"
             ],
             [
              0.8888888888888888,
              "#fdca26"
             ],
             [
              1,
              "#f0f921"
             ]
            ],
            "type": "surface"
           }
          ],
          "table": [
           {
            "cells": {
             "fill": {
              "color": "#EBF0F8"
             },
             "line": {
              "color": "white"
             }
            },
            "header": {
             "fill": {
              "color": "#C8D4E3"
             },
             "line": {
              "color": "white"
             }
            },
            "type": "table"
           }
          ]
         },
         "layout": {
          "annotationdefaults": {
           "arrowcolor": "#2a3f5f",
           "arrowhead": 0,
           "arrowwidth": 1
          },
          "autotypenumbers": "strict",
          "coloraxis": {
           "colorbar": {
            "outlinewidth": 0,
            "ticks": ""
           }
          },
          "colorscale": {
           "diverging": [
            [
             0,
             "#8e0152"
            ],
            [
             0.1,
             "#c51b7d"
            ],
            [
             0.2,
             "#de77ae"
            ],
            [
             0.3,
             "#f1b6da"
            ],
            [
             0.4,
             "#fde0ef"
            ],
            [
             0.5,
             "#f7f7f7"
            ],
            [
             0.6,
             "#e6f5d0"
            ],
            [
             0.7,
             "#b8e186"
            ],
            [
             0.8,
             "#7fbc41"
            ],
            [
             0.9,
             "#4d9221"
            ],
            [
             1,
             "#276419"
            ]
           ],
           "sequential": [
            [
             0,
             "#0d0887"
            ],
            [
             0.1111111111111111,
             "#46039f"
            ],
            [
             0.2222222222222222,
             "#7201a8"
            ],
            [
             0.3333333333333333,
             "#9c179e"
            ],
            [
             0.4444444444444444,
             "#bd3786"
            ],
            [
             0.5555555555555556,
             "#d8576b"
            ],
            [
             0.6666666666666666,
             "#ed7953"
            ],
            [
             0.7777777777777778,
             "#fb9f3a"
            ],
            [
             0.8888888888888888,
             "#fdca26"
            ],
            [
             1,
             "#f0f921"
            ]
           ],
           "sequentialminus": [
            [
             0,
             "#0d0887"
            ],
            [
             0.1111111111111111,
             "#46039f"
            ],
            [
             0.2222222222222222,
             "#7201a8"
            ],
            [
             0.3333333333333333,
             "#9c179e"
            ],
            [
             0.4444444444444444,
             "#bd3786"
            ],
            [
             0.5555555555555556,
             "#d8576b"
            ],
            [
             0.6666666666666666,
             "#ed7953"
            ],
            [
             0.7777777777777778,
             "#fb9f3a"
            ],
            [
             0.8888888888888888,
             "#fdca26"
            ],
            [
             1,
             "#f0f921"
            ]
           ]
          },
          "colorway": [
           "#636efa",
           "#EF553B",
           "#00cc96",
           "#ab63fa",
           "#FFA15A",
           "#19d3f3",
           "#FF6692",
           "#B6E880",
           "#FF97FF",
           "#FECB52"
          ],
          "font": {
           "color": "#2a3f5f"
          },
          "geo": {
           "bgcolor": "white",
           "lakecolor": "white",
           "landcolor": "#E5ECF6",
           "showlakes": true,
           "showland": true,
           "subunitcolor": "white"
          },
          "hoverlabel": {
           "align": "left"
          },
          "hovermode": "closest",
          "mapbox": {
           "style": "light"
          },
          "paper_bgcolor": "white",
          "plot_bgcolor": "#E5ECF6",
          "polar": {
           "angularaxis": {
            "gridcolor": "white",
            "linecolor": "white",
            "ticks": ""
           },
           "bgcolor": "#E5ECF6",
           "radialaxis": {
            "gridcolor": "white",
            "linecolor": "white",
            "ticks": ""
           }
          },
          "scene": {
           "xaxis": {
            "backgroundcolor": "#E5ECF6",
            "gridcolor": "white",
            "gridwidth": 2,
            "linecolor": "white",
            "showbackground": true,
            "ticks": "",
            "zerolinecolor": "white"
           },
           "yaxis": {
            "backgroundcolor": "#E5ECF6",
            "gridcolor": "white",
            "gridwidth": 2,
            "linecolor": "white",
            "showbackground": true,
            "ticks": "",
            "zerolinecolor": "white"
           },
           "zaxis": {
            "backgroundcolor": "#E5ECF6",
            "gridcolor": "white",
            "gridwidth": 2,
            "linecolor": "white",
            "showbackground": true,
            "ticks": "",
            "zerolinecolor": "white"
           }
          },
          "shapedefaults": {
           "line": {
            "color": "#2a3f5f"
           }
          },
          "ternary": {
           "aaxis": {
            "gridcolor": "white",
            "linecolor": "white",
            "ticks": ""
           },
           "baxis": {
            "gridcolor": "white",
            "linecolor": "white",
            "ticks": ""
           },
           "bgcolor": "#E5ECF6",
           "caxis": {
            "gridcolor": "white",
            "linecolor": "white",
            "ticks": ""
           }
          },
          "title": {
           "x": 0.05
          },
          "xaxis": {
           "automargin": true,
           "gridcolor": "white",
           "linecolor": "white",
           "ticks": "",
           "title": {
            "standoff": 15
           },
           "zerolinecolor": "white",
           "zerolinewidth": 2
          },
          "yaxis": {
           "automargin": true,
           "gridcolor": "white",
           "linecolor": "white",
           "ticks": "",
           "title": {
            "standoff": 15
           },
           "zerolinecolor": "white",
           "zerolinewidth": 2
          }
         }
        },
        "yaxis": {
         "title": {
          "text": "normalized moisture"
         }
        }
       }
      }
     },
     "metadata": {},
     "output_type": "display_data"
    }
   ],
   "source": [
    "import plotly.graph_objects as go\n",
    "import numpy as np\n",
    "np.random.seed(1)\n",
    "df=data\n",
    "\n",
    "fig = go.Figure()\n",
    "fig.add_trace(go.Box(x=df[\"model\"], y=df[\"semantic\"], name='semantic') )\n",
    "fig.add_trace(go.Box(x=df[\"model\"], y=df[\"correct_relationships\"],name='relationship'))\n",
    "\n",
    "fig.update_layout(\n",
    "    yaxis_title='normalized moisture',\n",
    "    boxmode='group' # group together boxes of the different traces for each value of x\n",
    ")\n",
    "\n",
    "fig.show()"
   ]
  },
  {
   "cell_type": "code",
   "execution_count": 24,
   "metadata": {},
   "outputs": [
    {
     "data": {
      "application/vnd.plotly.v1+json": {
       "config": {
        "plotlyServerURL": "https://plot.ly"
       },
       "data": [
        {
         "name": "semantic",
         "type": "box",
         "x": [
          "credit",
          "credit",
          "credit",
          "credit",
          "credit",
          "credit",
          "credit",
          "credit",
          "credit",
          "credit",
          "credit",
          "credit",
          "credit",
          "credit",
          "credit",
          "credit",
          "credit",
          "credit",
          "credit",
          "credit",
          "credit",
          "credit",
          "credit",
          "credit",
          "credit",
          "credit",
          "credit",
          "credit",
          "credit",
          "credit",
          "credit",
          "credit",
          "credit",
          "credit",
          "credit",
          "credit",
          "credit",
          "credit",
          "credit",
          "credit",
          "credit",
          "credit",
          "credit",
          "credit",
          "credit",
          "credit",
          "credit",
          "credit",
          "credit",
          "credit",
          "credit",
          "credit",
          "credit",
          "credit",
          "credit",
          "credit",
          "credit",
          "credit",
          "credit",
          "credit",
          "credit",
          "credit",
          "credit",
          "credit",
          "credit",
          "credit",
          "credit",
          "credit",
          "credit",
          "credit",
          "credit",
          "credit",
          "credit",
          "credit",
          "credit",
          "credit",
          "credit",
          "credit",
          "credit",
          "credit",
          "credit",
          "credit",
          "credit",
          "credit",
          "credit",
          "credit",
          "credit",
          "credit",
          "credit",
          "credit",
          "credit",
          "credit",
          "credit",
          "credit",
          "credit",
          "credit",
          "credit",
          "credit",
          "credit",
          "credit",
          "credit",
          "sanity-3-lin",
          "sanity-3-lin",
          "sanity-3-lin",
          "sanity-3-lin",
          "sanity-3-lin",
          "sanity-3-lin",
          "sanity-3-lin",
          "sanity-3-lin",
          "sanity-3-lin",
          "sanity-3-lin",
          "sanity-3-lin",
          "sanity-3-lin",
          "sanity-3-lin",
          "sanity-3-lin",
          "sanity-3-lin",
          "sanity-3-lin",
          "sanity-3-lin",
          "sanity-3-lin",
          "sanity-3-lin",
          "sanity-3-lin",
          "sanity-3-lin",
          "sanity-3-lin",
          "sanity-3-lin",
          "sanity-3-lin",
          "sanity-3-lin",
          "sanity-3-lin",
          "sanity-3-lin",
          "sanity-3-lin",
          "sanity-3-lin",
          "sanity-3-lin",
          "sanity-3-lin",
          "sanity-3-lin",
          "sanity-3-lin",
          "sanity-3-lin",
          "sanity-3-lin",
          "sanity-3-lin",
          "sanity-3-lin",
          "sanity-3-lin",
          "sanity-3-lin",
          "sanity-3-lin",
          "sanity-3-lin",
          "sanity-3-lin",
          "sanity-3-lin",
          "sanity-3-lin",
          "sanity-3-lin",
          "sanity-3-lin",
          "sanity-3-lin",
          "sanity-3-lin",
          "sanity-3-lin",
          "sanity-3-lin",
          "sanity-3-lin",
          "sanity-3-lin",
          "sanity-3-lin",
          "sanity-3-lin",
          "sanity-3-lin",
          "sanity-3-lin",
          "sanity-3-lin",
          "sanity-3-lin",
          "sanity-3-lin",
          "sanity-3-lin",
          "sanity-3-lin",
          "sanity-3-lin",
          "sanity-3-lin",
          "sanity-3-lin",
          "sanity-3-lin",
          "sanity-3-lin",
          "sanity-3-lin",
          "sanity-3-lin",
          null,
          null,
          null,
          null,
          null,
          null,
          null,
          null,
          null,
          null,
          "sanity-3-lin",
          "sanity-3-lin",
          "sanity-3-lin",
          "sanity-3-lin",
          "sanity-3-lin",
          "sanity-3-lin",
          "sanity-3-lin",
          "sanity-3-lin",
          "sanity-3-lin",
          "sanity-3-lin",
          "sanity-3-lin",
          "sanity-3-lin",
          "sanity-3-lin",
          "sanity-3-lin",
          "sanity-3-lin",
          "sanity-3-lin",
          "sanity-3-lin",
          "sanity-3-lin",
          "sanity-3-lin",
          "sanity-3-lin",
          "sanity-3-lin",
          "sanity-3-lin",
          "sanity-3-lin",
          "sanity-3-lin",
          "sanity-3-lin",
          "sanity-3-lin",
          "sanity-3-lin",
          "sanity-3-lin",
          "sanity-3-lin",
          "sanity-3-lin",
          "sanity-3-lin",
          "sanity-3-lin",
          "sanity-3-lin",
          "sanity-3-lin",
          "sanity-3-lin",
          "sanity-3-lin",
          "sanity-3-lin",
          "sanity-3-lin",
          "sanity-3-lin",
          "sanity-3-lin",
          "sanity-3-lin",
          "sanity-3-lin",
          "sanity-3-lin",
          "sanity-3-lin",
          "sanity-3-lin",
          "sanity-3-lin",
          "sanity-3-lin",
          "sanity-3-lin",
          "sanity-3-lin",
          "sanity-3-lin",
          "sanity-3-lin",
          "sanity-3-lin",
          "sanity-3-lin",
          "sanity-3-lin",
          "sanity-3-lin",
          "sanity-3-lin",
          "sanity-3-lin",
          "sanity-3-lin",
          "sanity-3-lin",
          "sanity-3-lin",
          "sanity-3-lin",
          "sanity-3-lin",
          "sanity-3-lin",
          "sanity-3-lin",
          "sanity-3-lin",
          "sanity-3-lin",
          "sanity-3-lin",
          "sanity-3-lin",
          "sanity-3-lin",
          "sanity-3-lin",
          "sanity-3-lin",
          "sanity-3-lin"
         ],
         "y": [
          1,
          0,
          1,
          0.8571428571428571,
          0.8571428571428571,
          0,
          0,
          0,
          0,
          0.8571428571428571,
          0.8571428571428571,
          0.8571428571428571,
          0.8571428571428571,
          0,
          0,
          0,
          0,
          0,
          0.8571428571428571,
          0.8571428571428571,
          0.8571428571428571,
          0.8571428571428571,
          0.8571428571428571,
          0,
          0,
          0.2857142857142857,
          0,
          0,
          0,
          0,
          0,
          0.2857142857142857,
          0.2857142857142857,
          0.2857142857142857,
          0.2857142857142857,
          0.2857142857142857,
          0,
          0,
          0,
          0,
          0,
          0.8571428571428571,
          0.8571428571428571,
          0.8571428571428571,
          0.8571428571428571,
          0.8571428571428571,
          0,
          0,
          0,
          0,
          0,
          0.2857142857142857,
          0.2857142857142857,
          0.2857142857142857,
          0.2857142857142857,
          0.2857142857142857,
          0,
          0,
          0.8571428571428571,
          0.8571428571428571,
          0,
          0,
          0,
          0,
          0,
          0.8571428571428571,
          0.8571428571428571,
          0.8571428571428571,
          0.8571428571428571,
          0.8571428571428571,
          0,
          0,
          0,
          0.2857142857142857,
          0.2857142857142857,
          0,
          0,
          0,
          0,
          0,
          0.2857142857142857,
          0.2857142857142857,
          0.2857142857142857,
          0.2857142857142857,
          0.2857142857142857,
          0,
          0,
          0,
          0,
          0,
          0.8571428571428571,
          0.8571428571428571,
          0.8571428571428571,
          0.8571428571428571,
          0.8571428571428571,
          0,
          0,
          0,
          0.2857142857142857,
          0.2857142857142857,
          0.2857142857142857,
          0,
          0,
          0,
          0,
          0,
          0.3333333333333333,
          0.3333333333333333,
          0.3333333333333333,
          0.3333333333333333,
          0.3333333333333333,
          0,
          1,
          0,
          1,
          1,
          1,
          1,
          1,
          1,
          1,
          1,
          0.6666666666666666,
          0.6666666666666666,
          0.6666666666666666,
          0.6666666666666666,
          0.6666666666666666,
          0,
          1,
          0,
          0,
          0,
          0,
          0,
          1,
          1,
          1,
          1,
          1,
          0,
          0,
          0,
          0,
          0,
          1,
          1,
          1,
          1,
          1,
          0,
          0,
          0,
          0,
          0,
          0.3333333333333333,
          0.3333333333333333,
          0.3333333333333333,
          0.3333333333333333,
          0.3333333333333333,
          0,
          0,
          0,
          0,
          0,
          0.3333333333333333,
          0.3333333333333333,
          0.3333333333333333,
          0.3333333333333333,
          0.3333333333333333,
          0,
          0,
          0,
          0,
          0,
          1,
          1,
          1,
          1,
          1,
          0,
          0,
          0,
          0,
          0,
          1,
          1,
          1,
          1,
          1,
          0,
          0,
          0,
          0,
          0,
          0.3333333333333333,
          0.3333333333333333,
          0.3333333333333333,
          0.3333333333333333,
          0.3333333333333333,
          0,
          1,
          0,
          0,
          0,
          0,
          0,
          1,
          1,
          1,
          1,
          1,
          0,
          0,
          0,
          0,
          0,
          1,
          1,
          1,
          1,
          1,
          0,
          0,
          0,
          0,
          0,
          0.3333333333333333,
          0.3333333333333333,
          0.3333333333333333,
          0.3333333333333333,
          0.3333333333333333,
          0,
          0,
          0,
          0,
          0,
          0.3333333333333333,
          0.3333333333333333,
          0.3333333333333333,
          0.3333333333333333,
          0.3333333333333333,
          0,
          0,
          0,
          0,
          0,
          1,
          1,
          1,
          1,
          1
         ]
        },
        {
         "name": "relationship",
         "type": "box",
         "x": [
          "credit",
          "credit",
          "credit",
          "credit",
          "credit",
          "credit",
          "credit",
          "credit",
          "credit",
          "credit",
          "credit",
          "credit",
          "credit",
          "credit",
          "credit",
          "credit",
          "credit",
          "credit",
          "credit",
          "credit",
          "credit",
          "credit",
          "credit",
          "credit",
          "credit",
          "credit",
          "credit",
          "credit",
          "credit",
          "credit",
          "credit",
          "credit",
          "credit",
          "credit",
          "credit",
          "credit",
          "credit",
          "credit",
          "credit",
          "credit",
          "credit",
          "credit",
          "credit",
          "credit",
          "credit",
          "credit",
          "credit",
          "credit",
          "credit",
          "credit",
          "credit",
          "credit",
          "credit",
          "credit",
          "credit",
          "credit",
          "credit",
          "credit",
          "credit",
          "credit",
          "credit",
          "credit",
          "credit",
          "credit",
          "credit",
          "credit",
          "credit",
          "credit",
          "credit",
          "credit",
          "credit",
          "credit",
          "credit",
          "credit",
          "credit",
          "credit",
          "credit",
          "credit",
          "credit",
          "credit",
          "credit",
          "credit",
          "credit",
          "credit",
          "credit",
          "credit",
          "credit",
          "credit",
          "credit",
          "credit",
          "credit",
          "credit",
          "credit",
          "credit",
          "credit",
          "credit",
          "credit",
          "credit",
          "credit",
          "credit",
          "credit",
          "sanity-3-lin",
          "sanity-3-lin",
          "sanity-3-lin",
          "sanity-3-lin",
          "sanity-3-lin",
          "sanity-3-lin",
          "sanity-3-lin",
          "sanity-3-lin",
          "sanity-3-lin",
          "sanity-3-lin",
          "sanity-3-lin",
          "sanity-3-lin",
          "sanity-3-lin",
          "sanity-3-lin",
          "sanity-3-lin",
          "sanity-3-lin",
          "sanity-3-lin",
          "sanity-3-lin",
          "sanity-3-lin",
          "sanity-3-lin",
          "sanity-3-lin",
          "sanity-3-lin",
          "sanity-3-lin",
          "sanity-3-lin",
          "sanity-3-lin",
          "sanity-3-lin",
          "sanity-3-lin",
          "sanity-3-lin",
          "sanity-3-lin",
          "sanity-3-lin",
          "sanity-3-lin",
          "sanity-3-lin",
          "sanity-3-lin",
          "sanity-3-lin",
          "sanity-3-lin",
          "sanity-3-lin",
          "sanity-3-lin",
          "sanity-3-lin",
          "sanity-3-lin",
          "sanity-3-lin",
          "sanity-3-lin",
          "sanity-3-lin",
          "sanity-3-lin",
          "sanity-3-lin",
          "sanity-3-lin",
          "sanity-3-lin",
          "sanity-3-lin",
          "sanity-3-lin",
          "sanity-3-lin",
          "sanity-3-lin",
          "sanity-3-lin",
          "sanity-3-lin",
          "sanity-3-lin",
          "sanity-3-lin",
          "sanity-3-lin",
          "sanity-3-lin",
          "sanity-3-lin",
          "sanity-3-lin",
          "sanity-3-lin",
          "sanity-3-lin",
          "sanity-3-lin",
          "sanity-3-lin",
          "sanity-3-lin",
          "sanity-3-lin",
          "sanity-3-lin",
          "sanity-3-lin",
          "sanity-3-lin",
          "sanity-3-lin",
          null,
          null,
          null,
          null,
          null,
          null,
          null,
          null,
          null,
          null,
          "sanity-3-lin",
          "sanity-3-lin",
          "sanity-3-lin",
          "sanity-3-lin",
          "sanity-3-lin",
          "sanity-3-lin",
          "sanity-3-lin",
          "sanity-3-lin",
          "sanity-3-lin",
          "sanity-3-lin",
          "sanity-3-lin",
          "sanity-3-lin",
          "sanity-3-lin",
          "sanity-3-lin",
          "sanity-3-lin",
          "sanity-3-lin",
          "sanity-3-lin",
          "sanity-3-lin",
          "sanity-3-lin",
          "sanity-3-lin",
          "sanity-3-lin",
          "sanity-3-lin",
          "sanity-3-lin",
          "sanity-3-lin",
          "sanity-3-lin",
          "sanity-3-lin",
          "sanity-3-lin",
          "sanity-3-lin",
          "sanity-3-lin",
          "sanity-3-lin",
          "sanity-3-lin",
          "sanity-3-lin",
          "sanity-3-lin",
          "sanity-3-lin",
          "sanity-3-lin",
          "sanity-3-lin",
          "sanity-3-lin",
          "sanity-3-lin",
          "sanity-3-lin",
          "sanity-3-lin",
          "sanity-3-lin",
          "sanity-3-lin",
          "sanity-3-lin",
          "sanity-3-lin",
          "sanity-3-lin",
          "sanity-3-lin",
          "sanity-3-lin",
          "sanity-3-lin",
          "sanity-3-lin",
          "sanity-3-lin",
          "sanity-3-lin",
          "sanity-3-lin",
          "sanity-3-lin",
          "sanity-3-lin",
          "sanity-3-lin",
          "sanity-3-lin",
          "sanity-3-lin",
          "sanity-3-lin",
          "sanity-3-lin",
          "sanity-3-lin",
          "sanity-3-lin",
          "sanity-3-lin",
          "sanity-3-lin",
          "sanity-3-lin",
          "sanity-3-lin",
          "sanity-3-lin",
          "sanity-3-lin",
          "sanity-3-lin",
          "sanity-3-lin",
          "sanity-3-lin",
          "sanity-3-lin",
          "sanity-3-lin"
         ],
         "y": [
          1,
          1,
          0.8571428571428571,
          0.8571428571428571,
          0.8571428571428571,
          0,
          0,
          0,
          0,
          0.8571428571428571,
          0.8571428571428571,
          0.8571428571428571,
          0.8571428571428571,
          0,
          0,
          0,
          0,
          0,
          0.8571428571428571,
          0.8571428571428571,
          0.8571428571428571,
          0.8571428571428571,
          0.8571428571428571,
          0,
          0.2857142857142857,
          0.2857142857142857,
          0,
          0,
          0,
          0,
          0,
          0.2857142857142857,
          0.2857142857142857,
          0.2857142857142857,
          0.2857142857142857,
          0.2857142857142857,
          0,
          0,
          0,
          0,
          0,
          0.8571428571428571,
          0.8571428571428571,
          0.8571428571428571,
          0.8571428571428571,
          0.8571428571428571,
          0,
          0,
          0,
          0,
          0,
          0.2857142857142857,
          0.2857142857142857,
          0.2857142857142857,
          0.2857142857142857,
          0.2857142857142857,
          0,
          0,
          0.8571428571428571,
          0.8571428571428571,
          0,
          0,
          0,
          0,
          0,
          0.8571428571428571,
          0.8571428571428571,
          0.8571428571428571,
          0.8571428571428571,
          0.8571428571428571,
          0,
          0,
          0.2857142857142857,
          0.2857142857142857,
          0.2857142857142857,
          0,
          0,
          0,
          0,
          0,
          0.2857142857142857,
          0.2857142857142857,
          0.2857142857142857,
          0.2857142857142857,
          0.2857142857142857,
          0,
          0,
          0,
          0,
          0,
          0.8571428571428571,
          0.8571428571428571,
          0.8571428571428571,
          0.8571428571428571,
          0.8571428571428571,
          0,
          0,
          0,
          0.2857142857142857,
          0.2857142857142857,
          0.2857142857142857,
          0,
          0,
          0,
          0,
          0,
          0.3333333333333333,
          0.3333333333333333,
          0.3333333333333333,
          0.3333333333333333,
          0.3333333333333333,
          1,
          0,
          1,
          1,
          1,
          1,
          1,
          1,
          1,
          1,
          1,
          0.6666666666666666,
          0.6666666666666666,
          0.6666666666666666,
          0.6666666666666666,
          0.6666666666666666,
          0,
          1,
          0,
          0,
          0,
          0,
          0,
          1,
          1,
          1,
          1,
          1,
          0,
          0,
          0,
          0,
          0,
          1,
          1,
          1,
          1,
          1,
          0,
          0,
          0,
          0,
          0,
          0.3333333333333333,
          0.3333333333333333,
          0.3333333333333333,
          0.3333333333333333,
          0.3333333333333333,
          0,
          0,
          0,
          0,
          0,
          0.3333333333333333,
          0.3333333333333333,
          0.3333333333333333,
          0.3333333333333333,
          0.3333333333333333,
          0,
          0,
          0,
          0,
          0,
          1,
          1,
          1,
          1,
          1,
          0,
          0,
          0,
          0,
          0,
          1,
          1,
          1,
          1,
          1,
          0,
          0,
          0,
          0,
          0,
          0.3333333333333333,
          0.3333333333333333,
          0.3333333333333333,
          0.3333333333333333,
          0.3333333333333333,
          0,
          1,
          0,
          0,
          1,
          0,
          0,
          1,
          1,
          1,
          1,
          1,
          0,
          0,
          0,
          0,
          0,
          1,
          1,
          1,
          1,
          1,
          0,
          0,
          0,
          0,
          0,
          0.3333333333333333,
          0.3333333333333333,
          0.3333333333333333,
          0.3333333333333333,
          0.3333333333333333,
          0,
          0,
          0,
          0,
          0,
          0.3333333333333333,
          0.3333333333333333,
          0.3333333333333333,
          0.3333333333333333,
          0.3333333333333333,
          0,
          0,
          0,
          0,
          0,
          1,
          1,
          1,
          1,
          1
         ]
        }
       ],
       "layout": {
        "boxmode": "group",
        "template": {
         "data": {
          "bar": [
           {
            "error_x": {
             "color": "#2a3f5f"
            },
            "error_y": {
             "color": "#2a3f5f"
            },
            "marker": {
             "line": {
              "color": "#E5ECF6",
              "width": 0.5
             },
             "pattern": {
              "fillmode": "overlay",
              "size": 10,
              "solidity": 0.2
             }
            },
            "type": "bar"
           }
          ],
          "barpolar": [
           {
            "marker": {
             "line": {
              "color": "#E5ECF6",
              "width": 0.5
             },
             "pattern": {
              "fillmode": "overlay",
              "size": 10,
              "solidity": 0.2
             }
            },
            "type": "barpolar"
           }
          ],
          "carpet": [
           {
            "aaxis": {
             "endlinecolor": "#2a3f5f",
             "gridcolor": "white",
             "linecolor": "white",
             "minorgridcolor": "white",
             "startlinecolor": "#2a3f5f"
            },
            "baxis": {
             "endlinecolor": "#2a3f5f",
             "gridcolor": "white",
             "linecolor": "white",
             "minorgridcolor": "white",
             "startlinecolor": "#2a3f5f"
            },
            "type": "carpet"
           }
          ],
          "choropleth": [
           {
            "colorbar": {
             "outlinewidth": 0,
             "ticks": ""
            },
            "type": "choropleth"
           }
          ],
          "contour": [
           {
            "colorbar": {
             "outlinewidth": 0,
             "ticks": ""
            },
            "colorscale": [
             [
              0,
              "#0d0887"
             ],
             [
              0.1111111111111111,
              "#46039f"
             ],
             [
              0.2222222222222222,
              "#7201a8"
             ],
             [
              0.3333333333333333,
              "#9c179e"
             ],
             [
              0.4444444444444444,
              "#bd3786"
             ],
             [
              0.5555555555555556,
              "#d8576b"
             ],
             [
              0.6666666666666666,
              "#ed7953"
             ],
             [
              0.7777777777777778,
              "#fb9f3a"
             ],
             [
              0.8888888888888888,
              "#fdca26"
             ],
             [
              1,
              "#f0f921"
             ]
            ],
            "type": "contour"
           }
          ],
          "contourcarpet": [
           {
            "colorbar": {
             "outlinewidth": 0,
             "ticks": ""
            },
            "type": "contourcarpet"
           }
          ],
          "heatmap": [
           {
            "colorbar": {
             "outlinewidth": 0,
             "ticks": ""
            },
            "colorscale": [
             [
              0,
              "#0d0887"
             ],
             [
              0.1111111111111111,
              "#46039f"
             ],
             [
              0.2222222222222222,
              "#7201a8"
             ],
             [
              0.3333333333333333,
              "#9c179e"
             ],
             [
              0.4444444444444444,
              "#bd3786"
             ],
             [
              0.5555555555555556,
              "#d8576b"
             ],
             [
              0.6666666666666666,
              "#ed7953"
             ],
             [
              0.7777777777777778,
              "#fb9f3a"
             ],
             [
              0.8888888888888888,
              "#fdca26"
             ],
             [
              1,
              "#f0f921"
             ]
            ],
            "type": "heatmap"
           }
          ],
          "heatmapgl": [
           {
            "colorbar": {
             "outlinewidth": 0,
             "ticks": ""
            },
            "colorscale": [
             [
              0,
              "#0d0887"
             ],
             [
              0.1111111111111111,
              "#46039f"
             ],
             [
              0.2222222222222222,
              "#7201a8"
             ],
             [
              0.3333333333333333,
              "#9c179e"
             ],
             [
              0.4444444444444444,
              "#bd3786"
             ],
             [
              0.5555555555555556,
              "#d8576b"
             ],
             [
              0.6666666666666666,
              "#ed7953"
             ],
             [
              0.7777777777777778,
              "#fb9f3a"
             ],
             [
              0.8888888888888888,
              "#fdca26"
             ],
             [
              1,
              "#f0f921"
             ]
            ],
            "type": "heatmapgl"
           }
          ],
          "histogram": [
           {
            "marker": {
             "pattern": {
              "fillmode": "overlay",
              "size": 10,
              "solidity": 0.2
             }
            },
            "type": "histogram"
           }
          ],
          "histogram2d": [
           {
            "colorbar": {
             "outlinewidth": 0,
             "ticks": ""
            },
            "colorscale": [
             [
              0,
              "#0d0887"
             ],
             [
              0.1111111111111111,
              "#46039f"
             ],
             [
              0.2222222222222222,
              "#7201a8"
             ],
             [
              0.3333333333333333,
              "#9c179e"
             ],
             [
              0.4444444444444444,
              "#bd3786"
             ],
             [
              0.5555555555555556,
              "#d8576b"
             ],
             [
              0.6666666666666666,
              "#ed7953"
             ],
             [
              0.7777777777777778,
              "#fb9f3a"
             ],
             [
              0.8888888888888888,
              "#fdca26"
             ],
             [
              1,
              "#f0f921"
             ]
            ],
            "type": "histogram2d"
           }
          ],
          "histogram2dcontour": [
           {
            "colorbar": {
             "outlinewidth": 0,
             "ticks": ""
            },
            "colorscale": [
             [
              0,
              "#0d0887"
             ],
             [
              0.1111111111111111,
              "#46039f"
             ],
             [
              0.2222222222222222,
              "#7201a8"
             ],
             [
              0.3333333333333333,
              "#9c179e"
             ],
             [
              0.4444444444444444,
              "#bd3786"
             ],
             [
              0.5555555555555556,
              "#d8576b"
             ],
             [
              0.6666666666666666,
              "#ed7953"
             ],
             [
              0.7777777777777778,
              "#fb9f3a"
             ],
             [
              0.8888888888888888,
              "#fdca26"
             ],
             [
              1,
              "#f0f921"
             ]
            ],
            "type": "histogram2dcontour"
           }
          ],
          "mesh3d": [
           {
            "colorbar": {
             "outlinewidth": 0,
             "ticks": ""
            },
            "type": "mesh3d"
           }
          ],
          "parcoords": [
           {
            "line": {
             "colorbar": {
              "outlinewidth": 0,
              "ticks": ""
             }
            },
            "type": "parcoords"
           }
          ],
          "pie": [
           {
            "automargin": true,
            "type": "pie"
           }
          ],
          "scatter": [
           {
            "fillpattern": {
             "fillmode": "overlay",
             "size": 10,
             "solidity": 0.2
            },
            "type": "scatter"
           }
          ],
          "scatter3d": [
           {
            "line": {
             "colorbar": {
              "outlinewidth": 0,
              "ticks": ""
             }
            },
            "marker": {
             "colorbar": {
              "outlinewidth": 0,
              "ticks": ""
             }
            },
            "type": "scatter3d"
           }
          ],
          "scattercarpet": [
           {
            "marker": {
             "colorbar": {
              "outlinewidth": 0,
              "ticks": ""
             }
            },
            "type": "scattercarpet"
           }
          ],
          "scattergeo": [
           {
            "marker": {
             "colorbar": {
              "outlinewidth": 0,
              "ticks": ""
             }
            },
            "type": "scattergeo"
           }
          ],
          "scattergl": [
           {
            "marker": {
             "colorbar": {
              "outlinewidth": 0,
              "ticks": ""
             }
            },
            "type": "scattergl"
           }
          ],
          "scattermapbox": [
           {
            "marker": {
             "colorbar": {
              "outlinewidth": 0,
              "ticks": ""
             }
            },
            "type": "scattermapbox"
           }
          ],
          "scatterpolar": [
           {
            "marker": {
             "colorbar": {
              "outlinewidth": 0,
              "ticks": ""
             }
            },
            "type": "scatterpolar"
           }
          ],
          "scatterpolargl": [
           {
            "marker": {
             "colorbar": {
              "outlinewidth": 0,
              "ticks": ""
             }
            },
            "type": "scatterpolargl"
           }
          ],
          "scatterternary": [
           {
            "marker": {
             "colorbar": {
              "outlinewidth": 0,
              "ticks": ""
             }
            },
            "type": "scatterternary"
           }
          ],
          "surface": [
           {
            "colorbar": {
             "outlinewidth": 0,
             "ticks": ""
            },
            "colorscale": [
             [
              0,
              "#0d0887"
             ],
             [
              0.1111111111111111,
              "#46039f"
             ],
             [
              0.2222222222222222,
              "#7201a8"
             ],
             [
              0.3333333333333333,
              "#9c179e"
             ],
             [
              0.4444444444444444,
              "#bd3786"
             ],
             [
              0.5555555555555556,
              "#d8576b"
             ],
             [
              0.6666666666666666,
              "#ed7953"
             ],
             [
              0.7777777777777778,
              "#fb9f3a"
             ],
             [
              0.8888888888888888,
              "#fdca26"
             ],
             [
              1,
              "#f0f921"
             ]
            ],
            "type": "surface"
           }
          ],
          "table": [
           {
            "cells": {
             "fill": {
              "color": "#EBF0F8"
             },
             "line": {
              "color": "white"
             }
            },
            "header": {
             "fill": {
              "color": "#C8D4E3"
             },
             "line": {
              "color": "white"
             }
            },
            "type": "table"
           }
          ]
         },
         "layout": {
          "annotationdefaults": {
           "arrowcolor": "#2a3f5f",
           "arrowhead": 0,
           "arrowwidth": 1
          },
          "autotypenumbers": "strict",
          "coloraxis": {
           "colorbar": {
            "outlinewidth": 0,
            "ticks": ""
           }
          },
          "colorscale": {
           "diverging": [
            [
             0,
             "#8e0152"
            ],
            [
             0.1,
             "#c51b7d"
            ],
            [
             0.2,
             "#de77ae"
            ],
            [
             0.3,
             "#f1b6da"
            ],
            [
             0.4,
             "#fde0ef"
            ],
            [
             0.5,
             "#f7f7f7"
            ],
            [
             0.6,
             "#e6f5d0"
            ],
            [
             0.7,
             "#b8e186"
            ],
            [
             0.8,
             "#7fbc41"
            ],
            [
             0.9,
             "#4d9221"
            ],
            [
             1,
             "#276419"
            ]
           ],
           "sequential": [
            [
             0,
             "#0d0887"
            ],
            [
             0.1111111111111111,
             "#46039f"
            ],
            [
             0.2222222222222222,
             "#7201a8"
            ],
            [
             0.3333333333333333,
             "#9c179e"
            ],
            [
             0.4444444444444444,
             "#bd3786"
            ],
            [
             0.5555555555555556,
             "#d8576b"
            ],
            [
             0.6666666666666666,
             "#ed7953"
            ],
            [
             0.7777777777777778,
             "#fb9f3a"
            ],
            [
             0.8888888888888888,
             "#fdca26"
            ],
            [
             1,
             "#f0f921"
            ]
           ],
           "sequentialminus": [
            [
             0,
             "#0d0887"
            ],
            [
             0.1111111111111111,
             "#46039f"
            ],
            [
             0.2222222222222222,
             "#7201a8"
            ],
            [
             0.3333333333333333,
             "#9c179e"
            ],
            [
             0.4444444444444444,
             "#bd3786"
            ],
            [
             0.5555555555555556,
             "#d8576b"
            ],
            [
             0.6666666666666666,
             "#ed7953"
            ],
            [
             0.7777777777777778,
             "#fb9f3a"
            ],
            [
             0.8888888888888888,
             "#fdca26"
            ],
            [
             1,
             "#f0f921"
            ]
           ]
          },
          "colorway": [
           "#636efa",
           "#EF553B",
           "#00cc96",
           "#ab63fa",
           "#FFA15A",
           "#19d3f3",
           "#FF6692",
           "#B6E880",
           "#FF97FF",
           "#FECB52"
          ],
          "font": {
           "color": "#2a3f5f"
          },
          "geo": {
           "bgcolor": "white",
           "lakecolor": "white",
           "landcolor": "#E5ECF6",
           "showlakes": true,
           "showland": true,
           "subunitcolor": "white"
          },
          "hoverlabel": {
           "align": "left"
          },
          "hovermode": "closest",
          "mapbox": {
           "style": "light"
          },
          "paper_bgcolor": "white",
          "plot_bgcolor": "#E5ECF6",
          "polar": {
           "angularaxis": {
            "gridcolor": "white",
            "linecolor": "white",
            "ticks": ""
           },
           "bgcolor": "#E5ECF6",
           "radialaxis": {
            "gridcolor": "white",
            "linecolor": "white",
            "ticks": ""
           }
          },
          "scene": {
           "xaxis": {
            "backgroundcolor": "#E5ECF6",
            "gridcolor": "white",
            "gridwidth": 2,
            "linecolor": "white",
            "showbackground": true,
            "ticks": "",
            "zerolinecolor": "white"
           },
           "yaxis": {
            "backgroundcolor": "#E5ECF6",
            "gridcolor": "white",
            "gridwidth": 2,
            "linecolor": "white",
            "showbackground": true,
            "ticks": "",
            "zerolinecolor": "white"
           },
           "zaxis": {
            "backgroundcolor": "#E5ECF6",
            "gridcolor": "white",
            "gridwidth": 2,
            "linecolor": "white",
            "showbackground": true,
            "ticks": "",
            "zerolinecolor": "white"
           }
          },
          "shapedefaults": {
           "line": {
            "color": "#2a3f5f"
           }
          },
          "ternary": {
           "aaxis": {
            "gridcolor": "white",
            "linecolor": "white",
            "ticks": ""
           },
           "baxis": {
            "gridcolor": "white",
            "linecolor": "white",
            "ticks": ""
           },
           "bgcolor": "#E5ECF6",
           "caxis": {
            "gridcolor": "white",
            "linecolor": "white",
            "ticks": ""
           }
          },
          "title": {
           "x": 0.05
          },
          "xaxis": {
           "automargin": true,
           "gridcolor": "white",
           "linecolor": "white",
           "ticks": "",
           "title": {
            "standoff": 15
           },
           "zerolinecolor": "white",
           "zerolinewidth": 2
          },
          "yaxis": {
           "automargin": true,
           "gridcolor": "white",
           "linecolor": "white",
           "ticks": "",
           "title": {
            "standoff": 15
           },
           "zerolinecolor": "white",
           "zerolinewidth": 2
          }
         }
        },
        "yaxis": {
         "title": {
          "text": "normalized moisture"
         }
        }
       }
      }
     },
     "metadata": {},
     "output_type": "display_data"
    }
   ],
   "source": [
    "import plotly.graph_objects as go\n",
    "import numpy as np\n",
    "np.random.seed(1)\n",
    "\n",
    "fig = go.Figure()\n",
    "fig.add_trace(go.Box(x=df[\"dataset\"], y=df[\"semantic\"], name='semantic') )\n",
    "fig.add_trace(go.Box(x=df[\"dataset\"], y=df[\"correct_relationships\"],name='relationship'))\n",
    "\n",
    "fig.update_layout(\n",
    "    yaxis_title='normalized moisture',\n",
    "    boxmode='group' # group together boxes of the different traces for each value of x\n",
    ")\n",
    "\n",
    "fig.show()"
   ]
  },
  {
   "cell_type": "code",
   "execution_count": 23,
   "metadata": {},
   "outputs": [
    {
     "data": {
      "application/vnd.plotly.v1+json": {
       "config": {
        "plotlyServerURL": "https://plot.ly"
       },
       "data": [
        {
         "name": "semantic",
         "type": "box",
         "x": [
          "FeatureTweak",
          "FeatureTweak",
          "FeatureTweak",
          "FeatureTweak",
          "FeatureTweak",
          "actionable_recourse",
          "actionable_recourse",
          "actionable_recourse",
          "actionable_recourse",
          "actionable_recourse",
          "actionable_recourse",
          "actionable_recourse",
          "actionable_recourse",
          "cchvae",
          "cchvae",
          "cchvae",
          "cchvae",
          "cchvae",
          "cchvae",
          "cchvae",
          "cchvae",
          "cchvae",
          "cchvae",
          "Clue",
          "Clue",
          "Clue",
          "Cruds",
          "Cruds",
          "Cruds",
          "Cruds",
          "Cruds",
          "Cruds",
          "Cruds",
          "Cruds",
          "Cruds",
          "Cruds",
          "growingspheres",
          "growingspheres",
          "growingspheres",
          "growingspheres",
          "growingspheres",
          "growingspheres",
          "growingspheres",
          "growingspheres",
          "growingspheres",
          "growingspheres",
          "wachter",
          "wachter",
          "wachter",
          "wachter",
          "wachter",
          "wachter",
          "wachter",
          "wachter",
          "wachter",
          "wachter",
          "actionable_recourse",
          "actionable_recourse",
          "actionable_recourse",
          "actionable_recourse",
          "cchvae",
          "cchvae",
          "cchvae",
          "cchvae",
          "cchvae",
          "cchvae",
          "cchvae",
          "cchvae",
          "cchvae",
          "cchvae",
          "Clue",
          "Clue",
          "Clue",
          "Clue",
          "Clue",
          "Cruds",
          "Cruds",
          "Cruds",
          "Cruds",
          "Cruds",
          "Cruds",
          "Cruds",
          "Cruds",
          "Cruds",
          "Cruds",
          "growingspheres",
          "growingspheres",
          "growingspheres",
          "growingspheres",
          "growingspheres",
          "growingspheres",
          "growingspheres",
          "growingspheres",
          "growingspheres",
          "growingspheres",
          "wachter",
          "wachter",
          "wachter",
          "wachter",
          "wachter",
          "wachter",
          "wachter",
          "wachter",
          "wachter",
          "wachter",
          "wachter",
          "wachter",
          "wachter",
          "wachter",
          "wachter",
          "wachter",
          "FeatureTweak",
          "FeatureTweak",
          "FeatureTweak",
          "FeatureTweak",
          "FeatureTweak",
          "FeatureTweak",
          "focus",
          "focus",
          "focus",
          "focus",
          "focus",
          "focus",
          "focus",
          "focus",
          "focus",
          "focus",
          "actionable_recourse",
          "actionable_recourse",
          "causal_recourse",
          "causal_recourse",
          "causal_recourse",
          "causal_recourse",
          "causal_recourse",
          "causal_recourse",
          "causal_recourse",
          "causal_recourse",
          "causal_recourse",
          "causal_recourse",
          "cchvae",
          "cchvae",
          "cchvae",
          "cchvae",
          "cchvae",
          "cchvae",
          "cchvae",
          "cchvae",
          "cchvae",
          "cchvae",
          "Clue",
          "Clue",
          "Clue",
          "Clue",
          "Clue",
          "Clue",
          "Clue",
          "Clue",
          "Clue",
          "Clue",
          "Cruds",
          "Cruds",
          "Cruds",
          "Cruds",
          "Cruds",
          "Cruds",
          "Cruds",
          "Cruds",
          "Cruds",
          "Cruds",
          null,
          null,
          null,
          null,
          null,
          null,
          null,
          null,
          null,
          null,
          "growingspheres",
          "growingspheres",
          "growingspheres",
          "growingspheres",
          "growingspheres",
          "growingspheres",
          "growingspheres",
          "growingspheres",
          "growingspheres",
          "growingspheres",
          "wachter",
          "wachter",
          "wachter",
          "wachter",
          "wachter",
          "wachter",
          "wachter",
          "wachter",
          "wachter",
          "wachter",
          "actionable_recourse",
          "actionable_recourse",
          "causal_recourse",
          "causal_recourse",
          "causal_recourse",
          "causal_recourse",
          "causal_recourse",
          "causal_recourse",
          "causal_recourse",
          "causal_recourse",
          "causal_recourse",
          "causal_recourse",
          "cchvae",
          "cchvae",
          "cchvae",
          "cchvae",
          "cchvae",
          "cchvae",
          "cchvae",
          "cchvae",
          "cchvae",
          "cchvae",
          "Clue",
          "Clue",
          "Clue",
          "Clue",
          "Clue",
          "Clue",
          "Clue",
          "Clue",
          "Clue",
          "Clue",
          "Cruds",
          "Cruds",
          "Cruds",
          "Cruds",
          "Cruds",
          "Cruds",
          "Cruds",
          "Cruds",
          "Cruds",
          "Cruds",
          "growingspheres",
          "growingspheres",
          "growingspheres",
          "growingspheres",
          "growingspheres",
          "growingspheres",
          "growingspheres",
          "growingspheres",
          "growingspheres",
          "growingspheres"
         ],
         "y": [
          1,
          0,
          1,
          0.8571428571428571,
          0.8571428571428571,
          0,
          0,
          0,
          0,
          0.8571428571428571,
          0.8571428571428571,
          0.8571428571428571,
          0.8571428571428571,
          0,
          0,
          0,
          0,
          0,
          0.8571428571428571,
          0.8571428571428571,
          0.8571428571428571,
          0.8571428571428571,
          0.8571428571428571,
          0,
          0,
          0.2857142857142857,
          0,
          0,
          0,
          0,
          0,
          0.2857142857142857,
          0.2857142857142857,
          0.2857142857142857,
          0.2857142857142857,
          0.2857142857142857,
          0,
          0,
          0,
          0,
          0,
          0.8571428571428571,
          0.8571428571428571,
          0.8571428571428571,
          0.8571428571428571,
          0.8571428571428571,
          0,
          0,
          0,
          0,
          0,
          0.2857142857142857,
          0.2857142857142857,
          0.2857142857142857,
          0.2857142857142857,
          0.2857142857142857,
          0,
          0,
          0.8571428571428571,
          0.8571428571428571,
          0,
          0,
          0,
          0,
          0,
          0.8571428571428571,
          0.8571428571428571,
          0.8571428571428571,
          0.8571428571428571,
          0.8571428571428571,
          0,
          0,
          0,
          0.2857142857142857,
          0.2857142857142857,
          0,
          0,
          0,
          0,
          0,
          0.2857142857142857,
          0.2857142857142857,
          0.2857142857142857,
          0.2857142857142857,
          0.2857142857142857,
          0,
          0,
          0,
          0,
          0,
          0.8571428571428571,
          0.8571428571428571,
          0.8571428571428571,
          0.8571428571428571,
          0.8571428571428571,
          0,
          0,
          0,
          0.2857142857142857,
          0.2857142857142857,
          0.2857142857142857,
          0,
          0,
          0,
          0,
          0,
          0.3333333333333333,
          0.3333333333333333,
          0.3333333333333333,
          0.3333333333333333,
          0.3333333333333333,
          0,
          1,
          0,
          1,
          1,
          1,
          1,
          1,
          1,
          1,
          1,
          0.6666666666666666,
          0.6666666666666666,
          0.6666666666666666,
          0.6666666666666666,
          0.6666666666666666,
          0,
          1,
          0,
          0,
          0,
          0,
          0,
          1,
          1,
          1,
          1,
          1,
          0,
          0,
          0,
          0,
          0,
          1,
          1,
          1,
          1,
          1,
          0,
          0,
          0,
          0,
          0,
          0.3333333333333333,
          0.3333333333333333,
          0.3333333333333333,
          0.3333333333333333,
          0.3333333333333333,
          0,
          0,
          0,
          0,
          0,
          0.3333333333333333,
          0.3333333333333333,
          0.3333333333333333,
          0.3333333333333333,
          0.3333333333333333,
          0,
          0,
          0,
          0,
          0,
          1,
          1,
          1,
          1,
          1,
          0,
          0,
          0,
          0,
          0,
          1,
          1,
          1,
          1,
          1,
          0,
          0,
          0,
          0,
          0,
          0.3333333333333333,
          0.3333333333333333,
          0.3333333333333333,
          0.3333333333333333,
          0.3333333333333333,
          0,
          1,
          0,
          0,
          0,
          0,
          0,
          1,
          1,
          1,
          1,
          1,
          0,
          0,
          0,
          0,
          0,
          1,
          1,
          1,
          1,
          1,
          0,
          0,
          0,
          0,
          0,
          0.3333333333333333,
          0.3333333333333333,
          0.3333333333333333,
          0.3333333333333333,
          0.3333333333333333,
          0,
          0,
          0,
          0,
          0,
          0.3333333333333333,
          0.3333333333333333,
          0.3333333333333333,
          0.3333333333333333,
          0.3333333333333333,
          0,
          0,
          0,
          0,
          0,
          1,
          1,
          1,
          1,
          1
         ]
        },
        {
         "name": "relationship",
         "type": "box",
         "x": [
          "FeatureTweak",
          "FeatureTweak",
          "FeatureTweak",
          "FeatureTweak",
          "FeatureTweak",
          "actionable_recourse",
          "actionable_recourse",
          "actionable_recourse",
          "actionable_recourse",
          "actionable_recourse",
          "actionable_recourse",
          "actionable_recourse",
          "actionable_recourse",
          "cchvae",
          "cchvae",
          "cchvae",
          "cchvae",
          "cchvae",
          "cchvae",
          "cchvae",
          "cchvae",
          "cchvae",
          "cchvae",
          "Clue",
          "Clue",
          "Clue",
          "Cruds",
          "Cruds",
          "Cruds",
          "Cruds",
          "Cruds",
          "Cruds",
          "Cruds",
          "Cruds",
          "Cruds",
          "Cruds",
          "growingspheres",
          "growingspheres",
          "growingspheres",
          "growingspheres",
          "growingspheres",
          "growingspheres",
          "growingspheres",
          "growingspheres",
          "growingspheres",
          "growingspheres",
          "wachter",
          "wachter",
          "wachter",
          "wachter",
          "wachter",
          "wachter",
          "wachter",
          "wachter",
          "wachter",
          "wachter",
          "actionable_recourse",
          "actionable_recourse",
          "actionable_recourse",
          "actionable_recourse",
          "cchvae",
          "cchvae",
          "cchvae",
          "cchvae",
          "cchvae",
          "cchvae",
          "cchvae",
          "cchvae",
          "cchvae",
          "cchvae",
          "Clue",
          "Clue",
          "Clue",
          "Clue",
          "Clue",
          "Cruds",
          "Cruds",
          "Cruds",
          "Cruds",
          "Cruds",
          "Cruds",
          "Cruds",
          "Cruds",
          "Cruds",
          "Cruds",
          "growingspheres",
          "growingspheres",
          "growingspheres",
          "growingspheres",
          "growingspheres",
          "growingspheres",
          "growingspheres",
          "growingspheres",
          "growingspheres",
          "growingspheres",
          "wachter",
          "wachter",
          "wachter",
          "wachter",
          "wachter",
          "wachter",
          "wachter",
          "wachter",
          "wachter",
          "wachter",
          "wachter",
          "wachter",
          "wachter",
          "wachter",
          "wachter",
          "wachter",
          "FeatureTweak",
          "FeatureTweak",
          "FeatureTweak",
          "FeatureTweak",
          "FeatureTweak",
          "FeatureTweak",
          "focus",
          "focus",
          "focus",
          "focus",
          "focus",
          "focus",
          "focus",
          "focus",
          "focus",
          "focus",
          "actionable_recourse",
          "actionable_recourse",
          "causal_recourse",
          "causal_recourse",
          "causal_recourse",
          "causal_recourse",
          "causal_recourse",
          "causal_recourse",
          "causal_recourse",
          "causal_recourse",
          "causal_recourse",
          "causal_recourse",
          "cchvae",
          "cchvae",
          "cchvae",
          "cchvae",
          "cchvae",
          "cchvae",
          "cchvae",
          "cchvae",
          "cchvae",
          "cchvae",
          "Clue",
          "Clue",
          "Clue",
          "Clue",
          "Clue",
          "Clue",
          "Clue",
          "Clue",
          "Clue",
          "Clue",
          "Cruds",
          "Cruds",
          "Cruds",
          "Cruds",
          "Cruds",
          "Cruds",
          "Cruds",
          "Cruds",
          "Cruds",
          "Cruds",
          null,
          null,
          null,
          null,
          null,
          null,
          null,
          null,
          null,
          null,
          "growingspheres",
          "growingspheres",
          "growingspheres",
          "growingspheres",
          "growingspheres",
          "growingspheres",
          "growingspheres",
          "growingspheres",
          "growingspheres",
          "growingspheres",
          "wachter",
          "wachter",
          "wachter",
          "wachter",
          "wachter",
          "wachter",
          "wachter",
          "wachter",
          "wachter",
          "wachter",
          "actionable_recourse",
          "actionable_recourse",
          "causal_recourse",
          "causal_recourse",
          "causal_recourse",
          "causal_recourse",
          "causal_recourse",
          "causal_recourse",
          "causal_recourse",
          "causal_recourse",
          "causal_recourse",
          "causal_recourse",
          "cchvae",
          "cchvae",
          "cchvae",
          "cchvae",
          "cchvae",
          "cchvae",
          "cchvae",
          "cchvae",
          "cchvae",
          "cchvae",
          "Clue",
          "Clue",
          "Clue",
          "Clue",
          "Clue",
          "Clue",
          "Clue",
          "Clue",
          "Clue",
          "Clue",
          "Cruds",
          "Cruds",
          "Cruds",
          "Cruds",
          "Cruds",
          "Cruds",
          "Cruds",
          "Cruds",
          "Cruds",
          "Cruds",
          "growingspheres",
          "growingspheres",
          "growingspheres",
          "growingspheres",
          "growingspheres",
          "growingspheres",
          "growingspheres",
          "growingspheres",
          "growingspheres",
          "growingspheres"
         ],
         "y": [
          1,
          1,
          0.8571428571428571,
          0.8571428571428571,
          0.8571428571428571,
          0,
          0,
          0,
          0,
          0.8571428571428571,
          0.8571428571428571,
          0.8571428571428571,
          0.8571428571428571,
          0,
          0,
          0,
          0,
          0,
          0.8571428571428571,
          0.8571428571428571,
          0.8571428571428571,
          0.8571428571428571,
          0.8571428571428571,
          0,
          0.2857142857142857,
          0.2857142857142857,
          0,
          0,
          0,
          0,
          0,
          0.2857142857142857,
          0.2857142857142857,
          0.2857142857142857,
          0.2857142857142857,
          0.2857142857142857,
          0,
          0,
          0,
          0,
          0,
          0.8571428571428571,
          0.8571428571428571,
          0.8571428571428571,
          0.8571428571428571,
          0.8571428571428571,
          0,
          0,
          0,
          0,
          0,
          0.2857142857142857,
          0.2857142857142857,
          0.2857142857142857,
          0.2857142857142857,
          0.2857142857142857,
          0,
          0,
          0.8571428571428571,
          0.8571428571428571,
          0,
          0,
          0,
          0,
          0,
          0.8571428571428571,
          0.8571428571428571,
          0.8571428571428571,
          0.8571428571428571,
          0.8571428571428571,
          0,
          0,
          0.2857142857142857,
          0.2857142857142857,
          0.2857142857142857,
          0,
          0,
          0,
          0,
          0,
          0.2857142857142857,
          0.2857142857142857,
          0.2857142857142857,
          0.2857142857142857,
          0.2857142857142857,
          0,
          0,
          0,
          0,
          0,
          0.8571428571428571,
          0.8571428571428571,
          0.8571428571428571,
          0.8571428571428571,
          0.8571428571428571,
          0,
          0,
          0,
          0.2857142857142857,
          0.2857142857142857,
          0.2857142857142857,
          0,
          0,
          0,
          0,
          0,
          0.3333333333333333,
          0.3333333333333333,
          0.3333333333333333,
          0.3333333333333333,
          0.3333333333333333,
          1,
          0,
          1,
          1,
          1,
          1,
          1,
          1,
          1,
          1,
          1,
          0.6666666666666666,
          0.6666666666666666,
          0.6666666666666666,
          0.6666666666666666,
          0.6666666666666666,
          0,
          1,
          0,
          0,
          0,
          0,
          0,
          1,
          1,
          1,
          1,
          1,
          0,
          0,
          0,
          0,
          0,
          1,
          1,
          1,
          1,
          1,
          0,
          0,
          0,
          0,
          0,
          0.3333333333333333,
          0.3333333333333333,
          0.3333333333333333,
          0.3333333333333333,
          0.3333333333333333,
          0,
          0,
          0,
          0,
          0,
          0.3333333333333333,
          0.3333333333333333,
          0.3333333333333333,
          0.3333333333333333,
          0.3333333333333333,
          0,
          0,
          0,
          0,
          0,
          1,
          1,
          1,
          1,
          1,
          0,
          0,
          0,
          0,
          0,
          1,
          1,
          1,
          1,
          1,
          0,
          0,
          0,
          0,
          0,
          0.3333333333333333,
          0.3333333333333333,
          0.3333333333333333,
          0.3333333333333333,
          0.3333333333333333,
          0,
          1,
          0,
          0,
          1,
          0,
          0,
          1,
          1,
          1,
          1,
          1,
          0,
          0,
          0,
          0,
          0,
          1,
          1,
          1,
          1,
          1,
          0,
          0,
          0,
          0,
          0,
          0.3333333333333333,
          0.3333333333333333,
          0.3333333333333333,
          0.3333333333333333,
          0.3333333333333333,
          0,
          0,
          0,
          0,
          0,
          0.3333333333333333,
          0.3333333333333333,
          0.3333333333333333,
          0.3333333333333333,
          0.3333333333333333,
          0,
          0,
          0,
          0,
          0,
          1,
          1,
          1,
          1,
          1
         ]
        }
       ],
       "layout": {
        "boxmode": "group",
        "template": {
         "data": {
          "bar": [
           {
            "error_x": {
             "color": "#2a3f5f"
            },
            "error_y": {
             "color": "#2a3f5f"
            },
            "marker": {
             "line": {
              "color": "#E5ECF6",
              "width": 0.5
             },
             "pattern": {
              "fillmode": "overlay",
              "size": 10,
              "solidity": 0.2
             }
            },
            "type": "bar"
           }
          ],
          "barpolar": [
           {
            "marker": {
             "line": {
              "color": "#E5ECF6",
              "width": 0.5
             },
             "pattern": {
              "fillmode": "overlay",
              "size": 10,
              "solidity": 0.2
             }
            },
            "type": "barpolar"
           }
          ],
          "carpet": [
           {
            "aaxis": {
             "endlinecolor": "#2a3f5f",
             "gridcolor": "white",
             "linecolor": "white",
             "minorgridcolor": "white",
             "startlinecolor": "#2a3f5f"
            },
            "baxis": {
             "endlinecolor": "#2a3f5f",
             "gridcolor": "white",
             "linecolor": "white",
             "minorgridcolor": "white",
             "startlinecolor": "#2a3f5f"
            },
            "type": "carpet"
           }
          ],
          "choropleth": [
           {
            "colorbar": {
             "outlinewidth": 0,
             "ticks": ""
            },
            "type": "choropleth"
           }
          ],
          "contour": [
           {
            "colorbar": {
             "outlinewidth": 0,
             "ticks": ""
            },
            "colorscale": [
             [
              0,
              "#0d0887"
             ],
             [
              0.1111111111111111,
              "#46039f"
             ],
             [
              0.2222222222222222,
              "#7201a8"
             ],
             [
              0.3333333333333333,
              "#9c179e"
             ],
             [
              0.4444444444444444,
              "#bd3786"
             ],
             [
              0.5555555555555556,
              "#d8576b"
             ],
             [
              0.6666666666666666,
              "#ed7953"
             ],
             [
              0.7777777777777778,
              "#fb9f3a"
             ],
             [
              0.8888888888888888,
              "#fdca26"
             ],
             [
              1,
              "#f0f921"
             ]
            ],
            "type": "contour"
           }
          ],
          "contourcarpet": [
           {
            "colorbar": {
             "outlinewidth": 0,
             "ticks": ""
            },
            "type": "contourcarpet"
           }
          ],
          "heatmap": [
           {
            "colorbar": {
             "outlinewidth": 0,
             "ticks": ""
            },
            "colorscale": [
             [
              0,
              "#0d0887"
             ],
             [
              0.1111111111111111,
              "#46039f"
             ],
             [
              0.2222222222222222,
              "#7201a8"
             ],
             [
              0.3333333333333333,
              "#9c179e"
             ],
             [
              0.4444444444444444,
              "#bd3786"
             ],
             [
              0.5555555555555556,
              "#d8576b"
             ],
             [
              0.6666666666666666,
              "#ed7953"
             ],
             [
              0.7777777777777778,
              "#fb9f3a"
             ],
             [
              0.8888888888888888,
              "#fdca26"
             ],
             [
              1,
              "#f0f921"
             ]
            ],
            "type": "heatmap"
           }
          ],
          "heatmapgl": [
           {
            "colorbar": {
             "outlinewidth": 0,
             "ticks": ""
            },
            "colorscale": [
             [
              0,
              "#0d0887"
             ],
             [
              0.1111111111111111,
              "#46039f"
             ],
             [
              0.2222222222222222,
              "#7201a8"
             ],
             [
              0.3333333333333333,
              "#9c179e"
             ],
             [
              0.4444444444444444,
              "#bd3786"
             ],
             [
              0.5555555555555556,
              "#d8576b"
             ],
             [
              0.6666666666666666,
              "#ed7953"
             ],
             [
              0.7777777777777778,
              "#fb9f3a"
             ],
             [
              0.8888888888888888,
              "#fdca26"
             ],
             [
              1,
              "#f0f921"
             ]
            ],
            "type": "heatmapgl"
           }
          ],
          "histogram": [
           {
            "marker": {
             "pattern": {
              "fillmode": "overlay",
              "size": 10,
              "solidity": 0.2
             }
            },
            "type": "histogram"
           }
          ],
          "histogram2d": [
           {
            "colorbar": {
             "outlinewidth": 0,
             "ticks": ""
            },
            "colorscale": [
             [
              0,
              "#0d0887"
             ],
             [
              0.1111111111111111,
              "#46039f"
             ],
             [
              0.2222222222222222,
              "#7201a8"
             ],
             [
              0.3333333333333333,
              "#9c179e"
             ],
             [
              0.4444444444444444,
              "#bd3786"
             ],
             [
              0.5555555555555556,
              "#d8576b"
             ],
             [
              0.6666666666666666,
              "#ed7953"
             ],
             [
              0.7777777777777778,
              "#fb9f3a"
             ],
             [
              0.8888888888888888,
              "#fdca26"
             ],
             [
              1,
              "#f0f921"
             ]
            ],
            "type": "histogram2d"
           }
          ],
          "histogram2dcontour": [
           {
            "colorbar": {
             "outlinewidth": 0,
             "ticks": ""
            },
            "colorscale": [
             [
              0,
              "#0d0887"
             ],
             [
              0.1111111111111111,
              "#46039f"
             ],
             [
              0.2222222222222222,
              "#7201a8"
             ],
             [
              0.3333333333333333,
              "#9c179e"
             ],
             [
              0.4444444444444444,
              "#bd3786"
             ],
             [
              0.5555555555555556,
              "#d8576b"
             ],
             [
              0.6666666666666666,
              "#ed7953"
             ],
             [
              0.7777777777777778,
              "#fb9f3a"
             ],
             [
              0.8888888888888888,
              "#fdca26"
             ],
             [
              1,
              "#f0f921"
             ]
            ],
            "type": "histogram2dcontour"
           }
          ],
          "mesh3d": [
           {
            "colorbar": {
             "outlinewidth": 0,
             "ticks": ""
            },
            "type": "mesh3d"
           }
          ],
          "parcoords": [
           {
            "line": {
             "colorbar": {
              "outlinewidth": 0,
              "ticks": ""
             }
            },
            "type": "parcoords"
           }
          ],
          "pie": [
           {
            "automargin": true,
            "type": "pie"
           }
          ],
          "scatter": [
           {
            "fillpattern": {
             "fillmode": "overlay",
             "size": 10,
             "solidity": 0.2
            },
            "type": "scatter"
           }
          ],
          "scatter3d": [
           {
            "line": {
             "colorbar": {
              "outlinewidth": 0,
              "ticks": ""
             }
            },
            "marker": {
             "colorbar": {
              "outlinewidth": 0,
              "ticks": ""
             }
            },
            "type": "scatter3d"
           }
          ],
          "scattercarpet": [
           {
            "marker": {
             "colorbar": {
              "outlinewidth": 0,
              "ticks": ""
             }
            },
            "type": "scattercarpet"
           }
          ],
          "scattergeo": [
           {
            "marker": {
             "colorbar": {
              "outlinewidth": 0,
              "ticks": ""
             }
            },
            "type": "scattergeo"
           }
          ],
          "scattergl": [
           {
            "marker": {
             "colorbar": {
              "outlinewidth": 0,
              "ticks": ""
             }
            },
            "type": "scattergl"
           }
          ],
          "scattermapbox": [
           {
            "marker": {
             "colorbar": {
              "outlinewidth": 0,
              "ticks": ""
             }
            },
            "type": "scattermapbox"
           }
          ],
          "scatterpolar": [
           {
            "marker": {
             "colorbar": {
              "outlinewidth": 0,
              "ticks": ""
             }
            },
            "type": "scatterpolar"
           }
          ],
          "scatterpolargl": [
           {
            "marker": {
             "colorbar": {
              "outlinewidth": 0,
              "ticks": ""
             }
            },
            "type": "scatterpolargl"
           }
          ],
          "scatterternary": [
           {
            "marker": {
             "colorbar": {
              "outlinewidth": 0,
              "ticks": ""
             }
            },
            "type": "scatterternary"
           }
          ],
          "surface": [
           {
            "colorbar": {
             "outlinewidth": 0,
             "ticks": ""
            },
            "colorscale": [
             [
              0,
              "#0d0887"
             ],
             [
              0.1111111111111111,
              "#46039f"
             ],
             [
              0.2222222222222222,
              "#7201a8"
             ],
             [
              0.3333333333333333,
              "#9c179e"
             ],
             [
              0.4444444444444444,
              "#bd3786"
             ],
             [
              0.5555555555555556,
              "#d8576b"
             ],
             [
              0.6666666666666666,
              "#ed7953"
             ],
             [
              0.7777777777777778,
              "#fb9f3a"
             ],
             [
              0.8888888888888888,
              "#fdca26"
             ],
             [
              1,
              "#f0f921"
             ]
            ],
            "type": "surface"
           }
          ],
          "table": [
           {
            "cells": {
             "fill": {
              "color": "#EBF0F8"
             },
             "line": {
              "color": "white"
             }
            },
            "header": {
             "fill": {
              "color": "#C8D4E3"
             },
             "line": {
              "color": "white"
             }
            },
            "type": "table"
           }
          ]
         },
         "layout": {
          "annotationdefaults": {
           "arrowcolor": "#2a3f5f",
           "arrowhead": 0,
           "arrowwidth": 1
          },
          "autotypenumbers": "strict",
          "coloraxis": {
           "colorbar": {
            "outlinewidth": 0,
            "ticks": ""
           }
          },
          "colorscale": {
           "diverging": [
            [
             0,
             "#8e0152"
            ],
            [
             0.1,
             "#c51b7d"
            ],
            [
             0.2,
             "#de77ae"
            ],
            [
             0.3,
             "#f1b6da"
            ],
            [
             0.4,
             "#fde0ef"
            ],
            [
             0.5,
             "#f7f7f7"
            ],
            [
             0.6,
             "#e6f5d0"
            ],
            [
             0.7,
             "#b8e186"
            ],
            [
             0.8,
             "#7fbc41"
            ],
            [
             0.9,
             "#4d9221"
            ],
            [
             1,
             "#276419"
            ]
           ],
           "sequential": [
            [
             0,
             "#0d0887"
            ],
            [
             0.1111111111111111,
             "#46039f"
            ],
            [
             0.2222222222222222,
             "#7201a8"
            ],
            [
             0.3333333333333333,
             "#9c179e"
            ],
            [
             0.4444444444444444,
             "#bd3786"
            ],
            [
             0.5555555555555556,
             "#d8576b"
            ],
            [
             0.6666666666666666,
             "#ed7953"
            ],
            [
             0.7777777777777778,
             "#fb9f3a"
            ],
            [
             0.8888888888888888,
             "#fdca26"
            ],
            [
             1,
             "#f0f921"
            ]
           ],
           "sequentialminus": [
            [
             0,
             "#0d0887"
            ],
            [
             0.1111111111111111,
             "#46039f"
            ],
            [
             0.2222222222222222,
             "#7201a8"
            ],
            [
             0.3333333333333333,
             "#9c179e"
            ],
            [
             0.4444444444444444,
             "#bd3786"
            ],
            [
             0.5555555555555556,
             "#d8576b"
            ],
            [
             0.6666666666666666,
             "#ed7953"
            ],
            [
             0.7777777777777778,
             "#fb9f3a"
            ],
            [
             0.8888888888888888,
             "#fdca26"
            ],
            [
             1,
             "#f0f921"
            ]
           ]
          },
          "colorway": [
           "#636efa",
           "#EF553B",
           "#00cc96",
           "#ab63fa",
           "#FFA15A",
           "#19d3f3",
           "#FF6692",
           "#B6E880",
           "#FF97FF",
           "#FECB52"
          ],
          "font": {
           "color": "#2a3f5f"
          },
          "geo": {
           "bgcolor": "white",
           "lakecolor": "white",
           "landcolor": "#E5ECF6",
           "showlakes": true,
           "showland": true,
           "subunitcolor": "white"
          },
          "hoverlabel": {
           "align": "left"
          },
          "hovermode": "closest",
          "mapbox": {
           "style": "light"
          },
          "paper_bgcolor": "white",
          "plot_bgcolor": "#E5ECF6",
          "polar": {
           "angularaxis": {
            "gridcolor": "white",
            "linecolor": "white",
            "ticks": ""
           },
           "bgcolor": "#E5ECF6",
           "radialaxis": {
            "gridcolor": "white",
            "linecolor": "white",
            "ticks": ""
           }
          },
          "scene": {
           "xaxis": {
            "backgroundcolor": "#E5ECF6",
            "gridcolor": "white",
            "gridwidth": 2,
            "linecolor": "white",
            "showbackground": true,
            "ticks": "",
            "zerolinecolor": "white"
           },
           "yaxis": {
            "backgroundcolor": "#E5ECF6",
            "gridcolor": "white",
            "gridwidth": 2,
            "linecolor": "white",
            "showbackground": true,
            "ticks": "",
            "zerolinecolor": "white"
           },
           "zaxis": {
            "backgroundcolor": "#E5ECF6",
            "gridcolor": "white",
            "gridwidth": 2,
            "linecolor": "white",
            "showbackground": true,
            "ticks": "",
            "zerolinecolor": "white"
           }
          },
          "shapedefaults": {
           "line": {
            "color": "#2a3f5f"
           }
          },
          "ternary": {
           "aaxis": {
            "gridcolor": "white",
            "linecolor": "white",
            "ticks": ""
           },
           "baxis": {
            "gridcolor": "white",
            "linecolor": "white",
            "ticks": ""
           },
           "bgcolor": "#E5ECF6",
           "caxis": {
            "gridcolor": "white",
            "linecolor": "white",
            "ticks": ""
           }
          },
          "title": {
           "x": 0.05
          },
          "xaxis": {
           "automargin": true,
           "gridcolor": "white",
           "linecolor": "white",
           "ticks": "",
           "title": {
            "standoff": 15
           },
           "zerolinecolor": "white",
           "zerolinewidth": 2
          },
          "yaxis": {
           "automargin": true,
           "gridcolor": "white",
           "linecolor": "white",
           "ticks": "",
           "title": {
            "standoff": 15
           },
           "zerolinecolor": "white",
           "zerolinewidth": 2
          }
         }
        },
        "yaxis": {
         "title": {
          "text": "normalized moisture"
         }
        }
       }
      }
     },
     "metadata": {},
     "output_type": "display_data"
    }
   ],
   "source": [
    "import plotly.graph_objects as go\n",
    "import numpy as np\n",
    "np.random.seed(1)\n",
    "\n",
    "fig = go.Figure()\n",
    "fig.add_trace(go.Box(x=df[\"CF\"], y=df[\"semantic\"], name='semantic') )\n",
    "fig.add_trace(go.Box(x=df[\"CF\"], y=df[\"correct_relationships\"],name='relationship'))\n",
    "\n",
    "fig.update_layout(\n",
    "    yaxis_title='metric',\n",
    "    boxmode='group' # group together boxes of the different traces for each value of x\n",
    ")\n",
    "\n",
    "fig.show()"
   ]
  },
  {
   "cell_type": "code",
   "execution_count": 26,
   "metadata": {},
   "outputs": [
    {
     "data": {
      "application/vnd.plotly.v1+json": {
       "config": {
        "plotlyServerURL": "https://plot.ly"
       },
       "data": [
        {
         "hovertemplate": "x=%{x}<br>y=%{y}<extra></extra>",
         "legendgroup": "",
         "marker": {
          "color": "#636efa",
          "symbol": "circle"
         },
         "mode": "markers",
         "name": "",
         "orientation": "v",
         "showlegend": false,
         "type": "scatter",
         "x": [
          1,
          0,
          1,
          0.8571428571428571,
          0.8571428571428571,
          0,
          0,
          0,
          0,
          0.8571428571428571,
          0.8571428571428571,
          0.8571428571428571,
          0.8571428571428571,
          0,
          0,
          0,
          0,
          0,
          0.8571428571428571,
          0.8571428571428571,
          0.8571428571428571,
          0.8571428571428571,
          0.8571428571428571,
          0,
          0,
          0.2857142857142857,
          0,
          0,
          0,
          0,
          0,
          0.2857142857142857,
          0.2857142857142857,
          0.2857142857142857,
          0.2857142857142857,
          0.2857142857142857,
          0,
          0,
          0,
          0,
          0,
          0.8571428571428571,
          0.8571428571428571,
          0.8571428571428571,
          0.8571428571428571,
          0.8571428571428571,
          0,
          0,
          0,
          0,
          0,
          0.2857142857142857,
          0.2857142857142857,
          0.2857142857142857,
          0.2857142857142857,
          0.2857142857142857,
          0,
          0,
          0.8571428571428571,
          0.8571428571428571,
          0,
          0,
          0,
          0,
          0,
          0.8571428571428571,
          0.8571428571428571,
          0.8571428571428571,
          0.8571428571428571,
          0.8571428571428571,
          0,
          0,
          0,
          0.2857142857142857,
          0.2857142857142857,
          0,
          0,
          0,
          0,
          0,
          0.2857142857142857,
          0.2857142857142857,
          0.2857142857142857,
          0.2857142857142857,
          0.2857142857142857,
          0,
          0,
          0,
          0,
          0,
          0.8571428571428571,
          0.8571428571428571,
          0.8571428571428571,
          0.8571428571428571,
          0.8571428571428571,
          0,
          0,
          0,
          0.2857142857142857,
          0.2857142857142857,
          0.2857142857142857,
          0,
          0,
          0,
          0,
          0,
          0.3333333333333333,
          0.3333333333333333,
          0.3333333333333333,
          0.3333333333333333,
          0.3333333333333333,
          0,
          1,
          0,
          1,
          1,
          1,
          1,
          1,
          1,
          1,
          1,
          0.6666666666666666,
          0.6666666666666666,
          0.6666666666666666,
          0.6666666666666666,
          0.6666666666666666,
          0,
          1,
          0,
          0,
          0,
          0,
          0,
          1,
          1,
          1,
          1,
          1,
          0,
          0,
          0,
          0,
          0,
          1,
          1,
          1,
          1,
          1,
          0,
          0,
          0,
          0,
          0,
          0.3333333333333333,
          0.3333333333333333,
          0.3333333333333333,
          0.3333333333333333,
          0.3333333333333333,
          0,
          0,
          0,
          0,
          0,
          0.3333333333333333,
          0.3333333333333333,
          0.3333333333333333,
          0.3333333333333333,
          0.3333333333333333,
          0,
          0,
          0,
          0,
          0,
          1,
          1,
          1,
          1,
          1,
          0,
          0,
          0,
          0,
          0,
          1,
          1,
          1,
          1,
          1,
          0,
          0,
          0,
          0,
          0,
          0.3333333333333333,
          0.3333333333333333,
          0.3333333333333333,
          0.3333333333333333,
          0.3333333333333333,
          0,
          1,
          0,
          0,
          0,
          0,
          0,
          1,
          1,
          1,
          1,
          1,
          0,
          0,
          0,
          0,
          0,
          1,
          1,
          1,
          1,
          1,
          0,
          0,
          0,
          0,
          0,
          0.3333333333333333,
          0.3333333333333333,
          0.3333333333333333,
          0.3333333333333333,
          0.3333333333333333,
          0,
          0,
          0,
          0,
          0,
          0.3333333333333333,
          0.3333333333333333,
          0.3333333333333333,
          0.3333333333333333,
          0.3333333333333333,
          0,
          0,
          0,
          0,
          0,
          1,
          1,
          1,
          1,
          1
         ],
         "xaxis": "x",
         "y": [
          1,
          1,
          0.8571428571428571,
          0.8571428571428571,
          0.8571428571428571,
          0,
          0,
          0,
          0,
          0.8571428571428571,
          0.8571428571428571,
          0.8571428571428571,
          0.8571428571428571,
          0,
          0,
          0,
          0,
          0,
          0.8571428571428571,
          0.8571428571428571,
          0.8571428571428571,
          0.8571428571428571,
          0.8571428571428571,
          0,
          0.2857142857142857,
          0.2857142857142857,
          0,
          0,
          0,
          0,
          0,
          0.2857142857142857,
          0.2857142857142857,
          0.2857142857142857,
          0.2857142857142857,
          0.2857142857142857,
          0,
          0,
          0,
          0,
          0,
          0.8571428571428571,
          0.8571428571428571,
          0.8571428571428571,
          0.8571428571428571,
          0.8571428571428571,
          0,
          0,
          0,
          0,
          0,
          0.2857142857142857,
          0.2857142857142857,
          0.2857142857142857,
          0.2857142857142857,
          0.2857142857142857,
          0,
          0,
          0.8571428571428571,
          0.8571428571428571,
          0,
          0,
          0,
          0,
          0,
          0.8571428571428571,
          0.8571428571428571,
          0.8571428571428571,
          0.8571428571428571,
          0.8571428571428571,
          0,
          0,
          0.2857142857142857,
          0.2857142857142857,
          0.2857142857142857,
          0,
          0,
          0,
          0,
          0,
          0.2857142857142857,
          0.2857142857142857,
          0.2857142857142857,
          0.2857142857142857,
          0.2857142857142857,
          0,
          0,
          0,
          0,
          0,
          0.8571428571428571,
          0.8571428571428571,
          0.8571428571428571,
          0.8571428571428571,
          0.8571428571428571,
          0,
          0,
          0,
          0.2857142857142857,
          0.2857142857142857,
          0.2857142857142857,
          0,
          0,
          0,
          0,
          0,
          0.3333333333333333,
          0.3333333333333333,
          0.3333333333333333,
          0.3333333333333333,
          0.3333333333333333,
          1,
          0,
          1,
          1,
          1,
          1,
          1,
          1,
          1,
          1,
          1,
          0.6666666666666666,
          0.6666666666666666,
          0.6666666666666666,
          0.6666666666666666,
          0.6666666666666666,
          0,
          1,
          0,
          0,
          0,
          0,
          0,
          1,
          1,
          1,
          1,
          1,
          0,
          0,
          0,
          0,
          0,
          1,
          1,
          1,
          1,
          1,
          0,
          0,
          0,
          0,
          0,
          0.3333333333333333,
          0.3333333333333333,
          0.3333333333333333,
          0.3333333333333333,
          0.3333333333333333,
          0,
          0,
          0,
          0,
          0,
          0.3333333333333333,
          0.3333333333333333,
          0.3333333333333333,
          0.3333333333333333,
          0.3333333333333333,
          0,
          0,
          0,
          0,
          0,
          1,
          1,
          1,
          1,
          1,
          0,
          0,
          0,
          0,
          0,
          1,
          1,
          1,
          1,
          1,
          0,
          0,
          0,
          0,
          0,
          0.3333333333333333,
          0.3333333333333333,
          0.3333333333333333,
          0.3333333333333333,
          0.3333333333333333,
          0,
          1,
          0,
          0,
          1,
          0,
          0,
          1,
          1,
          1,
          1,
          1,
          0,
          0,
          0,
          0,
          0,
          1,
          1,
          1,
          1,
          1,
          0,
          0,
          0,
          0,
          0,
          0.3333333333333333,
          0.3333333333333333,
          0.3333333333333333,
          0.3333333333333333,
          0.3333333333333333,
          0,
          0,
          0,
          0,
          0,
          0.3333333333333333,
          0.3333333333333333,
          0.3333333333333333,
          0.3333333333333333,
          0.3333333333333333,
          0,
          0,
          0,
          0,
          0,
          1,
          1,
          1,
          1,
          1
         ],
         "yaxis": "y"
        }
       ],
       "layout": {
        "legend": {
         "tracegroupgap": 0
        },
        "margin": {
         "t": 60
        },
        "template": {
         "data": {
          "bar": [
           {
            "error_x": {
             "color": "#2a3f5f"
            },
            "error_y": {
             "color": "#2a3f5f"
            },
            "marker": {
             "line": {
              "color": "#E5ECF6",
              "width": 0.5
             },
             "pattern": {
              "fillmode": "overlay",
              "size": 10,
              "solidity": 0.2
             }
            },
            "type": "bar"
           }
          ],
          "barpolar": [
           {
            "marker": {
             "line": {
              "color": "#E5ECF6",
              "width": 0.5
             },
             "pattern": {
              "fillmode": "overlay",
              "size": 10,
              "solidity": 0.2
             }
            },
            "type": "barpolar"
           }
          ],
          "carpet": [
           {
            "aaxis": {
             "endlinecolor": "#2a3f5f",
             "gridcolor": "white",
             "linecolor": "white",
             "minorgridcolor": "white",
             "startlinecolor": "#2a3f5f"
            },
            "baxis": {
             "endlinecolor": "#2a3f5f",
             "gridcolor": "white",
             "linecolor": "white",
             "minorgridcolor": "white",
             "startlinecolor": "#2a3f5f"
            },
            "type": "carpet"
           }
          ],
          "choropleth": [
           {
            "colorbar": {
             "outlinewidth": 0,
             "ticks": ""
            },
            "type": "choropleth"
           }
          ],
          "contour": [
           {
            "colorbar": {
             "outlinewidth": 0,
             "ticks": ""
            },
            "colorscale": [
             [
              0,
              "#0d0887"
             ],
             [
              0.1111111111111111,
              "#46039f"
             ],
             [
              0.2222222222222222,
              "#7201a8"
             ],
             [
              0.3333333333333333,
              "#9c179e"
             ],
             [
              0.4444444444444444,
              "#bd3786"
             ],
             [
              0.5555555555555556,
              "#d8576b"
             ],
             [
              0.6666666666666666,
              "#ed7953"
             ],
             [
              0.7777777777777778,
              "#fb9f3a"
             ],
             [
              0.8888888888888888,
              "#fdca26"
             ],
             [
              1,
              "#f0f921"
             ]
            ],
            "type": "contour"
           }
          ],
          "contourcarpet": [
           {
            "colorbar": {
             "outlinewidth": 0,
             "ticks": ""
            },
            "type": "contourcarpet"
           }
          ],
          "heatmap": [
           {
            "colorbar": {
             "outlinewidth": 0,
             "ticks": ""
            },
            "colorscale": [
             [
              0,
              "#0d0887"
             ],
             [
              0.1111111111111111,
              "#46039f"
             ],
             [
              0.2222222222222222,
              "#7201a8"
             ],
             [
              0.3333333333333333,
              "#9c179e"
             ],
             [
              0.4444444444444444,
              "#bd3786"
             ],
             [
              0.5555555555555556,
              "#d8576b"
             ],
             [
              0.6666666666666666,
              "#ed7953"
             ],
             [
              0.7777777777777778,
              "#fb9f3a"
             ],
             [
              0.8888888888888888,
              "#fdca26"
             ],
             [
              1,
              "#f0f921"
             ]
            ],
            "type": "heatmap"
           }
          ],
          "heatmapgl": [
           {
            "colorbar": {
             "outlinewidth": 0,
             "ticks": ""
            },
            "colorscale": [
             [
              0,
              "#0d0887"
             ],
             [
              0.1111111111111111,
              "#46039f"
             ],
             [
              0.2222222222222222,
              "#7201a8"
             ],
             [
              0.3333333333333333,
              "#9c179e"
             ],
             [
              0.4444444444444444,
              "#bd3786"
             ],
             [
              0.5555555555555556,
              "#d8576b"
             ],
             [
              0.6666666666666666,
              "#ed7953"
             ],
             [
              0.7777777777777778,
              "#fb9f3a"
             ],
             [
              0.8888888888888888,
              "#fdca26"
             ],
             [
              1,
              "#f0f921"
             ]
            ],
            "type": "heatmapgl"
           }
          ],
          "histogram": [
           {
            "marker": {
             "pattern": {
              "fillmode": "overlay",
              "size": 10,
              "solidity": 0.2
             }
            },
            "type": "histogram"
           }
          ],
          "histogram2d": [
           {
            "colorbar": {
             "outlinewidth": 0,
             "ticks": ""
            },
            "colorscale": [
             [
              0,
              "#0d0887"
             ],
             [
              0.1111111111111111,
              "#46039f"
             ],
             [
              0.2222222222222222,
              "#7201a8"
             ],
             [
              0.3333333333333333,
              "#9c179e"
             ],
             [
              0.4444444444444444,
              "#bd3786"
             ],
             [
              0.5555555555555556,
              "#d8576b"
             ],
             [
              0.6666666666666666,
              "#ed7953"
             ],
             [
              0.7777777777777778,
              "#fb9f3a"
             ],
             [
              0.8888888888888888,
              "#fdca26"
             ],
             [
              1,
              "#f0f921"
             ]
            ],
            "type": "histogram2d"
           }
          ],
          "histogram2dcontour": [
           {
            "colorbar": {
             "outlinewidth": 0,
             "ticks": ""
            },
            "colorscale": [
             [
              0,
              "#0d0887"
             ],
             [
              0.1111111111111111,
              "#46039f"
             ],
             [
              0.2222222222222222,
              "#7201a8"
             ],
             [
              0.3333333333333333,
              "#9c179e"
             ],
             [
              0.4444444444444444,
              "#bd3786"
             ],
             [
              0.5555555555555556,
              "#d8576b"
             ],
             [
              0.6666666666666666,
              "#ed7953"
             ],
             [
              0.7777777777777778,
              "#fb9f3a"
             ],
             [
              0.8888888888888888,
              "#fdca26"
             ],
             [
              1,
              "#f0f921"
             ]
            ],
            "type": "histogram2dcontour"
           }
          ],
          "mesh3d": [
           {
            "colorbar": {
             "outlinewidth": 0,
             "ticks": ""
            },
            "type": "mesh3d"
           }
          ],
          "parcoords": [
           {
            "line": {
             "colorbar": {
              "outlinewidth": 0,
              "ticks": ""
             }
            },
            "type": "parcoords"
           }
          ],
          "pie": [
           {
            "automargin": true,
            "type": "pie"
           }
          ],
          "scatter": [
           {
            "fillpattern": {
             "fillmode": "overlay",
             "size": 10,
             "solidity": 0.2
            },
            "type": "scatter"
           }
          ],
          "scatter3d": [
           {
            "line": {
             "colorbar": {
              "outlinewidth": 0,
              "ticks": ""
             }
            },
            "marker": {
             "colorbar": {
              "outlinewidth": 0,
              "ticks": ""
             }
            },
            "type": "scatter3d"
           }
          ],
          "scattercarpet": [
           {
            "marker": {
             "colorbar": {
              "outlinewidth": 0,
              "ticks": ""
             }
            },
            "type": "scattercarpet"
           }
          ],
          "scattergeo": [
           {
            "marker": {
             "colorbar": {
              "outlinewidth": 0,
              "ticks": ""
             }
            },
            "type": "scattergeo"
           }
          ],
          "scattergl": [
           {
            "marker": {
             "colorbar": {
              "outlinewidth": 0,
              "ticks": ""
             }
            },
            "type": "scattergl"
           }
          ],
          "scattermapbox": [
           {
            "marker": {
             "colorbar": {
              "outlinewidth": 0,
              "ticks": ""
             }
            },
            "type": "scattermapbox"
           }
          ],
          "scatterpolar": [
           {
            "marker": {
             "colorbar": {
              "outlinewidth": 0,
              "ticks": ""
             }
            },
            "type": "scatterpolar"
           }
          ],
          "scatterpolargl": [
           {
            "marker": {
             "colorbar": {
              "outlinewidth": 0,
              "ticks": ""
             }
            },
            "type": "scatterpolargl"
           }
          ],
          "scatterternary": [
           {
            "marker": {
             "colorbar": {
              "outlinewidth": 0,
              "ticks": ""
             }
            },
            "type": "scatterternary"
           }
          ],
          "surface": [
           {
            "colorbar": {
             "outlinewidth": 0,
             "ticks": ""
            },
            "colorscale": [
             [
              0,
              "#0d0887"
             ],
             [
              0.1111111111111111,
              "#46039f"
             ],
             [
              0.2222222222222222,
              "#7201a8"
             ],
             [
              0.3333333333333333,
              "#9c179e"
             ],
             [
              0.4444444444444444,
              "#bd3786"
             ],
             [
              0.5555555555555556,
              "#d8576b"
             ],
             [
              0.6666666666666666,
              "#ed7953"
             ],
             [
              0.7777777777777778,
              "#fb9f3a"
             ],
             [
              0.8888888888888888,
              "#fdca26"
             ],
             [
              1,
              "#f0f921"
             ]
            ],
            "type": "surface"
           }
          ],
          "table": [
           {
            "cells": {
             "fill": {
              "color": "#EBF0F8"
             },
             "line": {
              "color": "white"
             }
            },
            "header": {
             "fill": {
              "color": "#C8D4E3"
             },
             "line": {
              "color": "white"
             }
            },
            "type": "table"
           }
          ]
         },
         "layout": {
          "annotationdefaults": {
           "arrowcolor": "#2a3f5f",
           "arrowhead": 0,
           "arrowwidth": 1
          },
          "autotypenumbers": "strict",
          "coloraxis": {
           "colorbar": {
            "outlinewidth": 0,
            "ticks": ""
           }
          },
          "colorscale": {
           "diverging": [
            [
             0,
             "#8e0152"
            ],
            [
             0.1,
             "#c51b7d"
            ],
            [
             0.2,
             "#de77ae"
            ],
            [
             0.3,
             "#f1b6da"
            ],
            [
             0.4,
             "#fde0ef"
            ],
            [
             0.5,
             "#f7f7f7"
            ],
            [
             0.6,
             "#e6f5d0"
            ],
            [
             0.7,
             "#b8e186"
            ],
            [
             0.8,
             "#7fbc41"
            ],
            [
             0.9,
             "#4d9221"
            ],
            [
             1,
             "#276419"
            ]
           ],
           "sequential": [
            [
             0,
             "#0d0887"
            ],
            [
             0.1111111111111111,
             "#46039f"
            ],
            [
             0.2222222222222222,
             "#7201a8"
            ],
            [
             0.3333333333333333,
             "#9c179e"
            ],
            [
             0.4444444444444444,
             "#bd3786"
            ],
            [
             0.5555555555555556,
             "#d8576b"
            ],
            [
             0.6666666666666666,
             "#ed7953"
            ],
            [
             0.7777777777777778,
             "#fb9f3a"
            ],
            [
             0.8888888888888888,
             "#fdca26"
            ],
            [
             1,
             "#f0f921"
            ]
           ],
           "sequentialminus": [
            [
             0,
             "#0d0887"
            ],
            [
             0.1111111111111111,
             "#46039f"
            ],
            [
             0.2222222222222222,
             "#7201a8"
            ],
            [
             0.3333333333333333,
             "#9c179e"
            ],
            [
             0.4444444444444444,
             "#bd3786"
            ],
            [
             0.5555555555555556,
             "#d8576b"
            ],
            [
             0.6666666666666666,
             "#ed7953"
            ],
            [
             0.7777777777777778,
             "#fb9f3a"
            ],
            [
             0.8888888888888888,
             "#fdca26"
            ],
            [
             1,
             "#f0f921"
            ]
           ]
          },
          "colorway": [
           "#636efa",
           "#EF553B",
           "#00cc96",
           "#ab63fa",
           "#FFA15A",
           "#19d3f3",
           "#FF6692",
           "#B6E880",
           "#FF97FF",
           "#FECB52"
          ],
          "font": {
           "color": "#2a3f5f"
          },
          "geo": {
           "bgcolor": "white",
           "lakecolor": "white",
           "landcolor": "#E5ECF6",
           "showlakes": true,
           "showland": true,
           "subunitcolor": "white"
          },
          "hoverlabel": {
           "align": "left"
          },
          "hovermode": "closest",
          "mapbox": {
           "style": "light"
          },
          "paper_bgcolor": "white",
          "plot_bgcolor": "#E5ECF6",
          "polar": {
           "angularaxis": {
            "gridcolor": "white",
            "linecolor": "white",
            "ticks": ""
           },
           "bgcolor": "#E5ECF6",
           "radialaxis": {
            "gridcolor": "white",
            "linecolor": "white",
            "ticks": ""
           }
          },
          "scene": {
           "xaxis": {
            "backgroundcolor": "#E5ECF6",
            "gridcolor": "white",
            "gridwidth": 2,
            "linecolor": "white",
            "showbackground": true,
            "ticks": "",
            "zerolinecolor": "white"
           },
           "yaxis": {
            "backgroundcolor": "#E5ECF6",
            "gridcolor": "white",
            "gridwidth": 2,
            "linecolor": "white",
            "showbackground": true,
            "ticks": "",
            "zerolinecolor": "white"
           },
           "zaxis": {
            "backgroundcolor": "#E5ECF6",
            "gridcolor": "white",
            "gridwidth": 2,
            "linecolor": "white",
            "showbackground": true,
            "ticks": "",
            "zerolinecolor": "white"
           }
          },
          "shapedefaults": {
           "line": {
            "color": "#2a3f5f"
           }
          },
          "ternary": {
           "aaxis": {
            "gridcolor": "white",
            "linecolor": "white",
            "ticks": ""
           },
           "baxis": {
            "gridcolor": "white",
            "linecolor": "white",
            "ticks": ""
           },
           "bgcolor": "#E5ECF6",
           "caxis": {
            "gridcolor": "white",
            "linecolor": "white",
            "ticks": ""
           }
          },
          "title": {
           "x": 0.05
          },
          "xaxis": {
           "automargin": true,
           "gridcolor": "white",
           "linecolor": "white",
           "ticks": "",
           "title": {
            "standoff": 15
           },
           "zerolinecolor": "white",
           "zerolinewidth": 2
          },
          "yaxis": {
           "automargin": true,
           "gridcolor": "white",
           "linecolor": "white",
           "ticks": "",
           "title": {
            "standoff": 15
           },
           "zerolinecolor": "white",
           "zerolinewidth": 2
          }
         }
        },
        "xaxis": {
         "anchor": "y",
         "domain": [
          0,
          1
         ],
         "title": {
          "text": "x"
         }
        },
        "yaxis": {
         "anchor": "x",
         "domain": [
          0,
          1
         ],
         "title": {
          "text": "y"
         }
        }
       }
      }
     },
     "metadata": {},
     "output_type": "display_data"
    }
   ],
   "source": [
    "import plotly.express as px\n",
    "fig = px.scatter(x=df['semantic'], y=df[\"correct_relationships\"])\n",
    "fig.show()"
   ]
  }
 ],
 "metadata": {
  "kernelspec": {
   "display_name": "CARLA-7s4zdYsf",
   "language": "python",
   "name": "python3"
  },
  "language_info": {
   "codemirror_mode": {
    "name": "ipython",
    "version": 3
   },
   "file_extension": ".py",
   "mimetype": "text/x-python",
   "name": "python",
   "nbconvert_exporter": "python",
   "pygments_lexer": "ipython3",
   "version": "3.7.16"
  },
  "orig_nbformat": 4,
  "vscode": {
   "interpreter": {
    "hash": "05951db0b7a8fb6113eda4ec48ea77d75ed33c5045908c39c7a5079655347ffc"
   }
  }
 },
 "nbformat": 4,
 "nbformat_minor": 2
}
