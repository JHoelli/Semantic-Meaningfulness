{
 "cells": [
  {
   "cell_type": "code",
   "execution_count": 5,
   "metadata": {},
   "outputs": [],
   "source": [
    "import pandas as pd\n",
    "import numpy as np\n",
    "# Model Dataset, CD "
   ]
  },
  {
   "cell_type": "code",
   "execution_count": 6,
   "metadata": {},
   "outputs": [],
   "source": [
    "df=pd.read_csv('summary.csv')\n"
   ]
  },
  {
   "cell_type": "code",
   "execution_count": 14,
   "metadata": {},
   "outputs": [
    {
     "name": "stdout",
     "output_type": "stream",
     "text": [
      "['Clue' 'Cruds' 'Face' 'FeatureTweak' 'actionable_recourse'\n",
      " 'causal_recourse' 'cchvae' 'do_calculus' 'focus' 'growingspheres'\n",
      " 'wachter']\n",
      "Starting credit\n",
      "OUPUT\n",
      "& Clue & Cruds & Face & FeatureTweak & actionable_recourse & causal_recourse & cchvae & do_calculus & focus & growingspheres & wachter  \\\\ MLP & $0.14 \\pm 0.14$ & $0.14 \\pm 0.14$ & - & - & $0.43 \\pm 0.43$ & - & $0.43 \\pm 0.43$ & - & - & $0.43 \\pm 0.43$ & $0.14 \\pm 0.14$ \\\\ forest & - & - & - & $0.63 \\pm 0.42$ & - & - & - & - & - & - & - \\\\ linear & $0.14 \\pm 0.14$ & $0.14 \\pm 0.14$ & - & - & $0.42 \\pm 0.43$ & - & $0.43 \\pm 0.43$ & - & - & $0.43 \\pm 0.43$ & $0.14 \\pm 0.14$ \\\\ \n",
      "RELATION\n",
      "& Clue & Cruds & Face & FeatureTweak & actionable_recourse & causal_recourse & cchvae & do_calculus & focus & growingspheres & wachter  \\\\ MLP & $0.15 \\pm 0.14$ & $0.14 \\pm 0.14$ & - & - & $0.43 \\pm 0.43$ & - & $0.43 \\pm 0.43$ & - & - & $0.43 \\pm 0.43$ & $0.15 \\pm 0.15$ \\\\ forest & - & - & - & $0.65 \\pm 0.4$ & - & - & - & - & - & - & - \\\\ linear & $0.15 \\pm 0.14$ & $0.14 \\pm 0.14$ & - & - & $0.43 \\pm 0.43$ & - & $0.43 \\pm 0.43$ & - & - & $0.43 \\pm 0.43$ & $0.14 \\pm 0.14$ \\\\ \n",
      "Starting sanity-3-lin\n",
      "OUPUT\n",
      "& Clue & Cruds & Face & FeatureTweak & actionable_recourse & causal_recourse & cchvae & do_calculus & focus & growingspheres & wachter  \\\\ MLP & $0.18 \\pm 0.19$ & $0.17 \\pm 0.17$ & - & - & $0.4 \\pm 0.49$ & $0.6 \\pm 0.49$ & $0.52 \\pm 0.5$ & $0.63 \\pm 0.48$ & - & $0.5 \\pm 0.5$ & $0.17 \\pm 0.17$ \\\\ forest & - & - & - & $0.71 \\pm 0.45$ & - & - & - & - & $0.81 \\pm 0.21$ & - & - \\\\ linear & $0.17 \\pm 0.17$ & $0.16 \\pm 0.17$ & $0.5 \\pm 0.5$ & - & $0.5 \\pm 0.5$ & $0.53 \\pm 0.5$ & $0.51 \\pm 0.5$ & $0.56 \\pm 0.5$ & - & $0.5 \\pm 0.5$ & $0.17 \\pm 0.17$ \\\\ \n",
      "RELATION\n",
      "& Clue & Cruds & Face & FeatureTweak & actionable_recourse & causal_recourse & cchvae & do_calculus & focus & growingspheres & wachter  \\\\ MLP & $0.18 \\pm 0.19$ & $0.17 \\pm 0.17$ & - & - & $0.6 \\pm 0.49$ & $0.57 \\pm 0.5$ & $0.53 \\pm 0.5$ & $0.6 \\pm 0.49$ & - & $0.5 \\pm 0.5$ & $0.17 \\pm 0.17$ \\\\ forest & - & - & - & $0.71 \\pm 0.45$ & - & - & - & - & $0.83 \\pm 0.18$ & - & - \\\\ linear & $0.17 \\pm 0.17$ & $0.17 \\pm 0.17$ & $0.5 \\pm 0.5$ & - & $0.5 \\pm 0.5$ & $0.53 \\pm 0.5$ & $0.53 \\pm 0.5$ & $0.54 \\pm 0.5$ & - & $0.5 \\pm 0.5$ & $0.17 \\pm 0.17$ \\\\ \n",
      "Starting sanity-3-non-add\n",
      "OUPUT\n",
      "& Clue & Cruds & Face & FeatureTweak & actionable_recourse & causal_recourse & cchvae & do_calculus & focus & growingspheres & wachter  \\\\ MLP & $0.15 \\pm 0.17$ & $0.0 \\pm 0.0$ & - & - & - & $0.51 \\pm 0.37$ & $0.69 \\pm 0.36$ & $0.66 \\pm 0.33$ & - & $0.33 \\pm 0.33$ & $0.16 \\pm 0.17$ \\\\ forest & - & - & - & $0.5 \\pm 0.37$ & - & - & - & - & $0.8 \\pm 0.29$ & - & - \\\\ linear & $0.14 \\pm 0.16$ & $0.16 \\pm 0.17$ & - & - & - & $0.39 \\pm 0.36$ & $0.35 \\pm 0.35$ & $0.43 \\pm 0.37$ & - & $0.33 \\pm 0.33$ & $0.17 \\pm 0.17$ \\\\ \n",
      "RELATION\n",
      "& Clue & Cruds & Face & FeatureTweak & actionable_recourse & causal_recourse & cchvae & do_calculus & focus & growingspheres & wachter  \\\\ MLP & $0.27 \\pm 0.28$ & $0.33 \\pm 0.0$ & - & - & - & $0.53 \\pm 0.37$ & $0.66 \\pm 0.37$ & $0.64 \\pm 0.34$ & - & $0.33 \\pm 0.33$ & $0.17 \\pm 0.17$ \\\\ forest & - & - & - & $0.75 \\pm 0.28$ & - & - & - & - & $0.82 \\pm 0.27$ & - & - \\\\ linear & $0.19 \\pm 0.16$ & $0.17 \\pm 0.17$ & - & - & - & $0.36 \\pm 0.35$ & $0.36 \\pm 0.35$ & $0.4 \\pm 0.36$ & - & $0.33 \\pm 0.33$ & $0.17 \\pm 0.17$ \\\\ \n",
      "Starting sanity-3-non-lin\n",
      "OUPUT\n",
      "& Clue & Cruds & Face & FeatureTweak & actionable_recourse & causal_recourse & cchvae & do_calculus & focus & growingspheres & wachter  \\\\ MLP & $0.17 \\pm 0.17$ & $0.17 \\pm 0.17$ & - & - & $0.5 \\pm 0.5$ & $0.55 \\pm 0.5$ & $0.66 \\pm 0.47$ & $0.77 \\pm 0.42$ & - & $0.5 \\pm 0.5$ & $0.16 \\pm 0.17$ \\\\ forest & - & - & - & $0.89 \\pm 0.31$ & - & - & - & - & $0.95 \\pm 0.12$ & - & - \\\\ linear & $0.16 \\pm 0.17$ & $0.16 \\pm 0.17$ & - & - & $nan \\pm nan$ & $0.5 \\pm 0.5$ & $0.5 \\pm 0.5$ & $0.65 \\pm 0.48$ & - & $0.5 \\pm 0.5$ & $0.16 \\pm 0.17$ \\\\ \n",
      "RELATION\n",
      "& Clue & Cruds & Face & FeatureTweak & actionable_recourse & causal_recourse & cchvae & do_calculus & focus & growingspheres & wachter  \\\\ MLP & $0.17 \\pm 0.17$ & $0.17 \\pm 0.17$ & - & - & $0.5 \\pm 0.5$ & $0.54 \\pm 0.5$ & $0.63 \\pm 0.48$ & $0.88 \\pm 0.32$ & - & $0.5 \\pm 0.5$ & $0.17 \\pm 0.17$ \\\\ forest & - & - & - & $1.0 \\pm 0.0$ & - & - & - & - & $0.92 \\pm 0.17$ & - & - \\\\ linear & $0.18 \\pm 0.17$ & $0.17 \\pm 0.17$ & - & - & $nan \\pm nan$ & $0.5 \\pm 0.5$ & $0.5 \\pm 0.5$ & $0.72 \\pm 0.45$ & - & $0.5 \\pm 0.5$ & $0.17 \\pm 0.17$ \\\\ \n"
     ]
    }
   ],
   "source": [
    "# Datasetwise\n",
    "\n",
    "datasets = np.unique(df['dataset'])\n",
    "models = np.unique(df['model'])\n",
    "cf = np.unique(df['CF'])\n",
    "print(cf)\n",
    "for d in datasets:\n",
    "    print(f'Starting {d}')\n",
    "    s_output=''\n",
    "    s_relation=''\n",
    "    sample=df[df['dataset']==d]\n",
    "    for c in cf: \n",
    "        s_output+=f'& {c} '\n",
    "        s_relation+=f'& {c} '\n",
    "    s_output+=' \\\\\\\\ '\n",
    "    s_relation+=' \\\\\\\\ '\n",
    "    for m in models:\n",
    "        s_output+= f'{m}'\n",
    "        s_relation+= f'{m}'\n",
    "        sample_model = sample[sample['model']==m]\n",
    "        for c in cf:\n",
    "            #print(c)\n",
    "            try:\n",
    "                mean=sample_model[sample_model['CF']==c]['semantic_mean'].values[0]\n",
    "                std=sample_model[sample_model['CF']==c]['semantic_std'].values[0]\n",
    "                s_output+= f' & ${round(mean,2)} \\pm {round(std,2)}$'\n",
    "                mean=sample_model[sample_model['CF']==c]['relationship_mean'].values[0]\n",
    "                std=sample_model[sample_model['CF']==c]['relationship_std'].values[0]\n",
    "                s_relation+= f' & ${round(mean,2)} \\pm {round(std,2)}$'\n",
    "            except: \n",
    "                s_output+= f' & -'\n",
    "                s_relation+= f' & -'\n",
    "        s_output+=' \\\\\\\\ '\n",
    "        s_relation+=' \\\\\\\\ '\n",
    "    print('OUPUT')\n",
    "    print(s_output)\n",
    "    print('RELATION')\n",
    "    print(s_relation)\n",
    "\n"
   ]
  }
 ],
 "metadata": {
  "kernelspec": {
   "display_name": "CARLA-7s4zdYsf",
   "language": "python",
   "name": "python3"
  },
  "language_info": {
   "codemirror_mode": {
    "name": "ipython",
    "version": 3
   },
   "file_extension": ".py",
   "mimetype": "text/x-python",
   "name": "python",
   "nbconvert_exporter": "python",
   "pygments_lexer": "ipython3",
   "version": "3.7.16 (default, Dec  7 2022, 01:12:33) \n[GCC 11.3.0]"
  },
  "orig_nbformat": 4,
  "vscode": {
   "interpreter": {
    "hash": "05951db0b7a8fb6113eda4ec48ea77d75ed33c5045908c39c7a5079655347ffc"
   }
  }
 },
 "nbformat": 4,
 "nbformat_minor": 2
}
