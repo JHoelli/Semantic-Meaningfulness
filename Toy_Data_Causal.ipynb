{
 "cells": [
  {
   "cell_type": "code",
   "execution_count": 1,
   "metadata": {},
   "outputs": [
    {
     "name": "stderr",
     "output_type": "stream",
     "text": [
      "/Users/aniekmarkus/opt/anaconda3/envs/Semantic_Meaningfulness_CF/lib/python3.7/site-packages/tensorflow/python/framework/dtypes.py:516: FutureWarning: Passing (type, 1) or '1type' as a synonym of type is deprecated; in a future version of numpy, it will be understood as (type, (1,)) / '(1,)type'.\n",
      "  _np_qint8 = np.dtype([(\"qint8\", np.int8, 1)])\n",
      "/Users/aniekmarkus/opt/anaconda3/envs/Semantic_Meaningfulness_CF/lib/python3.7/site-packages/tensorflow/python/framework/dtypes.py:517: FutureWarning: Passing (type, 1) or '1type' as a synonym of type is deprecated; in a future version of numpy, it will be understood as (type, (1,)) / '(1,)type'.\n",
      "  _np_quint8 = np.dtype([(\"quint8\", np.uint8, 1)])\n",
      "/Users/aniekmarkus/opt/anaconda3/envs/Semantic_Meaningfulness_CF/lib/python3.7/site-packages/tensorflow/python/framework/dtypes.py:518: FutureWarning: Passing (type, 1) or '1type' as a synonym of type is deprecated; in a future version of numpy, it will be understood as (type, (1,)) / '(1,)type'.\n",
      "  _np_qint16 = np.dtype([(\"qint16\", np.int16, 1)])\n",
      "/Users/aniekmarkus/opt/anaconda3/envs/Semantic_Meaningfulness_CF/lib/python3.7/site-packages/tensorflow/python/framework/dtypes.py:519: FutureWarning: Passing (type, 1) or '1type' as a synonym of type is deprecated; in a future version of numpy, it will be understood as (type, (1,)) / '(1,)type'.\n",
      "  _np_quint16 = np.dtype([(\"quint16\", np.uint16, 1)])\n",
      "/Users/aniekmarkus/opt/anaconda3/envs/Semantic_Meaningfulness_CF/lib/python3.7/site-packages/tensorflow/python/framework/dtypes.py:520: FutureWarning: Passing (type, 1) or '1type' as a synonym of type is deprecated; in a future version of numpy, it will be understood as (type, (1,)) / '(1,)type'.\n",
      "  _np_qint32 = np.dtype([(\"qint32\", np.int32, 1)])\n",
      "/Users/aniekmarkus/opt/anaconda3/envs/Semantic_Meaningfulness_CF/lib/python3.7/site-packages/tensorflow/python/framework/dtypes.py:525: FutureWarning: Passing (type, 1) or '1type' as a synonym of type is deprecated; in a future version of numpy, it will be understood as (type, (1,)) / '(1,)type'.\n",
      "  np_resource = np.dtype([(\"resource\", np.ubyte, 1)])\n",
      "/Users/aniekmarkus/opt/anaconda3/envs/Semantic_Meaningfulness_CF/lib/python3.7/site-packages/tensorboard/compat/tensorflow_stub/dtypes.py:541: FutureWarning: Passing (type, 1) or '1type' as a synonym of type is deprecated; in a future version of numpy, it will be understood as (type, (1,)) / '(1,)type'.\n",
      "  _np_qint8 = np.dtype([(\"qint8\", np.int8, 1)])\n",
      "/Users/aniekmarkus/opt/anaconda3/envs/Semantic_Meaningfulness_CF/lib/python3.7/site-packages/tensorboard/compat/tensorflow_stub/dtypes.py:542: FutureWarning: Passing (type, 1) or '1type' as a synonym of type is deprecated; in a future version of numpy, it will be understood as (type, (1,)) / '(1,)type'.\n",
      "  _np_quint8 = np.dtype([(\"quint8\", np.uint8, 1)])\n",
      "/Users/aniekmarkus/opt/anaconda3/envs/Semantic_Meaningfulness_CF/lib/python3.7/site-packages/tensorboard/compat/tensorflow_stub/dtypes.py:543: FutureWarning: Passing (type, 1) or '1type' as a synonym of type is deprecated; in a future version of numpy, it will be understood as (type, (1,)) / '(1,)type'.\n",
      "  _np_qint16 = np.dtype([(\"qint16\", np.int16, 1)])\n",
      "/Users/aniekmarkus/opt/anaconda3/envs/Semantic_Meaningfulness_CF/lib/python3.7/site-packages/tensorboard/compat/tensorflow_stub/dtypes.py:544: FutureWarning: Passing (type, 1) or '1type' as a synonym of type is deprecated; in a future version of numpy, it will be understood as (type, (1,)) / '(1,)type'.\n",
      "  _np_quint16 = np.dtype([(\"quint16\", np.uint16, 1)])\n",
      "/Users/aniekmarkus/opt/anaconda3/envs/Semantic_Meaningfulness_CF/lib/python3.7/site-packages/tensorboard/compat/tensorflow_stub/dtypes.py:545: FutureWarning: Passing (type, 1) or '1type' as a synonym of type is deprecated; in a future version of numpy, it will be understood as (type, (1,)) / '(1,)type'.\n",
      "  _np_qint32 = np.dtype([(\"qint32\", np.int32, 1)])\n",
      "/Users/aniekmarkus/opt/anaconda3/envs/Semantic_Meaningfulness_CF/lib/python3.7/site-packages/tensorboard/compat/tensorflow_stub/dtypes.py:550: FutureWarning: Passing (type, 1) or '1type' as a synonym of type is deprecated; in a future version of numpy, it will be understood as (type, (1,)) / '(1,)type'.\n",
      "  np_resource = np.dtype([(\"resource\", np.ubyte, 1)])\n",
      "Using TensorFlow backend.\n"
     ]
    },
    {
     "name": "stdout",
     "output_type": "stream",
     "text": [
      "[INFO] Using Python-MIP package version 1.12.0 [model.py <module>]\n"
     ]
    }
   ],
   "source": [
    "import importlib\n",
    "\n",
    "import pandas as pd\n",
    "from IPython.display import display\n",
    "\n",
    "import warnings\n",
    "\n",
    "import Semantic_Maningfullness\n",
    "\n",
    "warnings.filterwarnings('ignore')\n",
    "\n",
    "from carla.data.causal_model import CausalModel"
   ]
  },
  {
   "cell_type": "code",
   "execution_count": 12,
   "metadata": {},
   "outputs": [
    {
     "data": {
      "text/plain": "      label        x1        x2        x3\n0       0.0 -0.119061  0.253698 -0.604435\n1       1.0 -0.666351  0.992083  1.301794\n2       1.0  1.900445 -0.990136  0.594239\n3       0.0  0.251406 -1.227722 -0.464812\n4       1.0 -1.435559  1.147483  1.217657\n...     ...       ...       ...       ...\n9995    1.0 -2.090563  3.183413  0.547112\n9996    0.0  1.548605 -2.047245 -2.166661\n9997    0.0  1.597236 -1.536243 -1.848874\n9998    1.0  1.697413 -1.034579 -0.731522\n9999    1.0  2.381598 -1.768641  1.383144\n\n[10000 rows x 4 columns]",
      "text/html": "<div>\n<style scoped>\n    .dataframe tbody tr th:only-of-type {\n        vertical-align: middle;\n    }\n\n    .dataframe tbody tr th {\n        vertical-align: top;\n    }\n\n    .dataframe thead th {\n        text-align: right;\n    }\n</style>\n<table border=\"1\" class=\"dataframe\">\n  <thead>\n    <tr style=\"text-align: right;\">\n      <th></th>\n      <th>label</th>\n      <th>x1</th>\n      <th>x2</th>\n      <th>x3</th>\n    </tr>\n  </thead>\n  <tbody>\n    <tr>\n      <th>0</th>\n      <td>0.0</td>\n      <td>-0.119061</td>\n      <td>0.253698</td>\n      <td>-0.604435</td>\n    </tr>\n    <tr>\n      <th>1</th>\n      <td>1.0</td>\n      <td>-0.666351</td>\n      <td>0.992083</td>\n      <td>1.301794</td>\n    </tr>\n    <tr>\n      <th>2</th>\n      <td>1.0</td>\n      <td>1.900445</td>\n      <td>-0.990136</td>\n      <td>0.594239</td>\n    </tr>\n    <tr>\n      <th>3</th>\n      <td>0.0</td>\n      <td>0.251406</td>\n      <td>-1.227722</td>\n      <td>-0.464812</td>\n    </tr>\n    <tr>\n      <th>4</th>\n      <td>1.0</td>\n      <td>-1.435559</td>\n      <td>1.147483</td>\n      <td>1.217657</td>\n    </tr>\n    <tr>\n      <th>...</th>\n      <td>...</td>\n      <td>...</td>\n      <td>...</td>\n      <td>...</td>\n    </tr>\n    <tr>\n      <th>9995</th>\n      <td>1.0</td>\n      <td>-2.090563</td>\n      <td>3.183413</td>\n      <td>0.547112</td>\n    </tr>\n    <tr>\n      <th>9996</th>\n      <td>0.0</td>\n      <td>1.548605</td>\n      <td>-2.047245</td>\n      <td>-2.166661</td>\n    </tr>\n    <tr>\n      <th>9997</th>\n      <td>0.0</td>\n      <td>1.597236</td>\n      <td>-1.536243</td>\n      <td>-1.848874</td>\n    </tr>\n    <tr>\n      <th>9998</th>\n      <td>1.0</td>\n      <td>1.697413</td>\n      <td>-1.034579</td>\n      <td>-0.731522</td>\n    </tr>\n    <tr>\n      <th>9999</th>\n      <td>1.0</td>\n      <td>2.381598</td>\n      <td>-1.768641</td>\n      <td>1.383144</td>\n    </tr>\n  </tbody>\n</table>\n<p>10000 rows × 4 columns</p>\n</div>"
     },
     "metadata": {},
     "output_type": "display_data"
    }
   ],
   "source": [
    "import pandas as pd\n",
    "\n",
    "# generate data\n",
    "scm = CausalModel(\"sanity-3-lin\")\n",
    "dataset = scm.generate_dataset(10000)\n",
    "\n",
    "# save data\n",
    "# dataset.df.to_csv('generate_dataset.csv')\n",
    "\n",
    "display(dataset.df)"
   ]
  },
  {
   "cell_type": "code",
   "execution_count": 13,
   "outputs": [
    {
     "data": {
      "image/svg+xml": "<?xml version=\"1.0\" encoding=\"UTF-8\" standalone=\"no\"?>\n<!DOCTYPE svg PUBLIC \"-//W3C//DTD SVG 1.1//EN\"\n \"http://www.w3.org/Graphics/SVG/1.1/DTD/svg11.dtd\">\n<!-- Generated by graphviz version 6.0.1 (20220911.1526)\n -->\n<!-- Pages: 1 -->\n<svg width=\"89pt\" height=\"188pt\"\n viewBox=\"0.00 0.00 89.00 188.00\" xmlns=\"http://www.w3.org/2000/svg\" xmlns:xlink=\"http://www.w3.org/1999/xlink\">\n<g id=\"graph0\" class=\"graph\" transform=\"scale(1 1) rotate(0) translate(4 184)\">\n<polygon fill=\"white\" stroke=\"none\" points=\"-4,4 -4,-184 85,-184 85,4 -4,4\"/>\n<!-- x2 -->\n<g id=\"node1\" class=\"node\">\n<title>x2</title>\n<ellipse fill=\"none\" stroke=\"black\" cx=\"27\" cy=\"-90\" rx=\"27\" ry=\"18\"/>\n<text text-anchor=\"middle\" x=\"27\" y=\"-86.3\" font-family=\"Times,serif\" font-size=\"14.00\">x2</text>\n</g>\n<!-- x3 -->\n<g id=\"node2\" class=\"node\">\n<title>x3</title>\n<ellipse fill=\"none\" stroke=\"black\" cx=\"54\" cy=\"-18\" rx=\"27\" ry=\"18\"/>\n<text text-anchor=\"middle\" x=\"54\" y=\"-14.3\" font-family=\"Times,serif\" font-size=\"14.00\">x3</text>\n</g>\n<!-- x2&#45;&gt;x3 -->\n<g id=\"edge3\" class=\"edge\">\n<title>x2&#45;&gt;x3</title>\n<path fill=\"none\" stroke=\"black\" d=\"M33.4,-72.41C36.51,-64.34 40.33,-54.43 43.83,-45.35\"/>\n<polygon fill=\"black\" stroke=\"black\" points=\"47.13,-46.55 47.46,-35.96 40.6,-44.03 47.13,-46.55\"/>\n</g>\n<!-- x1 -->\n<g id=\"node3\" class=\"node\">\n<title>x1</title>\n<ellipse fill=\"none\" stroke=\"black\" cx=\"54\" cy=\"-162\" rx=\"27\" ry=\"18\"/>\n<text text-anchor=\"middle\" x=\"54\" y=\"-158.3\" font-family=\"Times,serif\" font-size=\"14.00\">x1</text>\n</g>\n<!-- x1&#45;&gt;x2 -->\n<g id=\"edge1\" class=\"edge\">\n<title>x1&#45;&gt;x2</title>\n<path fill=\"none\" stroke=\"black\" d=\"M47.6,-144.41C44.49,-136.34 40.67,-126.43 37.17,-117.35\"/>\n<polygon fill=\"black\" stroke=\"black\" points=\"40.4,-116.03 33.54,-107.96 33.87,-118.55 40.4,-116.03\"/>\n</g>\n<!-- x1&#45;&gt;x3 -->\n<g id=\"edge2\" class=\"edge\">\n<title>x1&#45;&gt;x3</title>\n<path fill=\"none\" stroke=\"black\" d=\"M57.65,-143.91C59.68,-133.57 61.98,-120.09 63,-108 64.34,-92.06 64.34,-87.94 63,-72 62.28,-63.5 60.93,-54.31 59.49,-46.01\"/>\n<polygon fill=\"black\" stroke=\"black\" points=\"62.91,-45.29 57.65,-36.09 56.03,-46.56 62.91,-45.29\"/>\n</g>\n</g>\n</svg>\n",
      "text/plain": "<graphviz.graphs.Digraph at 0x7f86aeba9fd0>"
     },
     "execution_count": 13,
     "metadata": {},
     "output_type": "execute_result"
    }
   ],
   "source": [
    "#Visualize the model\n",
    "scm.cgm.draw()"
   ],
   "metadata": {
    "collapsed": false,
    "pycharm": {
     "name": "#%%\n"
    }
   }
  },
  {
   "cell_type": "code",
   "execution_count": 14,
   "metadata": {},
   "outputs": [
    {
     "name": "stdout",
     "output_type": "stream",
     "text": [
      "balance on test set 0.5278666666666667, balance on test set 0.5252\n",
      "Epoch 0/9\n",
      "----------\n",
      "train Loss: 0.3921 Acc: 0.8313\n",
      "\n",
      "test Loss: 0.3533 Acc: 0.8460\n",
      "\n",
      "Epoch 1/9\n",
      "----------\n",
      "train Loss: 0.3694 Acc: 0.8361\n",
      "\n",
      "test Loss: 0.3434 Acc: 0.8536\n",
      "\n",
      "Epoch 2/9\n",
      "----------\n",
      "train Loss: 0.3661 Acc: 0.8377\n",
      "\n",
      "test Loss: 0.3526 Acc: 0.8436\n",
      "\n",
      "Epoch 3/9\n",
      "----------\n",
      "train Loss: 0.3625 Acc: 0.8364\n",
      "\n",
      "test Loss: 0.3427 Acc: 0.8528\n",
      "\n",
      "Epoch 4/9\n",
      "----------\n",
      "train Loss: 0.3643 Acc: 0.8377\n",
      "\n",
      "test Loss: 0.3493 Acc: 0.8424\n",
      "\n",
      "Epoch 5/9\n",
      "----------\n",
      "train Loss: 0.3626 Acc: 0.8399\n",
      "\n",
      "test Loss: 0.3518 Acc: 0.8436\n",
      "\n",
      "Epoch 6/9\n",
      "----------\n",
      "train Loss: 0.3614 Acc: 0.8401\n",
      "\n",
      "test Loss: 0.3443 Acc: 0.8500\n",
      "\n",
      "Epoch 7/9\n",
      "----------\n",
      "train Loss: 0.3617 Acc: 0.8380\n",
      "\n",
      "test Loss: 0.3390 Acc: 0.8488\n",
      "\n",
      "Epoch 8/9\n",
      "----------\n",
      "train Loss: 0.3596 Acc: 0.8388\n",
      "\n",
      "test Loss: 0.3414 Acc: 0.8500\n",
      "\n",
      "Epoch 9/9\n",
      "----------\n",
      "train Loss: 0.3592 Acc: 0.8416\n",
      "\n",
      "test Loss: 0.3471 Acc: 0.8476\n",
      "\n"
     ]
    }
   ],
   "source": [
    "from carla.models.catalog import MLModelCatalog\n",
    "\n",
    "training_params = {\"lr\": 0.01, \"epochs\": 10, \"batch_size\": 16, \"hidden_size\": [18, 9, 3]}\n",
    "\n",
    "ml_model = MLModelCatalog(\n",
    "    dataset, model_type=\"ann\", load_online=False, backend=\"pytorch\"\n",
    ")\n",
    "ml_model.train(\n",
    "    learning_rate=training_params[\"lr\"],\n",
    "    epochs=training_params[\"epochs\"],\n",
    "    batch_size=training_params[\"batch_size\"],\n",
    "    hidden_size=training_params[\"hidden_size\"],\n",
    "    force_train=True\n",
    ")\n"
   ]
  },
  {
   "cell_type": "code",
   "execution_count": 32,
   "metadata": {},
   "outputs": [
    {
     "name": "stdout",
     "output_type": "stream",
     "text": [
      "   label        x1        x2        x3\n",
      "0    0.0 -0.119061  0.253698 -0.604435\n",
      "1    0.0  0.251406 -1.227722 -0.464812\n",
      "2    0.0 -1.428555  0.418856  0.088319\n",
      "3    0.0 -2.198140  2.342478 -1.665151\n",
      "4    0.0 -1.042498  1.295428 -1.133146\n",
      "5    0.0  1.693472 -0.478879 -1.673203\n",
      "6    0.0  0.598839 -1.163336 -0.097240\n",
      "7    0.0  1.261854 -0.480784 -1.574896\n",
      "8    0.0 -2.265550  1.199628 -0.295670\n",
      "9    0.0  0.831968 -2.233957  0.062286\n"
     ]
    }
   ],
   "source": [
    "from carla.models.negative_instances import predict_negative_instances\n",
    "# get factuals\n",
    "factuals = predict_negative_instances(ml_model, dataset.df)\n",
    "test_factual = factuals.iloc[:10].reset_index(drop=True)\n",
    "\n",
    "print(test_factual)"
   ]
  },
  {
   "cell_type": "code",
   "execution_count": 33,
   "metadata": {},
   "outputs": [
    {
     "data": {
      "text/plain": "        x1       x2       x3\n0  1.62116  0.03039  0.00000\n1  0.00000  0.03039  0.00000\n2 -0.69436  0.03039  1.05746\n3 -0.69436  3.07480  0.00000\n4  0.00000  3.07480  0.00000\n5  0.00000  0.03039  0.00000\n6  0.00000  0.03039  0.00000\n7  1.62116  0.03039  0.00000\n8  0.00000  3.07480  0.00000\n9  0.00000  0.03039  0.00000",
      "text/html": "<div>\n<style scoped>\n    .dataframe tbody tr th:only-of-type {\n        vertical-align: middle;\n    }\n\n    .dataframe tbody tr th {\n        vertical-align: top;\n    }\n\n    .dataframe thead th {\n        text-align: right;\n    }\n</style>\n<table border=\"1\" class=\"dataframe\">\n  <thead>\n    <tr style=\"text-align: right;\">\n      <th></th>\n      <th>x1</th>\n      <th>x2</th>\n      <th>x3</th>\n    </tr>\n  </thead>\n  <tbody>\n    <tr>\n      <th>0</th>\n      <td>1.62116</td>\n      <td>0.03039</td>\n      <td>0.00000</td>\n    </tr>\n    <tr>\n      <th>1</th>\n      <td>0.00000</td>\n      <td>0.03039</td>\n      <td>0.00000</td>\n    </tr>\n    <tr>\n      <th>2</th>\n      <td>-0.69436</td>\n      <td>0.03039</td>\n      <td>1.05746</td>\n    </tr>\n    <tr>\n      <th>3</th>\n      <td>-0.69436</td>\n      <td>3.07480</td>\n      <td>0.00000</td>\n    </tr>\n    <tr>\n      <th>4</th>\n      <td>0.00000</td>\n      <td>3.07480</td>\n      <td>0.00000</td>\n    </tr>\n    <tr>\n      <th>5</th>\n      <td>0.00000</td>\n      <td>0.03039</td>\n      <td>0.00000</td>\n    </tr>\n    <tr>\n      <th>6</th>\n      <td>0.00000</td>\n      <td>0.03039</td>\n      <td>0.00000</td>\n    </tr>\n    <tr>\n      <th>7</th>\n      <td>1.62116</td>\n      <td>0.03039</td>\n      <td>0.00000</td>\n    </tr>\n    <tr>\n      <th>8</th>\n      <td>0.00000</td>\n      <td>3.07480</td>\n      <td>0.00000</td>\n    </tr>\n    <tr>\n      <th>9</th>\n      <td>0.00000</td>\n      <td>0.03039</td>\n      <td>0.00000</td>\n    </tr>\n  </tbody>\n</table>\n</div>"
     },
     "metadata": {},
     "output_type": "display_data"
    },
    {
     "data": {
      "text/plain": "         x1        x2        x3\n0  1.502099  0.284088 -0.604435\n1  0.251406 -1.197332 -0.464812\n2 -2.122915  0.449246  1.145779\n3 -2.892500  5.417278 -1.665151\n4 -1.042498  4.370228 -1.133146\n5  1.693472 -0.448489 -1.673203\n6  0.598839 -1.132946 -0.097240\n7  2.883014 -0.450394 -1.574896\n8 -2.265550  4.274428 -0.295670\n9  0.831968 -2.203567  0.062286",
      "text/html": "<div>\n<style scoped>\n    .dataframe tbody tr th:only-of-type {\n        vertical-align: middle;\n    }\n\n    .dataframe tbody tr th {\n        vertical-align: top;\n    }\n\n    .dataframe thead th {\n        text-align: right;\n    }\n</style>\n<table border=\"1\" class=\"dataframe\">\n  <thead>\n    <tr style=\"text-align: right;\">\n      <th></th>\n      <th>x1</th>\n      <th>x2</th>\n      <th>x3</th>\n    </tr>\n  </thead>\n  <tbody>\n    <tr>\n      <th>0</th>\n      <td>1.502099</td>\n      <td>0.284088</td>\n      <td>-0.604435</td>\n    </tr>\n    <tr>\n      <th>1</th>\n      <td>0.251406</td>\n      <td>-1.197332</td>\n      <td>-0.464812</td>\n    </tr>\n    <tr>\n      <th>2</th>\n      <td>-2.122915</td>\n      <td>0.449246</td>\n      <td>1.145779</td>\n    </tr>\n    <tr>\n      <th>3</th>\n      <td>-2.892500</td>\n      <td>5.417278</td>\n      <td>-1.665151</td>\n    </tr>\n    <tr>\n      <th>4</th>\n      <td>-1.042498</td>\n      <td>4.370228</td>\n      <td>-1.133146</td>\n    </tr>\n    <tr>\n      <th>5</th>\n      <td>1.693472</td>\n      <td>-0.448489</td>\n      <td>-1.673203</td>\n    </tr>\n    <tr>\n      <th>6</th>\n      <td>0.598839</td>\n      <td>-1.132946</td>\n      <td>-0.097240</td>\n    </tr>\n    <tr>\n      <th>7</th>\n      <td>2.883014</td>\n      <td>-0.450394</td>\n      <td>-1.574896</td>\n    </tr>\n    <tr>\n      <th>8</th>\n      <td>-2.265550</td>\n      <td>4.274428</td>\n      <td>-0.295670</td>\n    </tr>\n    <tr>\n      <th>9</th>\n      <td>0.831968</td>\n      <td>-2.203567</td>\n      <td>0.062286</td>\n    </tr>\n  </tbody>\n</table>\n</div>"
     },
     "metadata": {},
     "output_type": "display_data"
    }
   ],
   "source": [
    "from carla.recourse_methods.catalog.causal_recourse import (\n",
    "    CausalRecourse,\n",
    "    constraints,\n",
    "    samplers,\n",
    ")\n",
    "hyperparams = {\n",
    "    \"optimization_approach\": \"brute_force\",\n",
    "    \"num_samples\": 10,\n",
    "    \"scm\": scm,\n",
    "    \"constraint_handle\": constraints.point_constraint,\n",
    "    \"sampler_handle\": samplers.sample_true_m0,\n",
    "}\n",
    "\n",
    "# structural counterfactual (SCF)\n",
    "cfs = CausalRecourse(ml_model, hyperparams).get_counterfactuals(test_factual)\n",
    "\n",
    "output = cfs.reset_index(drop=True) - test_factual.loc[:,~test_factual.columns.isin(['label'])].reset_index(drop=True)\n",
    "display(output)\n",
    "display(cfs)"
   ]
  },
  {
   "cell_type": "code",
   "execution_count": 34,
   "metadata": {},
   "outputs": [
    {
     "name": "stdout",
     "output_type": "stream",
     "text": [
      "cflabel [[0.89433897]]\n",
      "factuals_label [[0.28501534]]\n",
      "threshold [[0.86855874]]\n",
      "predictions [[0.07585818]]\n",
      "cflabel [[0.05005657]]\n",
      "factuals_label [[0.04643472]]\n",
      "threshold [[0.56381119]]\n",
      "predictions [[0.07585818]]\n",
      "cflabel [[0.19189228]]\n",
      "factuals_label [[0.11540489]]\n",
      "threshold [[0.20742178]]\n",
      "predictions [[0.92414182]]\n",
      "cflabel [[0.72449416]]\n",
      "factuals_label [[0.02291907]]\n",
      "threshold [[0.00338366]]\n",
      "predictions [[0.92414182]]\n",
      "cflabel [[0.97037154]]\n",
      "factuals_label [[0.12537704]]\n",
      "threshold [[0.4750045]]\n",
      "predictions [[0.92414182]]\n",
      "cflabel [[0.328817]]\n",
      "factuals_label [[0.31458545]]\n",
      "threshold [[0.46089458]]\n",
      "predictions [[0.07585818]]\n",
      "cflabel [[0.24975747]]\n",
      "factuals_label [[0.23713697]]\n",
      "threshold [[0.08821066]]\n",
      "predictions [[0.07585818]]\n",
      "cflabel [[0.8619701]]\n",
      "factuals_label [[0.17405397]]\n",
      "threshold [[0.50958299]]\n",
      "predictions [[0.07585818]]\n",
      "cflabel [[0.9232783]]\n",
      "factuals_label [[0.04625325]]\n",
      "threshold [[0.31854187]]\n",
      "predictions [[0.92414182]]\n",
      "cflabel [[0.09749815]]\n",
      "factuals_label [[0.09428162]]\n",
      "threshold [[0.79786812]]\n",
      "predictions [[0.07585818]]\n"
     ]
    }
   ],
   "source": [
    "import numpy as np\n",
    "import importlib\n",
    "from Semantic_Maningfullness import Sematic\n",
    "importlib.reload(Semantic_Maningfullness)\n",
    "\n",
    "mapping_dict={ \n",
    "      'u1': 'x1',\n",
    "      'u2': 'x2',\n",
    "      'u3': 'x3',\n",
    "      }\n",
    "results=[]\n",
    "i=0\n",
    "\n",
    "test_factual = test_factual.loc[:,~test_factual.columns.isin(['label'])]\n",
    "\n",
    "for a in test_factual.index:\n",
    "\n",
    "    if str(cfs.iloc[i]['x1'])=='nan':\n",
    "        pass\n",
    "    else:\n",
    "        sem=Sematic(ml_model,scm,mapping_dict)\n",
    "        try:\n",
    "            res=sem.get_evaluation(test_factual.iloc[a],cfs.iloc[i])['semantic'][0]\n",
    "            results.append( res)\n",
    "        except: \n",
    "            pass\n",
    "    i=i+1\n"
   ]
  },
  {
   "cell_type": "code",
   "execution_count": 35,
   "metadata": {},
   "outputs": [
    {
     "name": "stdout",
     "output_type": "stream",
     "text": [
      "Semantic results 0.6 +/- 0.48989794855663565\n"
     ]
    }
   ],
   "source": [
    "# Averaging of the reults\n",
    "mean= np.mean(results)\n",
    "std= np.std(results)\n",
    "print(f'Semantic results {mean} +/- {std}')"
   ]
  },
  {
   "cell_type": "code",
   "execution_count": 10,
   "metadata": {},
   "outputs": [
    {
     "name": "stdout",
     "output_type": "stream",
     "text": [
      "(array([4]),)\n",
      "         x2        x1        x3\n",
      "4 -0.651673 -2.079584  1.510252\n"
     ]
    }
   ],
   "source": [
    "#TODO This is currently not workin \n",
    "# Building Probability Distribution of the output divided into complient/ not complient\n",
    "import seaborn as sns \n",
    "import matplotlib.pyplot as plt \n",
    "# Data Distribution\n",
    "id_comp= np.where(np.array(results)==1)\n",
    "id_not_comp=np.where(np.array(results)==0)\n",
    "print(id_not_comp)\n",
    "if len(id_comp[0])==0:\n",
    "    cfs_complient=[]\n",
    "    cfs_complient_predict=[]\n",
    "    \n",
    "else:\n",
    "    cfs_complient=cfs.iloc[id_comp[0]]\n",
    "    cfs_complient_predict=np.max(ml_model.predict(np.array(cfs_complient.values).reshape(-1,cfs_complient.values.shape[-1])),axis=1)\n",
    "cfs_not_complient=cfs.iloc[id_not_comp[0]]\n",
    "\n",
    "print(cfs_not_complient)\n",
    "\n",
    "\n",
    "# cfs_not_complient_predict=np.max(ml_model.predict(np.array(cfs_not_complient).reshape(-1,7)),axis=1)\n"
   ]
  },
  {
   "cell_type": "code",
   "execution_count": null,
   "metadata": {},
   "outputs": [],
   "source": [
    "#BoxPlot\n",
    "import  numpy\n",
    "from math import nan, isnan\n",
    "cfs_complient_predict = [x for x in cfs_complient_predict if isnan(x) == False]\n",
    "cfs_not_complient_predict = [x for x in cfs_not_complient_predict if isnan(x) == False]\n",
    "cfs_complient_predict=np.array(cfs_complient_predict).reshape(-1)\n",
    "cfs_not_complient_predict=np.array(cfs_not_complient_predict).reshape(-1)\n",
    "\n",
    "print(cfs_not_complient_predict)\n",
    "data = [cfs_complient_predict,cfs_not_complient_predict]\n",
    "\n",
    "fig7, ax7 = plt.subplots()\n",
    "ax7.set_title('Complient vs Not Complient')\n",
    "ax7.boxplot(data)\n",
    "\n",
    "#plt.ylim((0.99,1))\n",
    "plt.show()"
   ]
  }
 ],
 "metadata": {
  "kernelspec": {
   "display_name": "Python 3.7.5 ('CARLA-koH0yuP4')",
   "language": "python",
   "name": "python3"
  },
  "language_info": {
   "codemirror_mode": {
    "name": "ipython",
    "version": 3
   },
   "file_extension": ".py",
   "mimetype": "text/x-python",
   "name": "python",
   "nbconvert_exporter": "python",
   "pygments_lexer": "ipython3",
   "version": "3.7.5"
  },
  "orig_nbformat": 4,
  "vscode": {
   "interpreter": {
    "hash": "0f55703f6f29bf5b3ae6360c8e9dbcc23e2b3226583ad9e6051e8921906faedb"
   }
  }
 },
 "nbformat": 4,
 "nbformat_minor": 2
}